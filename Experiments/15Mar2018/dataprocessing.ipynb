{
 "cells": [
  {
   "cell_type": "code",
   "execution_count": 38,
   "metadata": {},
   "outputs": [
    {
     "name": "stdout",
     "output_type": "stream",
     "text": [
      "<_csv.reader object at 0x7fb8d7ce4f28>\n"
     ]
    }
   ],
   "source": [
    "import csv\n",
    "import numpy as np \n",
    "path ='/home/nrw/Documents/projects_Spring2018/Research/Experiments/15Mar2018/'\n",
    "fname = 'data15Mar2018.csv'\n",
    "file=open(path+fname, \"r\")\n",
    "reader = csv.reader(file)\n",
    "print(reader)\n",
    "zero_pos = np.array([])\n",
    "# calculate change in position = (final pos) - (zero pos)\n",
    "outfname = 'delta_pos.csv'\n",
    "outfile = open(path+outfname,\"w\")\n",
    "\n",
    "for row_index, row in enumerate(reader):\n",
    "    if row_index == 0:\n",
    "        pass\n",
    "    elif row_index % 2 == 1:\n",
    "        zero_pos = np.array([float(j) for j in row[:4]])\n",
    "    elif row_index % 2 == 0:\n",
    "        pos = np.array([float(j) for j in row[:4]]) - zero_pos\n",
    "        astr = ','.join(['%.2f' % num for num in pos])  + \"\\n\"\n",
    "        outfile.write(astr)\n",
    "        \n",
    "file.close()\n",
    "outfile.close()\n",
    "        \n",
    "#for line in reader:\n",
    "#    t=line[0]\n",
    "#    print(t)\n",
    "\n",
    "# https://rosettacode.org/wiki/Read_a_specific_line_from_a_file#Python"
   ]
  },
  {
   "cell_type": "code",
   "execution_count": 39,
   "metadata": {},
   "outputs": [
    {
     "data": {
      "text/plain": [
       "[4, 3]"
      ]
     },
     "execution_count": 39,
     "metadata": {},
     "output_type": "execute_result"
    }
   ],
   "source": [
    "foo = [4,3,7,3]\n",
    "foo[0:3]\n",
    "foo[:2]"
   ]
  },
  {
   "cell_type": "code",
   "execution_count": 42,
   "metadata": {},
   "outputs": [],
   "source": [
    "import pandas as pd\n",
    "import numpy as np\n",
    "import matplotlib.pyplot as plt\n",
    "\n",
    "path ='/home/nrw/Documents/projects_Spring2018/Research/Experiments/15Mar2018/'\n",
    "csv_file = 'data_position_IMU_camera.csv'\n",
    "\n",
    "# pandas so I don't have to loop through file just to ge tone column\n",
    "# https://stackoverflow.com/questions/16503560/read-specific-columns-from-a-csv-file-with-csv-module\n",
    "df = pd.read_csv(csv_file)\n",
    "eulerY = df[\"EulerY (delta degrees)\"]\n",
    "trueDeg = df[\"camera: degrees\"]\n",
    "trueF = df[\"Force (in grams)\"]\n",
    "\n"
   ]
  },
  {
   "cell_type": "code",
   "execution_count": null,
   "metadata": {},
   "outputs": [],
   "source": []
  },
  {
   "cell_type": "code",
   "execution_count": 52,
   "metadata": {
    "scrolled": false
   },
   "outputs": [
    {
     "data": {
      "image/png": "[encoded data removed]",
      "text/plain": [
       "<Figure size 432x288 with 1 Axes>"
      ]
     },
     "metadata": {},
     "output_type": "display_data"
    }
   ],
   "source": [
    "plt.scatter(trueF, eulerY)\n",
    "plt.scatter(trueF, -trueDeg)\n",
    "plt.ylabel('degrees of deflection (deg)')\n",
    "plt.xlabel('force (grams)')\n",
    "plt.show()"
   ]
  },
  {
   "cell_type": "code",
   "execution_count": 155,
   "metadata": {},
   "outputs": [
    {
     "data": {
      "text/html": [
       "<script>requirejs.config({paths: { 'plotly': ['https://cdn.plot.ly/plotly-latest.min']},});if(!window.Plotly) {{require(['plotly'],function(plotly) {window.Plotly=plotly;});}}</script>"
      ],
      "text/vnd.plotly.v1+html": [
       "<script>requirejs.config({paths: { 'plotly': ['https://cdn.plot.ly/plotly-latest.min']},});if(!window.Plotly) {{require(['plotly'],function(plotly) {window.Plotly=plotly;});}}</script>"
      ]
     },
     "metadata": {},
     "output_type": "display_data"
    },
    {
     "name": "stderr",
     "output_type": "stream",
     "text": [
      "/home/nrw/Documents/projects_Spring2018/Research/venv/lib/python3.6/site-packages/ipykernel_launcher.py:23: FutureWarning:\n",
      "\n",
      "reshape is deprecated and will raise in a subsequent release. Please use .values.reshape(...) instead\n",
      "\n"
     ]
    },
    {
     "data": {
      "application/vnd.plotly.v1+json": {
       "data": [
        {
         "mode": "markers",
         "name": "degrees (by IMU)",
         "type": "scatter",
         "x": [
          0,
          2,
          4,
          6,
          8,
          10,
          12,
          14,
          16,
          18,
          20,
          22,
          24,
          26,
          28,
          30,
          32,
          34,
          36,
          38,
          40,
          42,
          44,
          null,
          null,
          null,
          null,
          null,
          null,
          null,
          null,
          null,
          null,
          null,
          null,
          null,
          null,
          null,
          null,
          null,
          null,
          null,
          null,
          null,
          null,
          null,
          null,
          null,
          null,
          null,
          null,
          null,
          null,
          null
         ],
         "y": [
          0,
          -0.06,
          -0.56,
          -0.19,
          -0.44,
          -0.75,
          -0.75,
          -1.25,
          -1.25,
          -1.19,
          -1.56,
          -1.5,
          -1.38,
          -2.06,
          -2.38,
          -2.5,
          -2.38,
          -2.5,
          -2.56,
          -2.94,
          -2.88,
          -3.25,
          -4.12,
          null,
          null,
          null,
          null,
          null,
          null,
          null,
          null,
          null,
          null,
          null,
          null,
          null,
          null,
          null,
          null,
          null,
          null,
          null,
          null,
          null,
          null,
          null,
          null,
          null,
          null,
          null,
          null,
          null,
          null,
          null
         ]
        },
        {
         "mode": "markers",
         "name": "true degrees (by webcam)",
         "type": "scatter",
         "x": [
          0,
          2,
          4,
          6,
          8,
          10,
          12,
          14,
          16,
          18,
          20,
          22,
          24,
          26,
          28,
          30,
          32,
          34,
          36,
          38,
          40,
          42,
          44,
          null,
          null,
          null,
          null,
          null,
          null,
          null,
          null,
          null,
          null,
          null,
          null,
          null,
          null,
          null,
          null,
          null,
          null,
          null,
          null,
          null,
          null,
          null,
          null,
          null,
          null,
          null,
          null,
          null,
          null,
          null
         ],
         "y": [
          0,
          -0.15,
          -0.3,
          -0.45,
          -0.6,
          -0.9,
          -1.05,
          -1.2,
          -1.35,
          -1.65,
          -1.8,
          -1.95,
          -2.1,
          -2.4,
          -2.55,
          -2.7,
          -2.85,
          -3.15,
          -3.45,
          -3.6,
          -3.75,
          -3.9,
          -4.05,
          null,
          null,
          null,
          null,
          null,
          null,
          null,
          null,
          null,
          null,
          null,
          null,
          null,
          null,
          null,
          null,
          null,
          null,
          null,
          null,
          null,
          null,
          null,
          null,
          null,
          null,
          null,
          null,
          null,
          null,
          -1.2
         ]
        },
        {
         "name": "linear fit (w/ridge penalty)",
         "type": "scatter",
         "x": [
          0,
          2.3157894736842106,
          4.631578947368421,
          6.947368421052632,
          9.263157894736842,
          11.578947368421053,
          13.894736842105264,
          16.210526315789473,
          18.526315789473685,
          20.842105263157897,
          23.157894736842106,
          25.473684210526315,
          27.789473684210527,
          30.10526315789474,
          32.421052631578945,
          34.73684210526316,
          37.05263157894737,
          39.36842105263158,
          41.684210526315795,
          44
         ],
         "y": [
          0.10586956521739221,
          -0.08124713958809984,
          -0.2683638443935919,
          -0.455480549199084,
          -0.642597254004576,
          -0.8297139588100682,
          -1.0168306636155602,
          -1.2039473684210522,
          -1.3910640732265442,
          -1.5781807780320365,
          -1.7652974828375285,
          -1.9524141876430203,
          -2.1395308924485126,
          -2.326647597254005,
          -2.5137643020594966,
          -2.700881006864989,
          -2.8879977116704807,
          -3.075114416475973,
          -3.262231121281465,
          -3.449347826086957
         ]
        }
       ],
       "layout": {
        "legend": {
         "x": 0.1,
         "y": -0.5
        },
        "title": "Force vs Degrees of Deflection",
        "xaxis": {
         "title": "Force (in grams)"
        },
        "yaxis": {
         "title": "degrees"
        }
       }
      },
      "text/html": [
       "<div id=\"0784d221-a28f-427b-8c6e-8371a744ad96\" style=\"height: 525px; width: 100%;\" class=\"plotly-graph-div\"></div><script type=\"text/javascript\">require([\"plotly\"], function(Plotly) { window.PLOTLYENV=window.PLOTLYENV || {};window.PLOTLYENV.BASE_URL=\"https://plot.ly\";Plotly.newPlot(\"0784d221-a28f-427b-8c6e-8371a744ad96\", [{\"type\": \"scatter\", \"x\": [0.0, 2.0, 4.0, 6.0, 8.0, 10.0, 12.0, 14.0, 16.0, 18.0, 20.0, 22.0, 24.0, 26.0, 28.0, 30.0, 32.0, 34.0, 36.0, 38.0, 40.0, 42.0, 44.0, null, null, null, null, null, null, null, null, null, null, null, null, null, null, null, null, null, null, null, null, null, null, null, null, null, null, null, null, null, null, null], \"y\": [0.0, -0.06, -0.56, -0.19, -0.44, -0.75, -0.75, -1.25, -1.25, -1.19, -1.56, -1.5, -1.38, -2.06, -2.38, -2.5, -2.38, -2.5, -2.56, -2.94, -2.88, -3.25, -4.12, null, null, null, null, null, null, null, null, null, null, null, null, null, null, null, null, null, null, null, null, null, null, null, null, null, null, null, null, null, null, null], \"mode\": \"markers\", \"name\": \"degrees (by IMU)\"}, {\"type\": \"scatter\", \"x\": [0.0, 2.0, 4.0, 6.0, 8.0, 10.0, 12.0, 14.0, 16.0, 18.0, 20.0, 22.0, 24.0, 26.0, 28.0, 30.0, 32.0, 34.0, 36.0, 38.0, 40.0, 42.0, 44.0, null, null, null, null, null, null, null, null, null, null, null, null, null, null, null, null, null, null, null, null, null, null, null, null, null, null, null, null, null, null, null], \"y\": [-0.0, -0.15, -0.3, -0.45, -0.6, -0.9, -1.05, -1.2, -1.35, -1.65, -1.8, -1.95, -2.1, -2.4, -2.55, -2.7, -2.85, -3.15, -3.45, -3.6, -3.75, -3.9, -4.05, null, null, null, null, null, null, null, null, null, null, null, null, null, null, null, null, null, null, null, null, null, null, null, null, null, null, null, null, null, null, -1.2], \"mode\": \"markers\", \"name\": \"true degrees (by webcam)\"}, {\"type\": \"scatter\", \"x\": [0.0, 2.3157894736842106, 4.631578947368421, 6.947368421052632, 9.263157894736842, 11.578947368421053, 13.894736842105264, 16.210526315789473, 18.526315789473685, 20.842105263157897, 23.157894736842106, 25.473684210526315, 27.789473684210527, 30.10526315789474, 32.421052631578945, 34.73684210526316, 37.05263157894737, 39.36842105263158, 41.684210526315795, 44.0], \"y\": [0.10586956521739221, -0.08124713958809984, -0.2683638443935919, -0.455480549199084, -0.642597254004576, -0.8297139588100682, -1.0168306636155602, -1.2039473684210522, -1.3910640732265442, -1.5781807780320365, -1.7652974828375285, -1.9524141876430203, -2.1395308924485126, -2.326647597254005, -2.5137643020594966, -2.700881006864989, -2.8879977116704807, -3.075114416475973, -3.262231121281465, -3.449347826086957], \"name\": \"linear fit (w/ridge penalty)\"}], {\"title\": \"Force vs Degrees of Deflection\", \"yaxis\": {\"title\": \"degrees\"}, \"xaxis\": {\"title\": \"Force (in grams)\"}, \"legend\": {\"x\": 0.1, \"y\": -0.5}}, {\"showLink\": true, \"linkText\": \"Export to plot.ly\"})});</script>"
      ],
      "text/vnd.plotly.v1+html": [
       "<div id=\"0784d221-a28f-427b-8c6e-8371a744ad96\" style=\"height: 525px; width: 100%;\" class=\"plotly-graph-div\"></div><script type=\"text/javascript\">require([\"plotly\"], function(Plotly) { window.PLOTLYENV=window.PLOTLYENV || {};window.PLOTLYENV.BASE_URL=\"https://plot.ly\";Plotly.newPlot(\"0784d221-a28f-427b-8c6e-8371a744ad96\", [{\"type\": \"scatter\", \"x\": [0.0, 2.0, 4.0, 6.0, 8.0, 10.0, 12.0, 14.0, 16.0, 18.0, 20.0, 22.0, 24.0, 26.0, 28.0, 30.0, 32.0, 34.0, 36.0, 38.0, 40.0, 42.0, 44.0, null, null, null, null, null, null, null, null, null, null, null, null, null, null, null, null, null, null, null, null, null, null, null, null, null, null, null, null, null, null, null], \"y\": [0.0, -0.06, -0.56, -0.19, -0.44, -0.75, -0.75, -1.25, -1.25, -1.19, -1.56, -1.5, -1.38, -2.06, -2.38, -2.5, -2.38, -2.5, -2.56, -2.94, -2.88, -3.25, -4.12, null, null, null, null, null, null, null, null, null, null, null, null, null, null, null, null, null, null, null, null, null, null, null, null, null, null, null, null, null, null, null], \"mode\": \"markers\", \"name\": \"degrees (by IMU)\"}, {\"type\": \"scatter\", \"x\": [0.0, 2.0, 4.0, 6.0, 8.0, 10.0, 12.0, 14.0, 16.0, 18.0, 20.0, 22.0, 24.0, 26.0, 28.0, 30.0, 32.0, 34.0, 36.0, 38.0, 40.0, 42.0, 44.0, null, null, null, null, null, null, null, null, null, null, null, null, null, null, null, null, null, null, null, null, null, null, null, null, null, null, null, null, null, null, null], \"y\": [-0.0, -0.15, -0.3, -0.45, -0.6, -0.9, -1.05, -1.2, -1.35, -1.65, -1.8, -1.95, -2.1, -2.4, -2.55, -2.7, -2.85, -3.15, -3.45, -3.6, -3.75, -3.9, -4.05, null, null, null, null, null, null, null, null, null, null, null, null, null, null, null, null, null, null, null, null, null, null, null, null, null, null, null, null, null, null, -1.2], \"mode\": \"markers\", \"name\": \"true degrees (by webcam)\"}, {\"type\": \"scatter\", \"x\": [0.0, 2.3157894736842106, 4.631578947368421, 6.947368421052632, 9.263157894736842, 11.578947368421053, 13.894736842105264, 16.210526315789473, 18.526315789473685, 20.842105263157897, 23.157894736842106, 25.473684210526315, 27.789473684210527, 30.10526315789474, 32.421052631578945, 34.73684210526316, 37.05263157894737, 39.36842105263158, 41.684210526315795, 44.0], \"y\": [0.10586956521739221, -0.08124713958809984, -0.2683638443935919, -0.455480549199084, -0.642597254004576, -0.8297139588100682, -1.0168306636155602, -1.2039473684210522, -1.3910640732265442, -1.5781807780320365, -1.7652974828375285, -1.9524141876430203, -2.1395308924485126, -2.326647597254005, -2.5137643020594966, -2.700881006864989, -2.8879977116704807, -3.075114416475973, -3.262231121281465, -3.449347826086957], \"name\": \"linear fit (w/ridge penalty)\"}], {\"title\": \"Force vs Degrees of Deflection\", \"yaxis\": {\"title\": \"degrees\"}, \"xaxis\": {\"title\": \"Force (in grams)\"}, \"legend\": {\"x\": 0.1, \"y\": -0.5}}, {\"showLink\": true, \"linkText\": \"Export to plot.ly\"})});</script>"
      ]
     },
     "metadata": {},
     "output_type": "display_data"
    }
   ],
   "source": [
    "import numpy as np\n",
    "import plotly.plotly as py\n",
    "import plotly.offline as po\n",
    "import plotly.graph_objs as go\n",
    "from sklearn import linear_model\n",
    "from sklearn.linear_model import Ridge\n",
    "\n",
    "plotly.offline.init_notebook_mode(connected=True)\n",
    "\n",
    "trace0 = go.Scatter(\n",
    "    x = trueF,\n",
    "    y = eulerY,\n",
    "    mode = 'markers',\n",
    "    name = 'degrees (by IMU)'\n",
    ")\n",
    "trace1 = go.Scatter(\n",
    "    x = trueF,\n",
    "    y = -trueDeg,\n",
    "    mode = 'markers',\n",
    "    name = 'true degrees (by webcam)'\n",
    ")\n",
    "\n",
    "myX = trueF.dropna().reshape(-1,1)\n",
    "myy = eulerY.dropna()\n",
    "ridge = Ridge(fit_intercept=True, alpha=0.0, random_state=0, normalize=True)\n",
    "ridge.fit(myX, myy)\n",
    "coef_ridge = ridge.coef_\n",
    "gridx = np.linspace(X.min(), X.max(), 20)\n",
    "coef_ = ridge.coef_ * gridx + ridge.intercept_\n",
    "#plt.plot(gridx, coef_, 'g-', label=\"ridge regression\")\n",
    "\n",
    "trace2 = go.Scatter(\n",
    "    x= gridx,\n",
    "    y = coef_,\n",
    "    name = 'linear fit (w/ridge penalty)'\n",
    ")\n",
    "\n",
    "\n",
    "\n",
    "#a,b = np.polyfit(x,y,1)\n",
    "#plt.plot(np.unique(x), np.poly1d(np.polyfit(x, y, 1))(np.unique(x)))\n",
    "\n",
    "           \n",
    "data = [trace0, trace1, trace2]\n",
    "\n",
    "layout = go.Layout(\n",
    "    title='Force vs Degrees of Deflection',\n",
    "    yaxis=dict(title='degrees'),\n",
    "    xaxis=dict(title='Force (in grams)'),\n",
    "    legend=dict(x=.1, y=-.5)\n",
    ")\n",
    "\n",
    "\n",
    "fig = go.Figure(data=data, layout=layout)\n",
    "# Plot and embed in ipython notebook!\n",
    "po.iplot(fig)\n",
    "#po.plot(fig, filename='temp_plot.html')\n"
   ]
  },
  {
   "cell_type": "code",
   "execution_count": 101,
   "metadata": {},
   "outputs": [
    {
     "data": {
      "text/html": [
       "<script>requirejs.config({paths: { 'plotly': ['https://cdn.plot.ly/plotly-latest.min']},});if(!window.Plotly) {{require(['plotly'],function(plotly) {window.Plotly=plotly;});}}</script>"
      ],
      "text/vnd.plotly.v1+html": [
       "<script>requirejs.config({paths: { 'plotly': ['https://cdn.plot.ly/plotly-latest.min']},});if(!window.Plotly) {{require(['plotly'],function(plotly) {window.Plotly=plotly;});}}</script>"
      ]
     },
     "metadata": {},
     "output_type": "display_data"
    },
    {
     "data": {
      "application/vnd.plotly.v1+json": {
       "data": [
        {
         "type": "scatter",
         "x": [
          1,
          2,
          3,
          4
         ],
         "y": [
          4,
          3,
          2,
          1
         ]
        }
       ],
       "layout": {
        "title": "hello world"
       }
      },
      "text/html": [
       "<div id=\"97bbdb0f-19cc-4fe5-becb-1645569dc11b\" style=\"height: 525px; width: 100%;\" class=\"plotly-graph-div\"></div><script type=\"text/javascript\">require([\"plotly\"], function(Plotly) { window.PLOTLYENV=window.PLOTLYENV || {};window.PLOTLYENV.BASE_URL=\"https://plot.ly\";Plotly.newPlot(\"97bbdb0f-19cc-4fe5-becb-1645569dc11b\", [{\"type\": \"scatter\", \"x\": [1, 2, 3, 4], \"y\": [4, 3, 2, 1]}], {\"title\": \"hello world\"}, {\"showLink\": true, \"linkText\": \"Export to plot.ly\"})});</script>"
      ],
      "text/vnd.plotly.v1+html": [
       "<div id=\"97bbdb0f-19cc-4fe5-becb-1645569dc11b\" style=\"height: 525px; width: 100%;\" class=\"plotly-graph-div\"></div><script type=\"text/javascript\">require([\"plotly\"], function(Plotly) { window.PLOTLYENV=window.PLOTLYENV || {};window.PLOTLYENV.BASE_URL=\"https://plot.ly\";Plotly.newPlot(\"97bbdb0f-19cc-4fe5-becb-1645569dc11b\", [{\"type\": \"scatter\", \"x\": [1, 2, 3, 4], \"y\": [4, 3, 2, 1]}], {\"title\": \"hello world\"}, {\"showLink\": true, \"linkText\": \"Export to plot.ly\"})});</script>"
      ]
     },
     "metadata": {},
     "output_type": "display_data"
    }
   ],
   "source": [
    "import plotly\n",
    "from plotly.graph_objs import Scatter, Layout\n",
    "\n",
    "plotly.offline.init_notebook_mode(connected=True)\n",
    "\n",
    "plotly.offline.iplot({\n",
    "    \"data\": [Scatter(x=[1, 2, 3, 4], y=[4, 3, 2, 1])],\n",
    "    \"layout\": Layout(title=\"hello world\")\n",
    "})\n",
    "\n",
    "# https://plot.ly/python/getting-started/#initialization-for-offline-plotting\n",
    "# https://plot.ly/pandas/line-charts/#basic-line-plot\n",
    "# https://plot.ly/python/getting-started/#more-examples\n",
    "# http://scikit-learn.org/stable/modules/generated/sklearn.linear_model.Ridge.html"
   ]
  },
  {
   "cell_type": "code",
   "execution_count": 68,
   "metadata": {},
   "outputs": [
    {
     "data": {
      "text/html": [
       "<script>requirejs.config({paths: { 'plotly': ['https://cdn.plot.ly/plotly-latest.min']},});if(!window.Plotly) {{require(['plotly'],function(plotly) {window.Plotly=plotly;});}}</script>"
      ],
      "text/vnd.plotly.v1+html": [
       "<script>requirejs.config({paths: { 'plotly': ['https://cdn.plot.ly/plotly-latest.min']},});if(!window.Plotly) {{require(['plotly'],function(plotly) {window.Plotly=plotly;});}}</script>"
      ]
     },
     "metadata": {},
     "output_type": "display_data"
    },
    {
     "data": {
      "application/vnd.plotly.v1+json": {
       "data": [
        {
         "type": "scatter",
         "x": [
          1,
          2,
          3,
          4
         ],
         "y": [
          4,
          3,
          2,
          1
         ]
        }
       ],
       "layout": {
        "title": "hello world"
       }
      },
      "text/html": [
       "<div id=\"4ad9f452-0700-4266-83fc-88de6b590b52\" style=\"height: 525px; width: 100%;\" class=\"plotly-graph-div\"></div><script type=\"text/javascript\">require([\"plotly\"], function(Plotly) { window.PLOTLYENV=window.PLOTLYENV || {};window.PLOTLYENV.BASE_URL=\"https://plot.ly\";Plotly.newPlot(\"4ad9f452-0700-4266-83fc-88de6b590b52\", [{\"type\": \"scatter\", \"x\": [1, 2, 3, 4], \"y\": [4, 3, 2, 1]}], {\"title\": \"hello world\"}, {\"showLink\": true, \"linkText\": \"Export to plot.ly\"})});</script>"
      ],
      "text/vnd.plotly.v1+html": [
       "<div id=\"4ad9f452-0700-4266-83fc-88de6b590b52\" style=\"height: 525px; width: 100%;\" class=\"plotly-graph-div\"></div><script type=\"text/javascript\">require([\"plotly\"], function(Plotly) { window.PLOTLYENV=window.PLOTLYENV || {};window.PLOTLYENV.BASE_URL=\"https://plot.ly\";Plotly.newPlot(\"4ad9f452-0700-4266-83fc-88de6b590b52\", [{\"type\": \"scatter\", \"x\": [1, 2, 3, 4], \"y\": [4, 3, 2, 1]}], {\"title\": \"hello world\"}, {\"showLink\": true, \"linkText\": \"Export to plot.ly\"})});</script>"
      ]
     },
     "metadata": {},
     "output_type": "display_data"
    }
   ],
   "source": []
  },
  {
   "cell_type": "code",
   "execution_count": null,
   "metadata": {},
   "outputs": [],
   "source": []
  }
 ],
 "metadata": {
  "kernelspec": {
   "display_name": "Python 3",
   "language": "python",
   "name": "python3"
  },
  "language_info": {
   "codemirror_mode": {
    "name": "ipython",
    "version": 3
   },
   "file_extension": ".py",
   "mimetype": "text/x-python",
   "name": "python",
   "nbconvert_exporter": "python",
   "pygments_lexer": "ipython3",
   "version": "3.6.3"
  }
 },
 "nbformat": 4,
 "nbformat_minor": 2
}
