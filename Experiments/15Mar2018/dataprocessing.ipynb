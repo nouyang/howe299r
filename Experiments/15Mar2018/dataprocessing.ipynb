{
 "cells": [
  {
   "cell_type": "code",
   "execution_count": 4,
   "metadata": {},
   "outputs": [
    {
     "name": "stdout",
     "output_type": "stream",
     "text": [
      "<_csv.reader object at 0x7fb8e103f978>\n"
     ]
    }
   ],
   "source": [
    "import csv\n",
    "import numpy as np \n",
    "path ='/home/nrw/Documents/projects_Spring2018/Research/Experiments/15Mar2018/'\n",
    "fname = 'data15Mar2018.csv'\n",
    "file=open(path+fname, \"r\")\n",
    "reader = csv.reader(file)\n",
    "print(reader)\n",
    "zero_pos = np.array([])\n",
    "# calculate change in position = (final pos) - (zero pos)\n",
    "outfname = 'delta_pos.csv'\n",
    "outfile = open(path+outfname,\"w\")\n",
    "\n",
    "for row_index, row in enumerate(reader):\n",
    "    if row_index == 0:\n",
    "        pass\n",
    "    elif row_index % 2 == 1:\n",
    "        zero_pos = np.array([float(j) for j in row[:4]])\n",
    "    elif row_index % 2 == 0:\n",
    "        pos = np.array([float(j) for j in row[:4]]) - zero_pos\n",
    "        astr = ','.join(['%.2f' % num for num in pos])  + \"\\n\"\n",
    "        outfile.write(astr)\n",
    "        \n",
    "file.close()\n",
    "outfile.close()\n",
    "        \n",
    "#for line in reader:\n",
    "#    t=line[0]\n",
    "#    print(t)\n",
    "\n",
    "# https://rosettacode.org/wiki/Read_a_specific_line_from_a_file#Python"
   ]
  },
  {
   "cell_type": "code",
   "execution_count": 6,
   "metadata": {},
   "outputs": [
    {
     "data": {
      "text/plain": [
       "[4, 3]"
      ]
     },
     "execution_count": 6,
     "metadata": {},
     "output_type": "execute_result"
    }
   ],
   "source": [
    "foo = [4,3,7,3]\n",
    "foo[0:3]\n",
    "foo[:2]"
   ]
  },
  {
   "cell_type": "code",
   "execution_count": 8,
   "metadata": {},
   "outputs": [
    {
     "ename": "NameError",
     "evalue": "name 'csv_file' is not defined",
     "output_type": "error",
     "traceback": [
      "\u001b[0;31m---------------------------------------------------------------------------\u001b[0m",
      "\u001b[0;31mNameError\u001b[0m                                 Traceback (most recent call last)",
      "\u001b[0;32m<ipython-input-8-89799325a2eb>\u001b[0m in \u001b[0;36m<module>\u001b[0;34m()\u001b[0m\n\u001b[1;32m      2\u001b[0m \u001b[0;31m# pandas so I don't have to loop through file just to ge tone column\u001b[0m\u001b[0;34m\u001b[0m\u001b[0;34m\u001b[0m\u001b[0m\n\u001b[1;32m      3\u001b[0m \u001b[0;31m# https://stackoverflow.com/questions/16503560/read-specific-columns-from-a-csv-file-with-csv-module\u001b[0m\u001b[0;34m\u001b[0m\u001b[0;34m\u001b[0m\u001b[0m\n\u001b[0;32m----> 4\u001b[0;31m \u001b[0mdf\u001b[0m \u001b[0;34m=\u001b[0m \u001b[0mpd\u001b[0m\u001b[0;34m.\u001b[0m\u001b[0mread_csv\u001b[0m\u001b[0;34m(\u001b[0m\u001b[0mcsv_file\u001b[0m\u001b[0;34m)\u001b[0m\u001b[0;34m\u001b[0m\u001b[0m\n\u001b[0m\u001b[1;32m      5\u001b[0m \u001b[0meulerY\u001b[0m \u001b[0;34m=\u001b[0m \u001b[0mdf\u001b[0m\u001b[0;34m[\u001b[0m\u001b[0;36m1\u001b[0m\u001b[0;34m]\u001b[0m\u001b[0;34m\u001b[0m\u001b[0m\n",
      "\u001b[0;31mNameError\u001b[0m: name 'csv_file' is not defined"
     ]
    }
   ],
   "source": [
    "import pandas as pd\n",
    "\n",
    "path ='/home/nrw/Documents/projects_Spring2018/Research/Experiments/15Mar2018/'\n",
    "\n",
    "# pandas so I don't have to loop through file just to ge tone column\n",
    "# https://stackoverflow.com/questions/16503560/read-specific-columns-from-a-csv-file-with-csv-module\n",
    "df = pd.read_csv(csv_file)\n",
    "eulerY = df[1]"
   ]
  }
 ],
 "metadata": {
  "kernelspec": {
   "display_name": "Python 3",
   "language": "python",
   "name": "python3"
  },
  "language_info": {
   "codemirror_mode": {
    "name": "ipython",
    "version": 3
   },
   "file_extension": ".py",
   "mimetype": "text/x-python",
   "name": "python",
   "nbconvert_exporter": "python",
   "pygments_lexer": "ipython3",
   "version": "3.6.3"
  }
 },
 "nbformat": 4,
 "nbformat_minor": 2
}
