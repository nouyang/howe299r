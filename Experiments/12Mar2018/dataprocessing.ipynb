{
 "cells": [
  {
   "cell_type": "code",
   "execution_count": 62,
   "metadata": {},
   "outputs": [
    {
     "name": "stdout",
     "output_type": "stream",
     "text": [
      "<_csv.reader object at 0x7f99219bfdd8>\n"
     ]
    }
   ],
   "source": [
    "import csv\n",
    "import numpy as np \n",
    "path ='/home/nrw/Documents/projects_Spring2018/Research/Experiments/12Mar2018/'\n",
    "fname = 'cleaned_data.csv'\n",
    "file=open(path+fname, \"r\")\n",
    "reader = csv.reader(file)\n",
    "print(reader)\n",
    "zero_pos = np.array([])\n",
    "# calculate change in position = (final pos) - (zero pos)\n",
    "outfname = 'delta_pos.csv'\n",
    "outfile = open(path+outfname,\"w\")\n",
    "\n",
    "for row_index, row in enumerate(reader):\n",
    "    if row_index == 0:\n",
    "        pass\n",
    "    elif row_index % 2 == 1:\n",
    "        zero_pos = np.array([float(j) for j in row[:3]])\n",
    "    elif row_index % 2 == 0:\n",
    "        pos = np.array([float(j) for j in row[:3]]) - zero_pos\n",
    "        astr = ','.join(['%.2f' % num for num in pos])  + \"\\n\"\n",
    "        outfile.write(astr)\n",
    "        \n",
    "file.close()\n",
    "outfile.close()\n",
    "        \n",
    "#for line in reader:\n",
    "#    t=line[0]\n",
    "#    print(t)\n",
    "\n",
    "# https://rosettacode.org/wiki/Read_a_specific_line_from_a_file#Python"
   ]
  },
  {
   "cell_type": "code",
   "execution_count": 49,
   "metadata": {},
   "outputs": [
    {
     "data": {
      "text/plain": [
       "[4, 3]"
      ]
     },
     "execution_count": 49,
     "metadata": {},
     "output_type": "execute_result"
    }
   ],
   "source": [
    "foo = [4,3,7,3]\n",
    "foo[0:3]\n",
    "foo[:2]"
   ]
  }
 ],
 "metadata": {
  "kernelspec": {
   "display_name": "Python 3",
   "language": "python",
   "name": "python3"
  },
  "language_info": {
   "codemirror_mode": {
    "name": "ipython",
    "version": 3
   },
   "file_extension": ".py",
   "mimetype": "text/x-python",
   "name": "python",
   "nbconvert_exporter": "python",
   "pygments_lexer": "ipython3",
   "version": "3.6.3"
  }
 },
 "nbformat": 4,
 "nbformat_minor": 2
}
