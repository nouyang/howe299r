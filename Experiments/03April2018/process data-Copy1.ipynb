{
 "cells": [
  {
   "cell_type": "code",
   "execution_count": 125,
   "metadata": {},
   "outputs": [],
   "source": [
    "# 1d case\n",
    "# parameterized to use any 01...15 files, but only 1 at a time\n",
    "import pandas as pd\n",
    "import numpy as np\n",
    "import matplotlib.pyplot as plt\n",
    "\n",
    "path = \"~/Documents/projects_Spring2018/howe299r/Experiments/03April2018/WIP/\"\n",
    "pos = range(1,16)\n",
    "IMUDats = [ '%02dIMU.txt'% x for x in pos ]\n",
    "IMUCols = ['timeSysCal', 'XYZ','X', 'Y', 'Z']\n",
    "\n",
    "i = 14 #only go up to 15-1 ###EDIT THIS\n",
    "fname =  '%02dIMU.txt'%(i+1)\n",
    "imuDat = pd.read_csv(path+fname, header=None,sep=';', \n",
    "                    names = IMUCols, usecols=[0,1,2,3,4]) #TODO: this is somehow skipping a col, so the last is NaN. usecols to get around this\n",
    "imuDat = imuDat.drop(['timeSysCal', 'XYZ'], 1)\n",
    "\n",
    "# zero calibration are the \"even\" cols\n",
    "bkgd = imuDat.iloc[0::2]  #even \n",
    "signal = imuDat.iloc[1::2]  #even "
   ]
  },
  {
   "cell_type": "code",
   "execution_count": 126,
   "metadata": {
    "scrolled": true
   },
   "outputs": [],
   "source": [
    "zer = bkgd.as_matrix()\n",
    "sig = signal.as_matrix()\n",
    "thetas = sig-zer\n",
    "#print(thetas.shape)\n",
    "thetaX, thetaY, thetaZ = thetas[:,0], thetas[:,1], thetas[:,2]"
   ]
  },
  {
   "cell_type": "code",
   "execution_count": 127,
   "metadata": {
    "scrolled": false
   },
   "outputs": [
    {
     "name": "stdout",
     "output_type": "stream",
     "text": [
      "15\n",
      "[[   4.   52.   -0.]\n",
      " [   8.  104.   -0.]\n",
      " [  12.  156.   -0.]\n",
      " [  16.  208.   -0.]\n",
      " [  20.  260.   -0.]\n",
      " [  24.  312.   -0.]\n",
      " [  28.  364.   -0.]\n",
      " [  32.  416.   -0.]\n",
      " [  36.  468.   -0.]\n",
      " [  40.  520.   -0.]\n",
      " [  44.  572.   -0.]\n",
      " [  48.  624.   -0.]\n",
      " [  52.  676.   -0.]\n",
      " [  56.  728.   -0.]\n",
      " [  60.  780.   -0.]\n",
      " [  64.  832.   -0.]\n",
      " [  68.  884.   -0.]\n",
      " [  72.  936.   -0.]\n",
      " [  76.  988.   -0.]\n",
      " [  80. 1040.   -0.]\n",
      " [  84. 1092.   -0.]\n",
      " [  88. 1144.   -0.]\n",
      " [  92. 1196.   -0.]\n",
      " [  96. 1248.   -0.]\n",
      " [ 100. 1300.   -0.]\n",
      " [ 104. 1352.   -0.]\n",
      " [ 108. 1404.   -0.]\n",
      " [ 112. 1456.   -0.]\n",
      " [ 116. 1508.   -0.]\n",
      " [ 120. 1560.   -0.]\n",
      " [ 124. 1612.   -0.]\n",
      " [ 128. 1664.   -0.]\n",
      " [ 132. 1716.   -0.]\n",
      " [ 136. 1768.   -0.]\n",
      " [ 140. 1820.   -0.]\n",
      " [ 144. 1872.   -0.]\n",
      " [ 148. 1924.   -0.]\n",
      " [ 152. 1976.   -0.]\n",
      " [ 156. 2028.   -0.]\n",
      " [ 160. 2080.   -0.]\n",
      " [ 164. 2132.   -0.]\n",
      " [ 168. 2184.   -0.]\n",
      " [ 172. 2236.   -0.]\n",
      " [ 176. 2288.   -0.]\n",
      " [ 180. 2340.   -0.]]\n"
     ]
    },
    {
     "name": "stderr",
     "output_type": "stream",
     "text": [
      "/home/nrw/Documents/projects_Spring2018/howe299r/Experiments/venv/lib/python3.6/site-packages/ipykernel_launcher.py:25: RuntimeWarning:\n",
      "\n",
      "divide by zero encountered in true_divide\n",
      "\n",
      "/home/nrw/Documents/projects_Spring2018/howe299r/Experiments/venv/lib/python3.6/site-packages/ipykernel_launcher.py:26: FutureWarning:\n",
      "\n",
      "`rcond` parameter will change to the default of machine precision times ``max(M, N)`` where M and N are the input matrix dimensions.\n",
      "To use the future default and silence this warning we advise to pass `rcond=None`, to keep using the old, explicitly pass `rcond=-1`.\n",
      "\n"
     ]
    }
   ],
   "source": [
    "posIdx = range(1,16)\n",
    "xs = [4.6, 4.1, 3.5, 3.1, 2.6][:-1]#pos 1 x = 4.6 cm\n",
    "ys = [0.4, 0.1, -0.2]\n",
    "n = thetas.shape[0]\n",
    "forces = range(1, n+1) \n",
    "forcesZ = [20*f for f in forces]\n",
    "\n",
    "#pos = np.array([4.6, 0.4, 0]) #01\n",
    "posIdx = range(1,16)\n",
    "xs = [4.6, 4.1, 3.5, 3.1, 2.6]#pos 1 x = 4.6 cm\n",
    "ys = [0.4, 0.0, -0.2]\n",
    "#ys = [0.4, 0.1, -0.2]\n",
    "posX = np.array([(x,x,x) for x in xs]).flatten()\n",
    "posY = np.array(ys *5)\n",
    "posZ = np.array([0]*15)\n",
    "#print([i for i in posIdx])\n",
    "print(len(posX))\n",
    "pos = np.array([posX[i], posY[i], posZ[i]])\n",
    "\n",
    "forcesXYZ = np.column_stack((np.zeros((n,2)),forcesZ))\n",
    "torques = np.cross(forcesXYZ, pos)\n",
    "torquesX, torquesY, torquesZ = torques[:,0] , torques[:,1], torques[:,2]\n",
    "print(torques)\n",
    "#print(torques) #y should be yaw? #\"true torque\"\n",
    "np.divide(torques,thetas)\n",
    "k_hat,resid,rank,s = np.linalg.lstsq(torques, thetas)\n",
    "estTorque = np.dot(k_hat,thetas.T).T\n",
    "#print(estTorque)\n",
    "\n",
    "#print(forcesXYZ)\n",
    "#print(np.array([posX, posY, posZ]).T)\n",
    "#print(pos)"
   ]
  },
  {
   "cell_type": "code",
   "execution_count": 132,
   "metadata": {
    "scrolled": false
   },
   "outputs": [
    {
     "data": {
      "text/html": [
       "<script>requirejs.config({paths: { 'plotly': ['https://cdn.plot.ly/plotly-latest.min']},});if(!window.Plotly) {{require(['plotly'],function(plotly) {window.Plotly=plotly;});}}</script>"
      ],
      "text/vnd.plotly.v1+html": [
       "<script>requirejs.config({paths: { 'plotly': ['https://cdn.plot.ly/plotly-latest.min']},});if(!window.Plotly) {{require(['plotly'],function(plotly) {window.Plotly=plotly;});}}</script>"
      ]
     },
     "metadata": {},
     "output_type": "display_data"
    },
    {
     "name": "stdout",
     "output_type": "stream",
     "text": [
      "45\n",
      "45\n",
      "Coefficients: \n",
      " [-0.00678065]\n",
      "Mean squared error: 0.29\n"
     ]
    },
    {
     "data": {
      "application/vnd.plotly.v1+json": {
       "data": [
        {
         "mode": "markers",
         "name": "degrees (by IMU)",
         "type": "scatter",
         "x": [
          52,
          104,
          156,
          208,
          260,
          312,
          364,
          416,
          468,
          520,
          572,
          624,
          676,
          728,
          780,
          832,
          884,
          936,
          988,
          1040,
          1092,
          1144,
          1196,
          1248,
          1300,
          1352,
          1404,
          1456,
          1508,
          1560,
          1612,
          1664,
          1716,
          1768,
          1820,
          1872,
          1924,
          1976,
          2028,
          2080,
          2132,
          2184,
          2236,
          2288,
          2340
         ],
         "y": [
          -0.5625,
          -0.6875,
          -0.5625,
          -1.625,
          -1.4375,
          -1.375,
          -2.125,
          -2.0625,
          -2.0625,
          -3.25,
          -2.875,
          -3.3125,
          -3.5625,
          -4.0625,
          -3.875,
          -4.9375,
          -4.8125,
          -4.9375,
          -6.125,
          -5.5625,
          -5.125,
          -7.1875,
          -7.0625,
          -6.875,
          -7.8125,
          -8.0625,
          -8.75,
          -8.6875,
          -9,
          -9.25,
          -9.75,
          -10.3125,
          -10.625,
          -11.9375,
          -10.875,
          -11.8125,
          -13.125,
          -13.0625,
          -13.1875,
          -13.25,
          -14.4375,
          -14.4375,
          -15.375,
          -15,
          -15.5625
         ]
        },
        {
         "name": "linear fit (w/ridge penalty)",
         "type": "scatter",
         "x": [
          52,
          172.42105263157896,
          292.8421052631579,
          413.2631578947368,
          533.6842105263158,
          654.1052631578947,
          774.5263157894736,
          894.9473684210526,
          1015.3684210526316,
          1135.7894736842104,
          1256.2105263157894,
          1376.6315789473683,
          1497.0526315789473,
          1617.4736842105262,
          1737.8947368421052,
          1858.3157894736842,
          1978.7368421052631,
          2099.157894736842,
          2219.578947368421,
          2340
         ],
         "y": [
          0.415398550724639,
          -0.40113463005339334,
          -1.2176678108314256,
          -2.0342009916094574,
          -2.85073417238749,
          -3.6672673531655215,
          -4.483800533943554,
          -5.300333714721586,
          -6.116866895499618,
          -6.93340007627765,
          -7.749933257055682,
          -8.566466437833714,
          -9.382999618611747,
          -10.199532799389779,
          -11.016065980167811,
          -11.832599160945843,
          -12.649132341723876,
          -13.465665522501908,
          -14.282198703279938,
          -15.098731884057973
         ]
        }
       ],
       "layout": {
        "legend": {
         "x": 0.1,
         "y": -0.5
        },
        "title": "Torque vs Degrees of Deflection (pitch)",
        "xaxis": {
         "title": "torque (in grams)"
        },
        "yaxis": {
         "title": "degrees"
        }
       }
      },
      "text/html": [
       "<div id=\"46f80b67-8441-470b-9d9b-d9164500e8df\" style=\"height: 525px; width: 100%;\" class=\"plotly-graph-div\"></div><script type=\"text/javascript\">require([\"plotly\"], function(Plotly) { window.PLOTLYENV=window.PLOTLYENV || {};window.PLOTLYENV.BASE_URL=\"https://plot.ly\";Plotly.newPlot(\"46f80b67-8441-470b-9d9b-d9164500e8df\", [{\"type\": \"scatter\", \"x\": [52.0, 104.0, 156.0, 208.0, 260.0, 312.0, 364.0, 416.0, 468.0, 520.0, 572.0, 624.0, 676.0, 728.0, 780.0, 832.0, 884.0, 936.0, 988.0, 1040.0, 1092.0, 1144.0, 1196.0, 1248.0, 1300.0, 1352.0, 1404.0, 1456.0, 1508.0, 1560.0, 1612.0, 1664.0, 1716.0, 1768.0, 1820.0, 1872.0, 1924.0, 1976.0, 2028.0, 2080.0, 2132.0, 2184.0, 2236.0, 2288.0, 2340.0], \"y\": [-0.5625, -0.6875, -0.5625, -1.625, -1.4375, -1.375, -2.125, -2.0625, -2.0625, -3.25, -2.875, -3.3125, -3.5625, -4.0625, -3.875, -4.9375, -4.8125, -4.9375, -6.125, -5.5625, -5.125, -7.1875, -7.0625, -6.875, -7.8125, -8.0625, -8.75, -8.6875, -9.0, -9.25, -9.75, -10.3125, -10.625, -11.9375, -10.875, -11.8125, -13.125, -13.0625, -13.1875, -13.25, -14.4375, -14.4375, -15.375, -15.0, -15.5625], \"mode\": \"markers\", \"name\": \"degrees (by IMU)\"}, {\"type\": \"scatter\", \"x\": [52.0, 172.42105263157896, 292.8421052631579, 413.2631578947368, 533.6842105263158, 654.1052631578947, 774.5263157894736, 894.9473684210526, 1015.3684210526316, 1135.7894736842104, 1256.2105263157894, 1376.6315789473683, 1497.0526315789473, 1617.4736842105262, 1737.8947368421052, 1858.3157894736842, 1978.7368421052631, 2099.157894736842, 2219.578947368421, 2340.0], \"y\": [0.415398550724639, -0.40113463005339334, -1.2176678108314256, -2.0342009916094574, -2.85073417238749, -3.6672673531655215, -4.483800533943554, -5.300333714721586, -6.116866895499618, -6.93340007627765, -7.749933257055682, -8.566466437833714, -9.382999618611747, -10.199532799389779, -11.016065980167811, -11.832599160945843, -12.649132341723876, -13.465665522501908, -14.282198703279938, -15.098731884057973], \"name\": \"linear fit (w/ridge penalty)\"}], {\"title\": \"Torque vs Degrees of Deflection (pitch)\", \"yaxis\": {\"title\": \"degrees\"}, \"xaxis\": {\"title\": \"torque (in grams)\"}, \"legend\": {\"x\": 0.1, \"y\": -0.5}}, {\"showLink\": true, \"linkText\": \"Export to plot.ly\"})});</script>"
      ],
      "text/vnd.plotly.v1+html": [
       "<div id=\"46f80b67-8441-470b-9d9b-d9164500e8df\" style=\"height: 525px; width: 100%;\" class=\"plotly-graph-div\"></div><script type=\"text/javascript\">require([\"plotly\"], function(Plotly) { window.PLOTLYENV=window.PLOTLYENV || {};window.PLOTLYENV.BASE_URL=\"https://plot.ly\";Plotly.newPlot(\"46f80b67-8441-470b-9d9b-d9164500e8df\", [{\"type\": \"scatter\", \"x\": [52.0, 104.0, 156.0, 208.0, 260.0, 312.0, 364.0, 416.0, 468.0, 520.0, 572.0, 624.0, 676.0, 728.0, 780.0, 832.0, 884.0, 936.0, 988.0, 1040.0, 1092.0, 1144.0, 1196.0, 1248.0, 1300.0, 1352.0, 1404.0, 1456.0, 1508.0, 1560.0, 1612.0, 1664.0, 1716.0, 1768.0, 1820.0, 1872.0, 1924.0, 1976.0, 2028.0, 2080.0, 2132.0, 2184.0, 2236.0, 2288.0, 2340.0], \"y\": [-0.5625, -0.6875, -0.5625, -1.625, -1.4375, -1.375, -2.125, -2.0625, -2.0625, -3.25, -2.875, -3.3125, -3.5625, -4.0625, -3.875, -4.9375, -4.8125, -4.9375, -6.125, -5.5625, -5.125, -7.1875, -7.0625, -6.875, -7.8125, -8.0625, -8.75, -8.6875, -9.0, -9.25, -9.75, -10.3125, -10.625, -11.9375, -10.875, -11.8125, -13.125, -13.0625, -13.1875, -13.25, -14.4375, -14.4375, -15.375, -15.0, -15.5625], \"mode\": \"markers\", \"name\": \"degrees (by IMU)\"}, {\"type\": \"scatter\", \"x\": [52.0, 172.42105263157896, 292.8421052631579, 413.2631578947368, 533.6842105263158, 654.1052631578947, 774.5263157894736, 894.9473684210526, 1015.3684210526316, 1135.7894736842104, 1256.2105263157894, 1376.6315789473683, 1497.0526315789473, 1617.4736842105262, 1737.8947368421052, 1858.3157894736842, 1978.7368421052631, 2099.157894736842, 2219.578947368421, 2340.0], \"y\": [0.415398550724639, -0.40113463005339334, -1.2176678108314256, -2.0342009916094574, -2.85073417238749, -3.6672673531655215, -4.483800533943554, -5.300333714721586, -6.116866895499618, -6.93340007627765, -7.749933257055682, -8.566466437833714, -9.382999618611747, -10.199532799389779, -11.016065980167811, -11.832599160945843, -12.649132341723876, -13.465665522501908, -14.282198703279938, -15.098731884057973], \"name\": \"linear fit (w/ridge penalty)\"}], {\"title\": \"Torque vs Degrees of Deflection (pitch)\", \"yaxis\": {\"title\": \"degrees\"}, \"xaxis\": {\"title\": \"torque (in grams)\"}, \"legend\": {\"x\": 0.1, \"y\": -0.5}}, {\"showLink\": true, \"linkText\": \"Export to plot.ly\"})});</script>"
      ]
     },
     "metadata": {},
     "output_type": "display_data"
    }
   ],
   "source": [
    "%matplotlib tk\n",
    "import plotly.plotly as py\n",
    "import plotly.offline as po\n",
    "import plotly.graph_objs as go\n",
    "from sklearn import linear_model\n",
    "from sklearn.linear_model import Ridge\n",
    "\n",
    "from sklearn.metrics import mean_squared_error, r2_score\n",
    "\n",
    "po.init_notebook_mode(connected=True)\n",
    "\n",
    "trace0 = go.Scatter( x = torquesY, y = thetaY, mode = 'markers',\n",
    "    name = 'degrees (by IMU)' )\n",
    "\n",
    "#forcesXYZ = forcesXYZ.reshape(-1, 1)\n",
    "myX = torquesY.reshape(-1,1)\n",
    "print(len(forcesXYZ))\n",
    "myy = thetaY \n",
    "print(len(thetas))\n",
    "#regr= Ridge(fit_intercept=True, alpha=1.0, random_state=0, normalize=True)\n",
    "regr = linear_model.LinearRegression()\n",
    "regr.fit(myX, myy)\n",
    "coef_ridge = regr.coef_\n",
    "gridx = np.linspace(myX.min(), myX.max(), 20)\n",
    "coef_ = regr.coef_ * gridx + regr.intercept_\n",
    "yPred= regr.predict(myX) \n",
    "#plt.plot(gridx, coef_, 'g-', label=\"ridge regression\")\n",
    "\n",
    "trace2 = go.Scatter( x= gridx, y = coef_,\n",
    "    name = 'linear fit (w/ridge penalty)' )\n",
    "\n",
    "data = [trace0, trace2]\n",
    "    \n",
    "    \n",
    "layout = go.Layout(\n",
    "    title='Torque vs Degrees of Deflection (pitch)',\n",
    "    yaxis=dict(title='degrees'),\n",
    "    xaxis=dict(title='torque (in grams)'),\n",
    "    legend=dict(x=.1, y=-.5) )\n",
    "\n",
    "fig = go.Figure(data=data, layout=layout)\n",
    "# Plot and embed in ipython notebook!\n",
    "\n",
    "print('Coefficients: \\n', regr.coef_)\n",
    "print(\"Mean squared error: %.2f\" % mean_squared_error(thetaY, yPred))\n",
    "#print('Variance score (ideal 1): %.2f' % r2_score(thetaY))\n",
    "po.iplot(fig)"
   ]
  },
  {
   "cell_type": "code",
   "execution_count": 129,
   "metadata": {},
   "outputs": [
    {
     "data": {
      "application/vnd.plotly.v1+json": {
       "data": [
        {
         "mode": "markers",
         "name": "resid vs trueY",
         "type": "scatter",
         "x": [
          -0.5625,
          -0.6875,
          -0.5625,
          -1.625,
          -1.4375,
          -1.375,
          -2.125,
          -2.0625,
          -2.0625,
          -3.25,
          -2.875,
          -3.3125,
          -3.5625,
          -4.0625,
          -3.875,
          -4.9375,
          -4.8125,
          -4.9375,
          -6.125,
          -5.5625,
          -5.125,
          -7.1875,
          -7.0625,
          -6.875,
          -7.8125,
          -8.0625,
          -8.75,
          -8.6875,
          -9,
          -9.25,
          -9.75,
          -10.3125,
          -10.625,
          -11.9375,
          -10.875,
          -11.8125,
          -13.125,
          -13.0625,
          -13.1875,
          -13.25,
          -14.4375,
          -14.4375,
          -15.375,
          -15,
          -15.5625
         ],
         "y": [
          -0.9778985507246389,
          -0.7503046772068523,
          -0.27271080368906575,
          -0.982616930171279,
          -0.44252305665349256,
          -0.02742918313570586,
          -0.42483530961791915,
          -0.00974143610013245,
          0.3428524374176538,
          -0.4920536890645595,
          0.23554018445322722,
          0.15063405797101392,
          0.25322793148880063,
          0.10582180500658733,
          0.645915678524374,
          -0.06399044795783926,
          0.41360342555994745,
          0.6411972990777333,
          -0.19370882740448003,
          0.7213850461133067,
          1.5114789196310934,
          -0.19842720685111992,
          0.2791666666666668,
          0.8192605401844535,
          0.2343544137022402,
          0.3369482872200269,
          0.002042160737813603,
          0.4171360342556003,
          0.457229907773387,
          0.5598237812911737,
          0.4124176548089604,
          0.20251152832674713,
          0.24260540184453383,
          -0.7173007246376795,
          0.6977931488801055,
          0.11288702239789217,
          -0.8470191040843211,
          -0.4319252305665344,
          -0.20433135704874772,
          0.08576251646903899,
          -0.7491436100131743,
          -0.3965497364953876,
          -0.9814558629776009,
          -0.2538619894598142,
          -0.4637681159420275
         ]
        },
        {
         "marker": {
          "color": "red",
          "size": "5"
         },
         "mode": "markers",
         "name": "resid vs estY",
         "type": "scatter",
         "x": [
          0.415398550724639,
          0.06280467720685234,
          -0.28978919631093425,
          -0.642383069828721,
          -0.9949769433465074,
          -1.3475708168642941,
          -1.7001646903820808,
          -2.0527585638998675,
          -2.405352437417654,
          -2.7579463109354405,
          -3.110540184453227,
          -3.463134057971014,
          -3.8157279314888006,
          -4.168321805006587,
          -4.520915678524374,
          -4.873509552042161,
          -5.2261034255599474,
          -5.578697299077733,
          -5.93129117259552,
          -6.283885046113307,
          -6.636478919631093,
          -6.98907279314888,
          -7.341666666666667,
          -7.6942605401844535,
          -8.04685441370224,
          -8.399448287220027,
          -8.752042160737814,
          -9.1046360342556,
          -9.457229907773387,
          -9.809823781291174,
          -10.16241765480896,
          -10.515011528326747,
          -10.867605401844534,
          -11.22019927536232,
          -11.572793148880105,
          -11.925387022397892,
          -12.277980895915679,
          -12.630574769433466,
          -12.983168642951252,
          -13.335762516469039,
          -13.688356389986826,
          -14.040950263504612,
          -14.393544137022399,
          -14.746138010540186,
          -15.098731884057973
         ],
         "y": [
          -0.9778985507246389,
          -0.7503046772068523,
          -0.27271080368906575,
          -0.982616930171279,
          -0.44252305665349256,
          -0.02742918313570586,
          -0.42483530961791915,
          -0.00974143610013245,
          0.3428524374176538,
          -0.4920536890645595,
          0.23554018445322722,
          0.15063405797101392,
          0.25322793148880063,
          0.10582180500658733,
          0.645915678524374,
          -0.06399044795783926,
          0.41360342555994745,
          0.6411972990777333,
          -0.19370882740448003,
          0.7213850461133067,
          1.5114789196310934,
          -0.19842720685111992,
          0.2791666666666668,
          0.8192605401844535,
          0.2343544137022402,
          0.3369482872200269,
          0.002042160737813603,
          0.4171360342556003,
          0.457229907773387,
          0.5598237812911737,
          0.4124176548089604,
          0.20251152832674713,
          0.24260540184453383,
          -0.7173007246376795,
          0.6977931488801055,
          0.11288702239789217,
          -0.8470191040843211,
          -0.4319252305665344,
          -0.20433135704874772,
          0.08576251646903899,
          -0.7491436100131743,
          -0.3965497364953876,
          -0.9814558629776009,
          -0.2538619894598142,
          -0.4637681159420275
         ]
        }
       ],
       "layout": {
        "legend": {
         "x": 0.1,
         "y": -0.5
        },
        "title": "Residuals",
        "xaxis": {
         "title": "yIMU (degrees)"
        },
        "yaxis": {
         "title": "residuals"
        }
       }
      },
      "text/html": [
       "<div id=\"74374e0b-c2a7-4c1d-b9ec-7bc4ad073ae8\" style=\"height: 525px; width: 100%;\" class=\"plotly-graph-div\"></div><script type=\"text/javascript\">require([\"plotly\"], function(Plotly) { window.PLOTLYENV=window.PLOTLYENV || {};window.PLOTLYENV.BASE_URL=\"https://plot.ly\";Plotly.newPlot(\"74374e0b-c2a7-4c1d-b9ec-7bc4ad073ae8\", [{\"type\": \"scatter\", \"x\": [-0.5625, -0.6875, -0.5625, -1.625, -1.4375, -1.375, -2.125, -2.0625, -2.0625, -3.25, -2.875, -3.3125, -3.5625, -4.0625, -3.875, -4.9375, -4.8125, -4.9375, -6.125, -5.5625, -5.125, -7.1875, -7.0625, -6.875, -7.8125, -8.0625, -8.75, -8.6875, -9.0, -9.25, -9.75, -10.3125, -10.625, -11.9375, -10.875, -11.8125, -13.125, -13.0625, -13.1875, -13.25, -14.4375, -14.4375, -15.375, -15.0, -15.5625], \"y\": [-0.9778985507246389, -0.7503046772068523, -0.27271080368906575, -0.982616930171279, -0.44252305665349256, -0.02742918313570586, -0.42483530961791915, -0.00974143610013245, 0.3428524374176538, -0.4920536890645595, 0.23554018445322722, 0.15063405797101392, 0.25322793148880063, 0.10582180500658733, 0.645915678524374, -0.06399044795783926, 0.41360342555994745, 0.6411972990777333, -0.19370882740448003, 0.7213850461133067, 1.5114789196310934, -0.19842720685111992, 0.2791666666666668, 0.8192605401844535, 0.2343544137022402, 0.3369482872200269, 0.002042160737813603, 0.4171360342556003, 0.457229907773387, 0.5598237812911737, 0.4124176548089604, 0.20251152832674713, 0.24260540184453383, -0.7173007246376795, 0.6977931488801055, 0.11288702239789217, -0.8470191040843211, -0.4319252305665344, -0.20433135704874772, 0.08576251646903899, -0.7491436100131743, -0.3965497364953876, -0.9814558629776009, -0.2538619894598142, -0.4637681159420275], \"mode\": \"markers\", \"name\": \"resid vs trueY\"}, {\"type\": \"scatter\", \"x\": [0.415398550724639, 0.06280467720685234, -0.28978919631093425, -0.642383069828721, -0.9949769433465074, -1.3475708168642941, -1.7001646903820808, -2.0527585638998675, -2.405352437417654, -2.7579463109354405, -3.110540184453227, -3.463134057971014, -3.8157279314888006, -4.168321805006587, -4.520915678524374, -4.873509552042161, -5.2261034255599474, -5.578697299077733, -5.93129117259552, -6.283885046113307, -6.636478919631093, -6.98907279314888, -7.341666666666667, -7.6942605401844535, -8.04685441370224, -8.399448287220027, -8.752042160737814, -9.1046360342556, -9.457229907773387, -9.809823781291174, -10.16241765480896, -10.515011528326747, -10.867605401844534, -11.22019927536232, -11.572793148880105, -11.925387022397892, -12.277980895915679, -12.630574769433466, -12.983168642951252, -13.335762516469039, -13.688356389986826, -14.040950263504612, -14.393544137022399, -14.746138010540186, -15.098731884057973], \"y\": [-0.9778985507246389, -0.7503046772068523, -0.27271080368906575, -0.982616930171279, -0.44252305665349256, -0.02742918313570586, -0.42483530961791915, -0.00974143610013245, 0.3428524374176538, -0.4920536890645595, 0.23554018445322722, 0.15063405797101392, 0.25322793148880063, 0.10582180500658733, 0.645915678524374, -0.06399044795783926, 0.41360342555994745, 0.6411972990777333, -0.19370882740448003, 0.7213850461133067, 1.5114789196310934, -0.19842720685111992, 0.2791666666666668, 0.8192605401844535, 0.2343544137022402, 0.3369482872200269, 0.002042160737813603, 0.4171360342556003, 0.457229907773387, 0.5598237812911737, 0.4124176548089604, 0.20251152832674713, 0.24260540184453383, -0.7173007246376795, 0.6977931488801055, 0.11288702239789217, -0.8470191040843211, -0.4319252305665344, -0.20433135704874772, 0.08576251646903899, -0.7491436100131743, -0.3965497364953876, -0.9814558629776009, -0.2538619894598142, -0.4637681159420275], \"mode\": \"markers\", \"marker\": {\"size\": \"5\", \"color\": \"red\"}, \"name\": \"resid vs estY\"}], {\"title\": \"Residuals\", \"yaxis\": {\"title\": \"residuals\"}, \"xaxis\": {\"title\": \"yIMU (degrees)\"}, \"legend\": {\"x\": 0.1, \"y\": -0.5}}, {\"showLink\": true, \"linkText\": \"Export to plot.ly\"})});</script>"
      ],
      "text/vnd.plotly.v1+html": [
       "<div id=\"74374e0b-c2a7-4c1d-b9ec-7bc4ad073ae8\" style=\"height: 525px; width: 100%;\" class=\"plotly-graph-div\"></div><script type=\"text/javascript\">require([\"plotly\"], function(Plotly) { window.PLOTLYENV=window.PLOTLYENV || {};window.PLOTLYENV.BASE_URL=\"https://plot.ly\";Plotly.newPlot(\"74374e0b-c2a7-4c1d-b9ec-7bc4ad073ae8\", [{\"type\": \"scatter\", \"x\": [-0.5625, -0.6875, -0.5625, -1.625, -1.4375, -1.375, -2.125, -2.0625, -2.0625, -3.25, -2.875, -3.3125, -3.5625, -4.0625, -3.875, -4.9375, -4.8125, -4.9375, -6.125, -5.5625, -5.125, -7.1875, -7.0625, -6.875, -7.8125, -8.0625, -8.75, -8.6875, -9.0, -9.25, -9.75, -10.3125, -10.625, -11.9375, -10.875, -11.8125, -13.125, -13.0625, -13.1875, -13.25, -14.4375, -14.4375, -15.375, -15.0, -15.5625], \"y\": [-0.9778985507246389, -0.7503046772068523, -0.27271080368906575, -0.982616930171279, -0.44252305665349256, -0.02742918313570586, -0.42483530961791915, -0.00974143610013245, 0.3428524374176538, -0.4920536890645595, 0.23554018445322722, 0.15063405797101392, 0.25322793148880063, 0.10582180500658733, 0.645915678524374, -0.06399044795783926, 0.41360342555994745, 0.6411972990777333, -0.19370882740448003, 0.7213850461133067, 1.5114789196310934, -0.19842720685111992, 0.2791666666666668, 0.8192605401844535, 0.2343544137022402, 0.3369482872200269, 0.002042160737813603, 0.4171360342556003, 0.457229907773387, 0.5598237812911737, 0.4124176548089604, 0.20251152832674713, 0.24260540184453383, -0.7173007246376795, 0.6977931488801055, 0.11288702239789217, -0.8470191040843211, -0.4319252305665344, -0.20433135704874772, 0.08576251646903899, -0.7491436100131743, -0.3965497364953876, -0.9814558629776009, -0.2538619894598142, -0.4637681159420275], \"mode\": \"markers\", \"name\": \"resid vs trueY\"}, {\"type\": \"scatter\", \"x\": [0.415398550724639, 0.06280467720685234, -0.28978919631093425, -0.642383069828721, -0.9949769433465074, -1.3475708168642941, -1.7001646903820808, -2.0527585638998675, -2.405352437417654, -2.7579463109354405, -3.110540184453227, -3.463134057971014, -3.8157279314888006, -4.168321805006587, -4.520915678524374, -4.873509552042161, -5.2261034255599474, -5.578697299077733, -5.93129117259552, -6.283885046113307, -6.636478919631093, -6.98907279314888, -7.341666666666667, -7.6942605401844535, -8.04685441370224, -8.399448287220027, -8.752042160737814, -9.1046360342556, -9.457229907773387, -9.809823781291174, -10.16241765480896, -10.515011528326747, -10.867605401844534, -11.22019927536232, -11.572793148880105, -11.925387022397892, -12.277980895915679, -12.630574769433466, -12.983168642951252, -13.335762516469039, -13.688356389986826, -14.040950263504612, -14.393544137022399, -14.746138010540186, -15.098731884057973], \"y\": [-0.9778985507246389, -0.7503046772068523, -0.27271080368906575, -0.982616930171279, -0.44252305665349256, -0.02742918313570586, -0.42483530961791915, -0.00974143610013245, 0.3428524374176538, -0.4920536890645595, 0.23554018445322722, 0.15063405797101392, 0.25322793148880063, 0.10582180500658733, 0.645915678524374, -0.06399044795783926, 0.41360342555994745, 0.6411972990777333, -0.19370882740448003, 0.7213850461133067, 1.5114789196310934, -0.19842720685111992, 0.2791666666666668, 0.8192605401844535, 0.2343544137022402, 0.3369482872200269, 0.002042160737813603, 0.4171360342556003, 0.457229907773387, 0.5598237812911737, 0.4124176548089604, 0.20251152832674713, 0.24260540184453383, -0.7173007246376795, 0.6977931488801055, 0.11288702239789217, -0.8470191040843211, -0.4319252305665344, -0.20433135704874772, 0.08576251646903899, -0.7491436100131743, -0.3965497364953876, -0.9814558629776009, -0.2538619894598142, -0.4637681159420275], \"mode\": \"markers\", \"marker\": {\"size\": \"5\", \"color\": \"red\"}, \"name\": \"resid vs estY\"}], {\"title\": \"Residuals\", \"yaxis\": {\"title\": \"residuals\"}, \"xaxis\": {\"title\": \"yIMU (degrees)\"}, \"legend\": {\"x\": 0.1, \"y\": -0.5}}, {\"showLink\": true, \"linkText\": \"Export to plot.ly\"})});</script>"
      ]
     },
     "metadata": {},
     "output_type": "display_data"
    },
    {
     "name": "stdout",
     "output_type": "stream",
     "text": [
      "[ -0.5625  -0.6875  -0.5625  -1.625   -1.4375  -1.375   -2.125   -2.0625\n",
      "  -2.0625  -3.25    -2.875   -3.3125  -3.5625  -4.0625  -3.875   -4.9375\n",
      "  -4.8125  -4.9375  -6.125   -5.5625  -5.125   -7.1875  -7.0625  -6.875\n",
      "  -7.8125  -8.0625  -8.75    -8.6875  -9.      -9.25    -9.75   -10.3125\n",
      " -10.625  -11.9375 -10.875  -11.8125 -13.125  -13.0625 -13.1875 -13.25\n",
      " -14.4375 -14.4375 -15.375  -15.     -15.5625]\n",
      "[-0.97789855 -0.75030468 -0.2727108  -0.98261693 -0.44252306 -0.02742918\n",
      " -0.42483531 -0.00974144  0.34285244 -0.49205369  0.23554018  0.15063406\n",
      "  0.25322793  0.10582181  0.64591568 -0.06399045  0.41360343  0.6411973\n",
      " -0.19370883  0.72138505  1.51147892 -0.19842721  0.27916667  0.81926054\n",
      "  0.23435441  0.33694829  0.00204216  0.41713603  0.45722991  0.55982378\n",
      "  0.41241765  0.20251153  0.2426054  -0.71730072  0.69779315  0.11288702\n",
      " -0.8470191  -0.43192523 -0.20433136  0.08576252 -0.74914361 -0.39654974\n",
      " -0.98145586 -0.25386199 -0.46376812]\n"
     ]
    }
   ],
   "source": [
    "%matplotlib tk\n",
    "resid = thetaY - yPred \n",
    "traceResid = go.Scatter( x = thetaY, y = resid, mode = 'markers',\n",
    "    name = 'resid vs trueY' )\n",
    "traceResid2 = go.Scatter( x = yPred, y = resid, mode = 'markers', \n",
    "                         marker=dict(size='5', color='red'),\n",
    "                        name = 'resid vs estY')\n",
    "data = [traceResid, traceResid2]\n",
    "layout = go.Layout(\n",
    "    title='Residuals',\n",
    "    yaxis=dict(title='residuals'),\n",
    "    xaxis=dict(title='yIMU (degrees)'),\n",
    "    legend=dict(x=.1, y=-.5) )\n",
    "\n",
    "fig = go.Figure(data=data, layout=layout)\n",
    "po.iplot(fig)\n",
    "print(thetaY)\n",
    "print(resid)"
   ]
  },
  {
   "cell_type": "code",
   "execution_count": 130,
   "metadata": {},
   "outputs": [
    {
     "data": {
      "image/png": "[encoded data removed]",
      "text/plain": [
       "<Figure size 432x288 with 3 Axes>"
      ]
     },
     "metadata": {},
     "output_type": "display_data"
    }
   ],
   "source": [
    "%matplotlib inline\n",
    "plt.subplot(131)\n",
    "plt.scatter(forces, thetaX, label='x')\n",
    "plt.ylabel('degrees')\n",
    "plt.xlabel('force (g)')\n",
    "plt.legend()\n",
    "plt.subplot(132)\n",
    "plt.scatter(forces, thetaY, label='y')\n",
    "plt.ylabel('degrees')\n",
    "plt.xlabel('force (g)')\n",
    "plt.legend()\n",
    "plt.subplot(133)\n",
    "plt.scatter(forces, thetaZ, label='z')\n",
    "plt.ylabel('degrees')\n",
    "plt.xlabel('force (g)')\n",
    "plt.legend()\n",
    "plt.show()"
   ]
  },
  {
   "cell_type": "code",
   "execution_count": null,
   "metadata": {},
   "outputs": [],
   "source": []
  },
  {
   "cell_type": "code",
   "execution_count": 131,
   "metadata": {},
   "outputs": [
    {
     "data": {
      "text/html": [
       "<script>requirejs.config({paths: { 'plotly': ['https://cdn.plot.ly/plotly-latest.min']},});if(!window.Plotly) {{require(['plotly'],function(plotly) {window.Plotly=plotly;});}}</script>"
      ],
      "text/vnd.plotly.v1+html": [
       "<script>requirejs.config({paths: { 'plotly': ['https://cdn.plot.ly/plotly-latest.min']},});if(!window.Plotly) {{require(['plotly'],function(plotly) {window.Plotly=plotly;});}}</script>"
      ]
     },
     "metadata": {},
     "output_type": "display_data"
    },
    {
     "ename": "NameError",
     "evalue": "name 'yIMU' is not defined",
     "output_type": "error",
     "traceback": [
      "\u001b[0;31m---------------------------------------------------------------------------\u001b[0m",
      "\u001b[0;31mNameError\u001b[0m                                 Traceback (most recent call last)",
      "\u001b[0;32m<ipython-input-131-02589ca68592>\u001b[0m in \u001b[0;36m<module>\u001b[0;34m()\u001b[0m\n\u001b[1;32m      8\u001b[0m \u001b[0;34m\u001b[0m\u001b[0m\n\u001b[1;32m      9\u001b[0m \u001b[0mpo\u001b[0m\u001b[0;34m.\u001b[0m\u001b[0minit_notebook_mode\u001b[0m\u001b[0;34m(\u001b[0m\u001b[0mconnected\u001b[0m\u001b[0;34m=\u001b[0m\u001b[0;32mTrue\u001b[0m\u001b[0;34m)\u001b[0m\u001b[0;34m\u001b[0m\u001b[0m\n\u001b[0;32m---> 10\u001b[0;31m trace0 = go.Scatter( x = forces, y = yIMU, mode = 'markers',\n\u001b[0m\u001b[1;32m     11\u001b[0m     name = 'degrees (by IMU)' )\n\u001b[1;32m     12\u001b[0m \u001b[0;34m\u001b[0m\u001b[0m\n",
      "\u001b[0;31mNameError\u001b[0m: name 'yIMU' is not defined"
     ]
    }
   ],
   "source": [
    "import numpy as np\n",
    "import plotly.plotly as py\n",
    "import plotly.offline as po\n",
    "import plotly.graph_objs as go\n",
    "from sklearn import linear_model\n",
    "from sklearn.linear_model import Ridge\n",
    "from sklearn.metrics import mean_squared_error, r2_score\n",
    "\n",
    "po.init_notebook_mode(connected=True)\n",
    "trace0 = go.Scatter( x = forces, y = yIMU, mode = 'markers',\n",
    "    name = 'degrees (by IMU)' )\n",
    "\n",
    "forces = forces.reshape(-1, 1)\n",
    "myX = forces\n",
    "myy = yIMU \n",
    "#regr= Ridge(fit_intercept=True, alpha=1.0, random_state=0, normalize=True)\n",
    "regr = linear_model.LinearRegression()\n",
    "regr.fit(myX, myy)\n",
    "coef_ridge = regr.coef_\n",
    "gridx = np.linspace(myX.min(), myX.max(), 20)\n",
    "coef_ = regr.coef_ * gridx + regr.intercept_\n",
    "yPred= regr.predict(myX) \n",
    "#plt.plot(gridx, coef_, 'g-', label=\"ridge regression\")\n",
    "\n",
    "trace2 = go.Scatter( x= gridx, y = coef_,\n",
    "    name = 'linear fit (w/ridge penalty)' )\n",
    "           "
   ]
  },
  {
   "cell_type": "code",
   "execution_count": null,
   "metadata": {},
   "outputs": [],
   "source": [
    "#kest = torques / thetas\n",
    "# thetas 21.3\n",
    "\n",
    "# forces 21.3 \n",
    "# pos 1.3 \n",
    "#torques 21.3\n",
    "\n"
   ]
  }
 ],
 "metadata": {
  "kernelspec": {
   "display_name": "Python 3",
   "language": "python",
   "name": "python3"
  },
  "language_info": {
   "codemirror_mode": {
    "name": "ipython",
    "version": 3
   },
   "file_extension": ".py",
   "mimetype": "text/x-python",
   "name": "python",
   "nbconvert_exporter": "python",
   "pygments_lexer": "ipython3",
   "version": "3.6.3"
  }
 },
 "nbformat": 4,
 "nbformat_minor": 2
}
