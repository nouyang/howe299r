{
 "cells": [
  {
   "cell_type": "code",
   "execution_count": 2,
   "metadata": {},
   "outputs": [],
   "source": [
    "import pandas as pd\n",
    "import numpy as np\n",
    "import matplotlib.pyplot as plt\n",
    "\n",
    "path = \"~/Documents/projects_Spring2018/howe299r/Experiments/03April2018/WIP/\"\n",
    "pos = range(1,16)\n",
    "IMUDats = [ '%02dIMU.txt'% x for x in pos ]\n",
    "IMUCols = ['timeSysCal', 'XYZ','X', 'Y', 'Z']\n",
    "\n",
    "imuDat = pd.read_csv(path+'01IMU.txt', header=None,sep=';', \n",
    "                    names = IMUCols, usecols=[0,1,2,3,4]) #TODO: this is somehow skipping a col, so the last is NaN. usecols to get around this\n",
    "imuDat = imuDat.drop(['timeSysCal', 'XYZ'], 1)\n",
    "\n",
    "# zero calibration are the \"even\" cols\n",
    "bkgd = imuDat.iloc[0::2]  #even \n",
    "signal = imuDat.iloc[1::2]  #even \n",
    "\n",
    "#foo = imuDat.iloc[[x for x in range(len(imuDat)) if x%2==0],:]\n",
    "#boo = imuDat.iloc[[x for x in range(len(imuDat)) if x%2==1],:]\n",
    "\n",
    "#signal = signal.subtract(bkgd, axis=1) #produces NaN's\n",
    "#https://stackoverflow.com/questions/41411273/python-subtract-every-even-column-from-previous-odd-column#41411532\n",
    "# https://stackoverflow.com/questions/40837281/how-to-add-a-string-to-every-even-row-in-a-pandas-dataframe-column-series"
   ]
  },
  {
   "cell_type": "code",
   "execution_count": 3,
   "metadata": {
    "scrolled": true
   },
   "outputs": [
    {
     "name": "stdout",
     "output_type": "stream",
     "text": [
      "(21, 3)\n"
     ]
    }
   ],
   "source": [
    "zer = bkgd.as_matrix()\n",
    "sig = signal.as_matrix()\n",
    "\n",
    "#print(len(sig-zer))\n",
    "#print(len(imuDat))\n",
    "#print('orig', imuDat[0:2])\n",
    "#print('zero', zer[0])\n",
    "#print('sigl', sig[0])\n",
    "#print(sig-zer)\n",
    "thetas = sig-zer\n",
    "print(thetas.shape)"
   ]
  },
  {
   "cell_type": "code",
   "execution_count": 4,
   "metadata": {},
   "outputs": [],
   "source": [
    "#TRUE\n",
    "#y across width of finger\n",
    "#x across length of finger\n",
    "#z is up and down\n",
    "# pos 15, x =  2.6 cm\n",
    "# pos 12, x =  3.1 cm (+0.5cm)\n",
    "# pos 09, x =  3.6 cm (+0.5cm)\n",
    "# pos 06, x =  4.1 cm (+0.5cm)\n",
    "# pos 03, x =  4.6 cm (+0.5cm)\n",
    "\n",
    "# pos 1 y = +0.4cm\n",
    "# pos 2 y = +0.1cm\n",
    "# pos 3 y = -0.2cm\n",
    "\n",
    "posIdx = range(1,16)\n",
    "xs = [4.6, 4.1, 3.5, 3.1, 2.6][:-1]#pos 1 x = 4.6 cm\n",
    "ys = [0.4, 0.1, -0.2]\n",
    "#posX = np.array([(x,x,x) for x in xs]).flatten()\n",
    "#posY = np.array(ys *5)\n",
    "#posZ = np.array([0]*15)\n",
    "#print([i for i in posIdx])\n",
    "#print(posX)\n",
    "#print(posY)\n",
    "#print(posZ)\n",
    "n = thetas.shape[0]\n",
    "forces = range(1, n+1) \n",
    "forcesZ = [20*f for f in forces]\n",
    "np.zeros([n,2])\n",
    "#forcesXYZ = np.concatenate( (np.zeros(n*2),forcesZ)).reshape(3,n).T\n",
    "forcesXYZ = np.column_stack((np.zeros((n,2)),forcesZ))\n",
    "pos = np.array([4.6, 0.4, 0])\n",
    "#print(forcesXYZ)\n",
    "#print(forcesXYZ)\n",
    "# np.tile(a,2)\n",
    "# np.repeat(a,2)\n",
    "torques = np.cross(forcesXYZ, pos)"
   ]
  },
  {
   "cell_type": "code",
   "execution_count": 5,
   "metadata": {},
   "outputs": [
    {
     "ename": "SyntaxError",
     "evalue": "unexpected EOF while parsing (<ipython-input-5-6965056c7236>, line 9)",
     "output_type": "error",
     "traceback": [
      "\u001b[0;36m  File \u001b[0;32m\"<ipython-input-5-6965056c7236>\"\u001b[0;36m, line \u001b[0;32m9\u001b[0m\n\u001b[0;31m    ax.scatter(u,v,\u001b[0m\n\u001b[0m                   ^\u001b[0m\n\u001b[0;31mSyntaxError\u001b[0m\u001b[0;31m:\u001b[0m unexpected EOF while parsing\n"
     ]
    }
   ],
   "source": [
    "from mpl_toolkits.mplot3d import Axes3D\n",
    "\n",
    "fig = plt.figure()\n",
    "ax = fig.add_subplot(111, projection='3d')\n",
    "\n",
    "u = np.linspace(0, 2 * np.pi, 100)\n",
    "v = np.linspace(0, np.pi, 100)\n",
    "# Plot the surface\n",
    "ax.scatter(u,v,"
   ]
  },
  {
   "cell_type": "code",
   "execution_count": null,
   "metadata": {},
   "outputs": [],
   "source": [
    "#kest = torques / thetas\n",
    "# thetas 21.3\n",
    "\n",
    "# forces 21.3 \n",
    "# pos 1.3 \n",
    "\n",
    "#torques 21.3\n",
    "\n",
    "np.divide(torques,thetas)\n",
    "# https://stackoverflow.com/questions/33559946/numpy-vs-mldivide-matlab-operator\n",
    "x,resid,rank,s = np.linalg.lstsq(torques, thetas)\n",
    "print(x)\n",
    "\n"
   ]
  },
  {
   "cell_type": "raw",
   "metadata": {},
   "source": [
    "In [57]: a\n",
    "Out[57]: array([2, 3, 4])\n",
    "\n",
    "In [58]: b\n",
    "Out[58]: array([5, 6, 7])\n",
    "\n",
    "    \n",
    "In [64]: np.cross(np.tile(a,4).reshape(4,3),b)\n",
    "Out[64]: \n",
    "array([[-3,  6, -3],\n",
    "       [-3,  6, -3],\n",
    "       [-3,  6, -3],\n",
    "       [-3,  6, -3]])\n"
   ]
  },
  {
   "cell_type": "code",
   "execution_count": null,
   "metadata": {},
   "outputs": [],
   "source": [
    "from mpl_toolkits.mplot3d import Axes3D\n",
    "from matplotlib import cm\n",
    "fig=plt.figure()\n",
    "ax = Axes3D(fig)\n",
    "x=[1,2,3,4,5]\n",
    "y=[1,3,5,6,8]\n",
    "z=[3,3,5,6,7]\n",
    "#ax.plot_surface(x,y,z)\n",
    "#plt.show()\n",
    "ax.scatter(x,y,z)\n"
   ]
  },
  {
   "cell_type": "code",
   "execution_count": null,
   "metadata": {},
   "outputs": [],
   "source": [
    "from mpl_toolkits.mplot3d import Axes3D\n",
    "import matplotlib.pyplot as plt\n",
    "import numpy as np\n",
    "\n",
    "\n",
    "fig = plt.figure()\n",
    "ax = fig.add_subplot(111, projection='3d')\n",
    "\n",
    "# Make data\n",
    "u = np.linspace(0, 2 * np.pi, 100)\n",
    "v = np.linspace(0, np.pi, 100)\n",
    "x = 10 * np.outer(np.cos(u), np.sin(v))\n",
    "y = 10 * np.outer(np.sin(u), np.sin(v))\n",
    "z = 10 * np.outer(np.ones(np.size(u)), np.cos(v))\n",
    "print(x.shape)\n",
    "print(y.shape)\n",
    "print(z.shape)\n",
    "\n",
    "# Plot the surface\n",
    "ax.plot_surface(x, y, z, color='b')\n",
    "ax.scatter\n",
    "\n",
    "#plt.show()"
   ]
  }
 ],
 "metadata": {
  "kernelspec": {
   "display_name": "Python 3",
   "language": "python",
   "name": "python3"
  },
  "language_info": {
   "codemirror_mode": {
    "name": "ipython",
    "version": 3
   },
   "file_extension": ".py",
   "mimetype": "text/x-python",
   "name": "python",
   "nbconvert_exporter": "python",
   "pygments_lexer": "ipython3",
   "version": "3.6.3"
  }
 },
 "nbformat": 4,
 "nbformat_minor": 2
}
