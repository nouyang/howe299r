{
 "cells": [
  {
   "cell_type": "markdown",
   "metadata": {},
   "source": [
    "# Calculate change in position, for position 2\n",
    "against zero'd IMU readings"
   ]
  },
  {
   "cell_type": "code",
   "execution_count": 7,
   "metadata": {},
   "outputs": [
    {
     "name": "stdout",
     "output_type": "stream",
     "text": [
      "<_csv.reader object at 0x7f09c1964748>\n"
     ]
    }
   ],
   "source": [
    "import csv\n",
    "import numpy as np \n",
    "path ='/home/nrw/Documents/projects_Spring2018/Research/Experiments/16Mar2018/'\n",
    "path += 'pos2'\n",
    "fname = 'data_16Mar2018_pos2.csv'\n",
    "file=open(path+fname, \"r\")\n",
    "reader = csv.reader(file)\n",
    "print(reader)\n",
    "zero_pos = np.array([])\n",
    "# calculate change in position = (final pos) - (zero pos)\n",
    "outfname = 'delta_pos.csv'\n",
    "outfile = open(path+outfname,\"w\")\n",
    "\n",
    "for row_index, row in enumerate(reader):\n",
    "    if row_index == 0:\n",
    "        pass\n",
    "    elif row_index % 2 == 1:\n",
    "        zero_pos = np.array([float(j) for j in row[:4]])\n",
    "    elif row_index % 2 == 0:\n",
    "        pos = np.array([float(j) for j in row[:4]]) - zero_pos\n",
    "        astr = ','.join(['%.2f' % num for num in pos])  + \"\\n\"\n",
    "        outfile.write(astr)\n",
    "        \n",
    "file.close()\n",
    "outfile.close()\n",
    "        \n",
    "#for line in reader:\n",
    "#    t=line[0]\n",
    "#    print(t)\n",
    "\n",
    "# https://rosettacode.org/wiki/Read_a_specific_line_from_a_file#Python"
   ]
  },
  {
   "cell_type": "markdown",
   "metadata": {},
   "source": [
    "# Calculate change in position, for position 3\n",
    "against zero'd IMU readings"
   ]
  },
  {
   "cell_type": "code",
   "execution_count": 27,
   "metadata": {},
   "outputs": [
    {
     "name": "stdout",
     "output_type": "stream",
     "text": [
      "<_csv.reader object at 0x7f09bd9fa4a8>\n"
     ]
    }
   ],
   "source": [
    "import csv\n",
    "import numpy as np \n",
    "path3 ='/home/nrw/Documents/projects_Spring2018/Research/Experiments/16Mar2018/'\n",
    "path3 += 'pos3/'\n",
    "fname3 = 'data_16Mar2018_pos3.csv'\n",
    "file3=open(path3+fname3, \"r\")\n",
    "reader = csv.reader(file3)\n",
    "print(reader)\n",
    "zero_pos = np.array([])\n",
    "# calculate change in position = (final pos) - (zero pos)\n",
    "outfname = 'delta_pos.csv'\n",
    "outfile = open(path3+outfname,\"w\")\n",
    "\n",
    "for row_index, row in enumerate(reader):\n",
    "    if row_index == 0:\n",
    "        pass\n",
    "    elif row_index % 2 == 1:\n",
    "        zero_pos = np.array([float(j) for j in row[:4]])\n",
    "    elif row_index % 2 == 0:\n",
    "        pos = np.array([float(j) for j in row[:4]]) - zero_pos\n",
    "        astr = ','.join(['%.2f' % num for num in pos])  + \"\\n\"\n",
    "        outfile.write(astr)\n",
    "        \n",
    "file3.close()\n",
    "outfile.close()\n",
    "        \n",
    "#for line in reader:\n",
    "#    t=line[0]\n",
    "#    print(t)\n",
    "\n",
    "# https://rosettacode.org/wiki/Read_a_specific_line_from_a_file#Python"
   ]
  },
  {
   "cell_type": "markdown",
   "metadata": {},
   "source": [
    "## Read in CSV to variables"
   ]
  },
  {
   "cell_type": "code",
   "execution_count": 31,
   "metadata": {},
   "outputs": [],
   "source": [
    "import pandas as pd\n",
    "import numpy as np\n",
    "import matplotlib.pyplot as plt\n",
    "\n",
    "path3 ='/home/nrw/Documents/projects_Spring2018/Research/Experiments/16Mar2018/'\n",
    "path3 += 'pos3/'\n",
    "csv_file3 = 'data_position_IMU_camera_pos3.csv'\n",
    "\n",
    "# pandas so I don't have to loop through file just to ge tone column\n",
    "# https://stackoverflow.com/questions/16503560/read-specific-columns-from-a-csv-file-with-csv-module\n",
    "df3 = pd.read_csv(path3+csv_file3)\n",
    "eulerY3 = df3[\"EulerY\"]\n",
    "trueDeg3 = df3[\"Camera (degrees)\"]\n",
    "trueF3 = df3[\"Force (grams)\"]"
   ]
  },
  {
   "cell_type": "code",
   "execution_count": 19,
   "metadata": {
    "scrolled": true
   },
   "outputs": [
    {
     "data": {
      "image/png": "[encoded data removed]",
      "text/plain": [
       "<Figure size 432x288 with 1 Axes>"
      ]
     },
     "metadata": {},
     "output_type": "display_data"
    }
   ],
   "source": [
    "plt.scatter(trueF, eulerY)\n",
    "plt.scatter(trueF, -trueDeg)\n",
    "plt.ylabel('degrees of deflection (deg)')\n",
    "plt.xlabel('force (grams)')\n",
    "plt.show()"
   ]
  },
  {
   "cell_type": "markdown",
   "metadata": {},
   "source": [
    " ## Position Two, ridge regression"
   ]
  },
  {
   "cell_type": "code",
   "execution_count": 38,
   "metadata": {},
   "outputs": [
    {
     "data": {
      "text/html": [
       "<script>requirejs.config({paths: { 'plotly': ['https://cdn.plot.ly/plotly-latest.min']},});if(!window.Plotly) {{require(['plotly'],function(plotly) {window.Plotly=plotly;});}}</script>"
      ],
      "text/vnd.plotly.v1+html": [
       "<script>requirejs.config({paths: { 'plotly': ['https://cdn.plot.ly/plotly-latest.min']},});if(!window.Plotly) {{require(['plotly'],function(plotly) {window.Plotly=plotly;});}}</script>"
      ]
     },
     "metadata": {},
     "output_type": "display_data"
    },
    {
     "name": "stderr",
     "output_type": "stream",
     "text": [
      "/home/nrw/Documents/projects_Spring2018/Research/venv/lib/python3.6/site-packages/ipykernel_launcher.py:24: FutureWarning:\n",
      "\n",
      "reshape is deprecated and will raise in a subsequent release. Please use .values.reshape(...) instead\n",
      "\n"
     ]
    },
    {
     "data": {
      "application/vnd.plotly.v1+json": {
       "data": [
        {
         "mode": "markers",
         "name": "degrees (by IMU)",
         "type": "scatter",
         "x": [
          0,
          5,
          10,
          20,
          25,
          30,
          40,
          45,
          50,
          55,
          60
         ],
         "y": [
          0,
          -0.31,
          -0.62,
          -1.12,
          -1.75,
          -2.19,
          -3,
          -2.62,
          -2.94,
          -3.44,
          -4.38
         ]
        },
        {
         "mode": "markers",
         "name": "true degrees (by webcam)",
         "type": "scatter",
         "x": [
          0,
          5,
          10,
          20,
          25,
          30,
          40,
          45,
          50,
          55,
          60
         ],
         "y": [
          0,
          -0.39,
          -0.78,
          -1.36,
          -1.56,
          -1.94,
          -2.72,
          -3.1,
          -3.49,
          -3.69,
          -4.27
         ]
        },
        {
         "name": "linear fit (w/ridge penalty)",
         "type": "scatter",
         "x": [
          0,
          3.1578947368421053,
          6.315789473684211,
          9.473684210526315,
          12.631578947368421,
          15.789473684210527,
          18.94736842105263,
          22.105263157894736,
          25.263157894736842,
          28.42105263157895,
          31.578947368421055,
          34.73684210526316,
          37.89473684210526,
          41.05263157894737,
          44.21052631578947,
          47.36842105263158,
          50.526315789473685,
          53.68421052631579,
          56.8421052631579,
          60
         ],
         "y": [
          -1.006924114021572,
          -1.1118204119698323,
          -1.2167167099180929,
          -1.3216130078663533,
          -1.4265093058146137,
          -1.5314056037628743,
          -1.6363019017111347,
          -1.741198199659395,
          -1.8460944976076554,
          -1.950990795555916,
          -2.0558870935041766,
          -2.160783391452437,
          -2.265679689400697,
          -2.370575987348958,
          -2.475472285297218,
          -2.5803685832454786,
          -2.6852648811937394,
          -2.7901611791419993,
          -2.89505747709026,
          -2.9999537750385206
         ]
        }
       ],
       "layout": {
        "legend": {
         "x": 0.1,
         "y": -0.5
        },
        "title": "Force vs Degrees of Deflection",
        "xaxis": {
         "title": "Force (in grams)"
        },
        "yaxis": {
         "title": "degrees"
        }
       }
      },
      "text/html": [
       "<div id=\"0b6b1018-32b6-43e7-857e-151390a7fbae\" style=\"height: 525px; width: 100%;\" class=\"plotly-graph-div\"></div><script type=\"text/javascript\">require([\"plotly\"], function(Plotly) { window.PLOTLYENV=window.PLOTLYENV || {};window.PLOTLYENV.BASE_URL=\"https://plot.ly\";Plotly.newPlot(\"0b6b1018-32b6-43e7-857e-151390a7fbae\", [{\"type\": \"scatter\", \"x\": [0, 5, 10, 20, 25, 30, 40, 45, 50, 55, 60], \"y\": [0.0, -0.31, -0.62, -1.12, -1.75, -2.19, -3.0, -2.62, -2.94, -3.44, -4.38], \"mode\": \"markers\", \"name\": \"degrees (by IMU)\"}, {\"type\": \"scatter\", \"x\": [0, 5, 10, 20, 25, 30, 40, 45, 50, 55, 60], \"y\": [-0.0, -0.39, -0.78, -1.36, -1.56, -1.94, -2.72, -3.1, -3.49, -3.69, -4.27], \"mode\": \"markers\", \"name\": \"true degrees (by webcam)\"}, {\"type\": \"scatter\", \"x\": [0.0, 3.1578947368421053, 6.315789473684211, 9.473684210526315, 12.631578947368421, 15.789473684210527, 18.94736842105263, 22.105263157894736, 25.263157894736842, 28.42105263157895, 31.578947368421055, 34.73684210526316, 37.89473684210526, 41.05263157894737, 44.21052631578947, 47.36842105263158, 50.526315789473685, 53.68421052631579, 56.8421052631579, 60.0], \"y\": [-1.006924114021572, -1.1118204119698323, -1.2167167099180929, -1.3216130078663533, -1.4265093058146137, -1.5314056037628743, -1.6363019017111347, -1.741198199659395, -1.8460944976076554, -1.950990795555916, -2.0558870935041766, -2.160783391452437, -2.265679689400697, -2.370575987348958, -2.475472285297218, -2.5803685832454786, -2.6852648811937394, -2.7901611791419993, -2.89505747709026, -2.9999537750385206], \"name\": \"linear fit (w/ridge penalty)\"}], {\"title\": \"Force vs Degrees of Deflection\", \"yaxis\": {\"title\": \"degrees\"}, \"xaxis\": {\"title\": \"Force (in grams)\"}, \"legend\": {\"x\": 0.1, \"y\": -0.5}}, {\"showLink\": true, \"linkText\": \"Export to plot.ly\"})});</script>"
      ],
      "text/vnd.plotly.v1+html": [
       "<div id=\"0b6b1018-32b6-43e7-857e-151390a7fbae\" style=\"height: 525px; width: 100%;\" class=\"plotly-graph-div\"></div><script type=\"text/javascript\">require([\"plotly\"], function(Plotly) { window.PLOTLYENV=window.PLOTLYENV || {};window.PLOTLYENV.BASE_URL=\"https://plot.ly\";Plotly.newPlot(\"0b6b1018-32b6-43e7-857e-151390a7fbae\", [{\"type\": \"scatter\", \"x\": [0, 5, 10, 20, 25, 30, 40, 45, 50, 55, 60], \"y\": [0.0, -0.31, -0.62, -1.12, -1.75, -2.19, -3.0, -2.62, -2.94, -3.44, -4.38], \"mode\": \"markers\", \"name\": \"degrees (by IMU)\"}, {\"type\": \"scatter\", \"x\": [0, 5, 10, 20, 25, 30, 40, 45, 50, 55, 60], \"y\": [-0.0, -0.39, -0.78, -1.36, -1.56, -1.94, -2.72, -3.1, -3.49, -3.69, -4.27], \"mode\": \"markers\", \"name\": \"true degrees (by webcam)\"}, {\"type\": \"scatter\", \"x\": [0.0, 3.1578947368421053, 6.315789473684211, 9.473684210526315, 12.631578947368421, 15.789473684210527, 18.94736842105263, 22.105263157894736, 25.263157894736842, 28.42105263157895, 31.578947368421055, 34.73684210526316, 37.89473684210526, 41.05263157894737, 44.21052631578947, 47.36842105263158, 50.526315789473685, 53.68421052631579, 56.8421052631579, 60.0], \"y\": [-1.006924114021572, -1.1118204119698323, -1.2167167099180929, -1.3216130078663533, -1.4265093058146137, -1.5314056037628743, -1.6363019017111347, -1.741198199659395, -1.8460944976076554, -1.950990795555916, -2.0558870935041766, -2.160783391452437, -2.265679689400697, -2.370575987348958, -2.475472285297218, -2.5803685832454786, -2.6852648811937394, -2.7901611791419993, -2.89505747709026, -2.9999537750385206], \"name\": \"linear fit (w/ridge penalty)\"}], {\"title\": \"Force vs Degrees of Deflection\", \"yaxis\": {\"title\": \"degrees\"}, \"xaxis\": {\"title\": \"Force (in grams)\"}, \"legend\": {\"x\": 0.1, \"y\": -0.5}}, {\"showLink\": true, \"linkText\": \"Export to plot.ly\"})});</script>"
      ]
     },
     "metadata": {},
     "output_type": "display_data"
    }
   ],
   "source": [
    "import numpy as np\n",
    "import plotly\n",
    "import plotly.plotly as py\n",
    "import plotly.offline as po\n",
    "import plotly.graph_objs as go\n",
    "from sklearn import linear_model\n",
    "from sklearn.linear_model import Ridge\n",
    "\n",
    "plotly.offline.init_notebook_mode(connected=True)\n",
    "\n",
    "trace0 = go.Scatter(\n",
    "    x = trueF,\n",
    "    y = eulerY,\n",
    "    mode = 'markers',\n",
    "    name = 'degrees (by IMU)'\n",
    ")\n",
    "trace1 = go.Scatter(\n",
    "    x = trueF,\n",
    "    y = -trueDeg,\n",
    "    mode = 'markers',\n",
    "    name = 'true degrees (by webcam)'\n",
    ")\n",
    "\n",
    "myX = trueF.dropna().reshape(-1,1)\n",
    "myy = eulerY.dropna()\n",
    "ridge = Ridge(fit_intercept=True, alpha=1.0, random_state=0, normalize=True)\n",
    "ridge.fit(myX, myy)\n",
    "coef_ridge = ridge.coef_\n",
    "gridx = np.linspace(myX.min(), myX.max(), 20)\n",
    "coef_ = ridge.coef_ * gridx + ridge.intercept_\n",
    "#plt.plot(gridx, coef_, 'g-', label=\"ridge regression\")\n",
    "\n",
    "trace2 = go.Scatter(\n",
    "    x= gridx,\n",
    "    y = coef_,\n",
    "    name = 'linear fit (w/ridge penalty)'\n",
    ")\n",
    "\n",
    "\n",
    "\n",
    "#a,b = np.polyfit(x,y,1)\n",
    "#plt.plot(np.unique(x), np.poly1d(np.polyfit(x, y, 1))(np.unique(x)))\n",
    "\n",
    "           \n",
    "data = [trace0, trace1, trace2]\n",
    "\n",
    "layout = go.Layout(\n",
    "    title='Force vs Degrees of Deflection',\n",
    "    yaxis=dict(title='degrees'),\n",
    "    xaxis=dict(title='Force (in grams)'),\n",
    "    legend=dict(x=.1, y=-.5)\n",
    ")\n",
    "\n",
    "\n",
    "fig = go.Figure(data=data, layout=layout)\n",
    "# Plot and embed in ipython notebook!\n",
    "po.iplot(fig)\n",
    "#po.plot(fig, filename='temp_plot.html')\n"
   ]
  },
  {
   "cell_type": "markdown",
   "metadata": {},
   "source": [
    " ## Position Three, ridge regression"
   ]
  },
  {
   "cell_type": "code",
   "execution_count": 37,
   "metadata": {},
   "outputs": [
    {
     "data": {
      "text/html": [
       "<script>requirejs.config({paths: { 'plotly': ['https://cdn.plot.ly/plotly-latest.min']},});if(!window.Plotly) {{require(['plotly'],function(plotly) {window.Plotly=plotly;});}}</script>"
      ],
      "text/vnd.plotly.v1+html": [
       "<script>requirejs.config({paths: { 'plotly': ['https://cdn.plot.ly/plotly-latest.min']},});if(!window.Plotly) {{require(['plotly'],function(plotly) {window.Plotly=plotly;});}}</script>"
      ]
     },
     "metadata": {},
     "output_type": "display_data"
    },
    {
     "name": "stderr",
     "output_type": "stream",
     "text": [
      "/home/nrw/Documents/projects_Spring2018/Research/venv/lib/python3.6/site-packages/ipykernel_launcher.py:24: FutureWarning:\n",
      "\n",
      "reshape is deprecated and will raise in a subsequent release. Please use .values.reshape(...) instead\n",
      "\n"
     ]
    },
    {
     "data": {
      "application/vnd.plotly.v1+json": {
       "data": [
        {
         "mode": "markers",
         "name": "pos3 degrees (by IMU)",
         "type": "scatter",
         "x": [
          0,
          5,
          10,
          20,
          25,
          30,
          40,
          45,
          50,
          55,
          70,
          75,
          90
         ],
         "y": [
          0,
          -0.31,
          -0.5,
          -1,
          -1.31,
          -1.44,
          -1.94,
          -2.31,
          -2.62,
          -2.94,
          -3.69,
          -4.19,
          -5.06
         ]
        },
        {
         "mode": "markers",
         "name": "pos3 true degrees (by webcam)",
         "type": "scatter",
         "x": [
          0,
          5,
          10,
          20,
          25,
          30,
          40,
          45,
          50,
          55,
          70,
          75,
          90
         ],
         "y": [
          0,
          -0.4,
          -0.6,
          -1.19,
          -1.39,
          -1.79,
          -2.39,
          -2.78,
          -3.18,
          -3.35,
          -4.53,
          -4.73,
          -5.71
         ]
        },
        {
         "name": "pos3 linear fit (w/ridge penalty)",
         "type": "scatter",
         "x": [
          0,
          4.7368421052631575,
          9.473684210526315,
          14.210526315789473,
          18.94736842105263,
          23.684210526315788,
          28.421052631578945,
          33.1578947368421,
          37.89473684210526,
          42.63157894736842,
          47.368421052631575,
          52.10526315789473,
          56.84210526315789,
          61.57894736842105,
          66.3157894736842,
          71.05263157894737,
          75.78947368421052,
          80.52631578947367,
          85.26315789473684,
          90
         ],
         "y": [
          -1.0018142072213496,
          -1.1332171073287611,
          -1.2646200074361724,
          -1.3960229075435837,
          -1.5274258076509952,
          -1.6588287077584067,
          -1.790231607865818,
          -1.9216345079732293,
          -2.053037408080641,
          -2.1844403081880523,
          -2.3158432082954636,
          -2.447246108402875,
          -2.5786490085102862,
          -2.7100519086176975,
          -2.8414548087251092,
          -2.972857708832521,
          -3.1042606089399323,
          -3.2356635090473436,
          -3.367066409154755,
          -3.498469309262166
         ]
        }
       ],
       "layout": {
        "legend": {
         "x": 0.1,
         "y": -0.5
        },
        "title": "Force vs Degrees of Deflection",
        "xaxis": {
         "title": "Force (in grams)"
        },
        "yaxis": {
         "title": "degrees"
        }
       }
      },
      "text/html": [
       "<div id=\"57c7db48-feec-485d-9698-2451a1f1c2c7\" style=\"height: 525px; width: 100%;\" class=\"plotly-graph-div\"></div><script type=\"text/javascript\">require([\"plotly\"], function(Plotly) { window.PLOTLYENV=window.PLOTLYENV || {};window.PLOTLYENV.BASE_URL=\"https://plot.ly\";Plotly.newPlot(\"57c7db48-feec-485d-9698-2451a1f1c2c7\", [{\"type\": \"scatter\", \"x\": [0, 5, 10, 20, 25, 30, 40, 45, 50, 55, 70, 75, 90], \"y\": [0.0, -0.31, -0.5, -1.0, -1.31, -1.44, -1.94, -2.31, -2.62, -2.94, -3.69, -4.19, -5.06], \"mode\": \"markers\", \"name\": \"pos3 degrees (by IMU)\"}, {\"type\": \"scatter\", \"x\": [0, 5, 10, 20, 25, 30, 40, 45, 50, 55, 70, 75, 90], \"y\": [-0.0, -0.4, -0.6, -1.19, -1.39, -1.79, -2.39, -2.78, -3.18, -3.35, -4.53, -4.73, -5.71], \"mode\": \"markers\", \"name\": \"pos3 true degrees (by webcam)\"}, {\"type\": \"scatter\", \"x\": [0.0, 4.7368421052631575, 9.473684210526315, 14.210526315789473, 18.94736842105263, 23.684210526315788, 28.421052631578945, 33.1578947368421, 37.89473684210526, 42.63157894736842, 47.368421052631575, 52.10526315789473, 56.84210526315789, 61.57894736842105, 66.3157894736842, 71.05263157894737, 75.78947368421052, 80.52631578947367, 85.26315789473684, 90.0], \"y\": [-1.0018142072213496, -1.1332171073287611, -1.2646200074361724, -1.3960229075435837, -1.5274258076509952, -1.6588287077584067, -1.790231607865818, -1.9216345079732293, -2.053037408080641, -2.1844403081880523, -2.3158432082954636, -2.447246108402875, -2.5786490085102862, -2.7100519086176975, -2.8414548087251092, -2.972857708832521, -3.1042606089399323, -3.2356635090473436, -3.367066409154755, -3.498469309262166], \"name\": \"pos3 linear fit (w/ridge penalty)\"}], {\"title\": \"Force vs Degrees of Deflection\", \"yaxis\": {\"title\": \"degrees\"}, \"xaxis\": {\"title\": \"Force (in grams)\"}, \"legend\": {\"x\": 0.1, \"y\": -0.5}}, {\"showLink\": true, \"linkText\": \"Export to plot.ly\"})});</script>"
      ],
      "text/vnd.plotly.v1+html": [
       "<div id=\"57c7db48-feec-485d-9698-2451a1f1c2c7\" style=\"height: 525px; width: 100%;\" class=\"plotly-graph-div\"></div><script type=\"text/javascript\">require([\"plotly\"], function(Plotly) { window.PLOTLYENV=window.PLOTLYENV || {};window.PLOTLYENV.BASE_URL=\"https://plot.ly\";Plotly.newPlot(\"57c7db48-feec-485d-9698-2451a1f1c2c7\", [{\"type\": \"scatter\", \"x\": [0, 5, 10, 20, 25, 30, 40, 45, 50, 55, 70, 75, 90], \"y\": [0.0, -0.31, -0.5, -1.0, -1.31, -1.44, -1.94, -2.31, -2.62, -2.94, -3.69, -4.19, -5.06], \"mode\": \"markers\", \"name\": \"pos3 degrees (by IMU)\"}, {\"type\": \"scatter\", \"x\": [0, 5, 10, 20, 25, 30, 40, 45, 50, 55, 70, 75, 90], \"y\": [-0.0, -0.4, -0.6, -1.19, -1.39, -1.79, -2.39, -2.78, -3.18, -3.35, -4.53, -4.73, -5.71], \"mode\": \"markers\", \"name\": \"pos3 true degrees (by webcam)\"}, {\"type\": \"scatter\", \"x\": [0.0, 4.7368421052631575, 9.473684210526315, 14.210526315789473, 18.94736842105263, 23.684210526315788, 28.421052631578945, 33.1578947368421, 37.89473684210526, 42.63157894736842, 47.368421052631575, 52.10526315789473, 56.84210526315789, 61.57894736842105, 66.3157894736842, 71.05263157894737, 75.78947368421052, 80.52631578947367, 85.26315789473684, 90.0], \"y\": [-1.0018142072213496, -1.1332171073287611, -1.2646200074361724, -1.3960229075435837, -1.5274258076509952, -1.6588287077584067, -1.790231607865818, -1.9216345079732293, -2.053037408080641, -2.1844403081880523, -2.3158432082954636, -2.447246108402875, -2.5786490085102862, -2.7100519086176975, -2.8414548087251092, -2.972857708832521, -3.1042606089399323, -3.2356635090473436, -3.367066409154755, -3.498469309262166], \"name\": \"pos3 linear fit (w/ridge penalty)\"}], {\"title\": \"Force vs Degrees of Deflection\", \"yaxis\": {\"title\": \"degrees\"}, \"xaxis\": {\"title\": \"Force (in grams)\"}, \"legend\": {\"x\": 0.1, \"y\": -0.5}}, {\"showLink\": true, \"linkText\": \"Export to plot.ly\"})});</script>"
      ]
     },
     "metadata": {},
     "output_type": "display_data"
    }
   ],
   "source": [
    "import numpy as np\n",
    "import plotly\n",
    "import plotly.plotly as py\n",
    "import plotly.offline as po\n",
    "import plotly.graph_objs as go\n",
    "from sklearn import linear_model\n",
    "from sklearn.linear_model import Ridge\n",
    "\n",
    "plotly.offline.init_notebook_mode(connected=True)\n",
    "\n",
    "trace0 = go.Scatter(\n",
    "    x = trueF3,\n",
    "    y = eulerY3,\n",
    "    mode = 'markers',\n",
    "    name = 'pos3 degrees (by IMU)'\n",
    ")\n",
    "trace1 = go.Scatter(\n",
    "    x = trueF3,\n",
    "    y = -trueDeg3,\n",
    "    mode = 'markers',\n",
    "    name = 'pos3 true degrees (by webcam)'\n",
    ")\n",
    "\n",
    "myX3 = trueF3.dropna().reshape(-1,1)\n",
    "myy3 = eulerY3.dropna()\n",
    "ridge = Ridge(fit_intercept=True, alpha=1.0, random_state=0, normalize=True)\n",
    "ridge.fit(myX3, myy3)\n",
    "coef_ridge = ridge.coef_\n",
    "gridx = np.linspace(myX3.min(), myX3.max(), 20)\n",
    "coef_ = ridge.coef_ * gridx + ridge.intercept_\n",
    "#plt.plot(gridx, coef_, 'g-', label=\"ridge regression\")\n",
    "\n",
    "trace4 = go.Scatter(\n",
    "    x= gridx,\n",
    "    y = coef_,\n",
    "    name = 'pos3 linear fit (w/ridge penalty)'\n",
    ")\n",
    "\n",
    "\n",
    "\n",
    "#a,b = np.polyfit(x,y,1)\n",
    "#plt.plot(np.unique(x), np.poly1d(np.polyfit(x, y, 1))(np.unique(x)))\n",
    "\n",
    "           \n",
    "data = [trace0, trace1, trace4]\n",
    "\n",
    "layout = go.Layout(\n",
    "    title='Force vs Degrees of Deflection',\n",
    "    yaxis=dict(title='degrees'),\n",
    "    xaxis=dict(title='Force (in grams)'),\n",
    "    legend=dict(x=.1, y=-.5)\n",
    ")\n",
    "\n",
    "\n",
    "fig = go.Figure(data=data, layout=layout)\n",
    "# Plot and embed in ipython notebook!\n",
    "po.iplot(fig)\n",
    "#po.plot(fig, filename='temp_plot.html')\n"
   ]
  },
  {
   "cell_type": "code",
   "execution_count": null,
   "metadata": {},
   "outputs": [],
   "source": [
    "import plotly\n",
    "from plotly.graph_objs import Scatter, Layout\n",
    "\n",
    "plotly.offline.init_notebook_mode(connected=True)\n",
    "\n",
    "plotly.offline.iplot({\n",
    "    \"data\": [Scatter(x=[1, 2, 3, 4], y=[4, 3, 2, 1])],\n",
    "    \"layout\": Layout(title=\"hello world\")\n",
    "})\n",
    "\n",
    "# https://plot.ly/python/getting-started/#initialization-for-offline-plotting\n",
    "# https://plot.ly/pandas/line-charts/#basic-line-plot\n",
    "# https://plot.ly/python/getting-started/#more-examples\n",
    "# http://scikit-learn.org/stable/modules/generated/sklearn.linear_model.Ridge.html"
   ]
  }
 ],
 "metadata": {
  "kernelspec": {
   "display_name": "Python 3",
   "language": "python",
   "name": "python3"
  },
  "language_info": {
   "codemirror_mode": {
    "name": "ipython",
    "version": 3
   },
   "file_extension": ".py",
   "mimetype": "text/x-python",
   "name": "python",
   "nbconvert_exporter": "python",
   "pygments_lexer": "ipython3",
   "version": "3.6.3"
  }
 },
 "nbformat": 4,
 "nbformat_minor": 2
}
