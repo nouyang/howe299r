{
 "cells": [
  {
   "cell_type": "markdown",
   "metadata": {},
   "source": [
    "# Heading\n"
   ]
  },
  {
   "cell_type": "code",
   "execution_count": 9,
   "metadata": {},
   "outputs": [],
   "source": [
    "import pandas as pd\n",
    "import numpy as np\n",
    "import matplotlib.pyplot as plt\n",
    "\n",
    "path ='/home/nrw/Documents/projects_Spring2018/howe299r/Experiments/26Mar2018/data/deltas/'\n",
    "viz = '07April.csv'\n",
    "imu = '07IMU.csv'\n",
    "vizf = pd.read_csv(path+viz,sep='\\t')\n",
    "vizf.dropna(how=\"all\", inplace=True) \n",
    "imuf = pd.read_csv(path+imu,sep='\\t')\n",
    "imuf.dropna(how=\"all\", inplace=True) \n",
    "\n",
    "yaw, pitch, roll = vizf[\"yaw\"], vizf[\"pitch\"], vizf[\"roll\"]\n",
    "yaw, pitch, roll = vizf[\"yaw\"]*57.29578, vizf[\"pitch\"]*57.29578, vizf[\"roll\"]*57.29578\n",
    "yaw, pitch, roll = -yaw,-pitch, -roll \n",
    "xIMU,yIMU,zIMU = imuf[\"x\"], imuf[\"y\"], imuf[\"z\"]\n",
    "\n",
    "forces = np.arange(0,yaw.shape[0]*10,10)\n",
    "\n",
    "#print(len(yaw))\n",
    "#print(len(yIMU))\n",
    "#print(yIMU)\n",
    "#print(roll)\n",
    "#print(pitch)\n",
    "#print(len(forces))"
   ]
  },
  {
   "cell_type": "code",
   "execution_count": 18,
   "metadata": {
    "scrolled": true
   },
   "outputs": [
    {
     "data": {
      "image/png": "[encoded data removed]",
      "text/plain": [
       "<Figure size 432x288 with 1 Axes>"
      ]
     },
     "metadata": {},
     "output_type": "display_data"
    }
   ],
   "source": [
    "plt.scatter(forces, yIMU, label='imu')\n",
    "plt.scatter(forces, roll, label='aprilTags') #???\n",
    "plt.ylabel('degrees')\n",
    "plt.xlabel('force (g)')\n",
    "plt.legend()\n",
    "plt.show()"
   ]
  },
  {
   "cell_type": "code",
   "execution_count": 11,
   "metadata": {},
   "outputs": [
    {
     "data": {
      "text/html": [
       "<script>requirejs.config({paths: { 'plotly': ['https://cdn.plot.ly/plotly-latest.min']},});if(!window.Plotly) {{require(['plotly'],function(plotly) {window.Plotly=plotly;});}}</script>"
      ],
      "text/vnd.plotly.v1+html": [
       "<script>requirejs.config({paths: { 'plotly': ['https://cdn.plot.ly/plotly-latest.min']},});if(!window.Plotly) {{require(['plotly'],function(plotly) {window.Plotly=plotly;});}}</script>"
      ]
     },
     "metadata": {},
     "output_type": "display_data"
    }
   ],
   "source": [
    "import numpy as np\n",
    "import plotly.plotly as py\n",
    "import plotly.offline as po\n",
    "import plotly.graph_objs as go\n",
    "from sklearn import linear_model\n",
    "from sklearn.linear_model import Ridge\n",
    "from sklearn.metrics import mean_squared_error, r2_score\n",
    "\n",
    "po.init_notebook_mode(connected=True)\n",
    "\n",
    "trace0 = go.Scatter( x = forces, y = yIMU, mode = 'markers',\n",
    "    name = 'degrees (by IMU)' )\n",
    "\n",
    "trace1 = go.Scatter( x = forces, y = yaw, mode = 'markers',\n",
    "    name = 'true degrees (by apriltag)' )\n",
    "\n",
    "\n",
    "forces = forces.reshape(-1, 1)\n",
    "myX = forces\n",
    "myy = yIMU \n",
    "#regr= Ridge(fit_intercept=True, alpha=1.0, random_state=0, normalize=True)\n",
    "regr = linear_model.LinearRegression()\n",
    "regr.fit(myX, myy)\n",
    "coef_ridge = regr.coef_\n",
    "gridx = np.linspace(myX.min(), myX.max(), 20)\n",
    "coef_ = regr.coef_ * gridx + regr.intercept_\n",
    "yPred= regr.predict(myX) \n",
    "#plt.plot(gridx, coef_, 'g-', label=\"ridge regression\")\n",
    "\n",
    "trace2 = go.Scatter( x= gridx, y = coef_,\n",
    "    name = 'linear fit (w/ridge penalty)' )\n",
    "           "
   ]
  },
  {
   "cell_type": "code",
   "execution_count": 12,
   "metadata": {},
   "outputs": [
    {
     "name": "stdout",
     "output_type": "stream",
     "text": [
      "Coefficients: \n",
      " [-0.06897727]\n",
      "Mean squared error: 0.04\n",
      "Variance score (ideal 1): 0.99\n"
     ]
    },
    {
     "data": {
      "application/vnd.plotly.v1+json": {
       "data": [
        {
         "mode": "markers",
         "name": "true degrees (by apriltag)",
         "type": "scatter",
         "x": [
          0,
          10,
          20,
          30,
          40,
          50,
          60,
          70,
          80,
          90,
          100
         ],
         "y": [
          -0.19257111657999998,
          -0.13332728006,
          -0.31375169128,
          -0.42645249054000006,
          -0.6528854131,
          -0.7666175364000001,
          -0.88630842082,
          -0.95787085004,
          -1.18224112452,
          -1.4600110659599999,
          -1.44121805012
         ]
        },
        {
         "mode": "markers",
         "name": "degrees (by IMU)",
         "type": "scatter",
         "x": [
          0,
          10,
          20,
          30,
          40,
          50,
          60,
          70,
          80,
          90,
          100
         ],
         "y": [
          -0.5625,
          -1.125,
          -1.5625,
          -2.25,
          -3.5,
          -3.875,
          -4.4375,
          -5.125,
          -5.75,
          -6.375,
          -7.6875
         ]
        },
        {
         "name": "linear fit (w/ridge penalty)",
         "type": "scatter",
         "x": [
          0,
          5.2631578947368425,
          10.526315789473685,
          15.789473684210527,
          21.05263157894737,
          26.315789473684212,
          31.578947368421055,
          36.8421052631579,
          42.10526315789474,
          47.36842105263158,
          52.631578947368425,
          57.89473684210527,
          63.15789473684211,
          68.42105263157896,
          73.6842105263158,
          78.94736842105263,
          84.21052631578948,
          89.47368421052633,
          94.73684210526316,
          100
         ],
         "y": [
          -0.39204545454545414,
          -0.755083732057416,
          -1.1181220095693778,
          -1.4811602870813394,
          -1.8441985645933012,
          -2.207236842105263,
          -2.5702751196172247,
          -2.9333133971291865,
          -3.2963516746411483,
          -3.65938995215311,
          -4.022428229665072,
          -4.385466507177034,
          -4.748504784688995,
          -5.111543062200957,
          -5.474581339712919,
          -5.83761961722488,
          -6.2006578947368425,
          -6.563696172248805,
          -6.926734449760766,
          -7.2897727272727275
         ]
        }
       ],
       "layout": {
        "legend": {
         "x": 0.1,
         "y": -0.5
        },
        "title": "Force vs Degrees of Deflection",
        "xaxis": {
         "title": "Force (in grams)"
        },
        "yaxis": {
         "title": "degrees"
        }
       }
      },
      "text/html": [
       "<div id=\"85e8ddd2-94fd-46e2-845d-f5d96052a014\" style=\"height: 525px; width: 100%;\" class=\"plotly-graph-div\"></div><script type=\"text/javascript\">require([\"plotly\"], function(Plotly) { window.PLOTLYENV=window.PLOTLYENV || {};window.PLOTLYENV.BASE_URL=\"https://plot.ly\";Plotly.newPlot(\"85e8ddd2-94fd-46e2-845d-f5d96052a014\", [{\"type\": \"scatter\", \"x\": [0, 10, 20, 30, 40, 50, 60, 70, 80, 90, 100], \"y\": [-0.19257111657999998, -0.13332728006, -0.31375169128, -0.42645249054000006, -0.6528854131, -0.7666175364000001, -0.88630842082, -0.95787085004, -1.18224112452, -1.4600110659599999, -1.44121805012], \"mode\": \"markers\", \"name\": \"true degrees (by apriltag)\"}, {\"type\": \"scatter\", \"x\": [0, 10, 20, 30, 40, 50, 60, 70, 80, 90, 100], \"y\": [-0.5625, -1.125, -1.5625, -2.25, -3.5, -3.875, -4.4375, -5.125, -5.75, -6.375, -7.6875], \"mode\": \"markers\", \"name\": \"degrees (by IMU)\"}, {\"type\": \"scatter\", \"x\": [0.0, 5.2631578947368425, 10.526315789473685, 15.789473684210527, 21.05263157894737, 26.315789473684212, 31.578947368421055, 36.8421052631579, 42.10526315789474, 47.36842105263158, 52.631578947368425, 57.89473684210527, 63.15789473684211, 68.42105263157896, 73.6842105263158, 78.94736842105263, 84.21052631578948, 89.47368421052633, 94.73684210526316, 100.0], \"y\": [-0.39204545454545414, -0.755083732057416, -1.1181220095693778, -1.4811602870813394, -1.8441985645933012, -2.207236842105263, -2.5702751196172247, -2.9333133971291865, -3.2963516746411483, -3.65938995215311, -4.022428229665072, -4.385466507177034, -4.748504784688995, -5.111543062200957, -5.474581339712919, -5.83761961722488, -6.2006578947368425, -6.563696172248805, -6.926734449760766, -7.2897727272727275], \"name\": \"linear fit (w/ridge penalty)\"}], {\"title\": \"Force vs Degrees of Deflection\", \"yaxis\": {\"title\": \"degrees\"}, \"xaxis\": {\"title\": \"Force (in grams)\"}, \"legend\": {\"x\": 0.1, \"y\": -0.5}}, {\"showLink\": true, \"linkText\": \"Export to plot.ly\"})});</script>"
      ],
      "text/vnd.plotly.v1+html": [
       "<div id=\"85e8ddd2-94fd-46e2-845d-f5d96052a014\" style=\"height: 525px; width: 100%;\" class=\"plotly-graph-div\"></div><script type=\"text/javascript\">require([\"plotly\"], function(Plotly) { window.PLOTLYENV=window.PLOTLYENV || {};window.PLOTLYENV.BASE_URL=\"https://plot.ly\";Plotly.newPlot(\"85e8ddd2-94fd-46e2-845d-f5d96052a014\", [{\"type\": \"scatter\", \"x\": [0, 10, 20, 30, 40, 50, 60, 70, 80, 90, 100], \"y\": [-0.19257111657999998, -0.13332728006, -0.31375169128, -0.42645249054000006, -0.6528854131, -0.7666175364000001, -0.88630842082, -0.95787085004, -1.18224112452, -1.4600110659599999, -1.44121805012], \"mode\": \"markers\", \"name\": \"true degrees (by apriltag)\"}, {\"type\": \"scatter\", \"x\": [0, 10, 20, 30, 40, 50, 60, 70, 80, 90, 100], \"y\": [-0.5625, -1.125, -1.5625, -2.25, -3.5, -3.875, -4.4375, -5.125, -5.75, -6.375, -7.6875], \"mode\": \"markers\", \"name\": \"degrees (by IMU)\"}, {\"type\": \"scatter\", \"x\": [0.0, 5.2631578947368425, 10.526315789473685, 15.789473684210527, 21.05263157894737, 26.315789473684212, 31.578947368421055, 36.8421052631579, 42.10526315789474, 47.36842105263158, 52.631578947368425, 57.89473684210527, 63.15789473684211, 68.42105263157896, 73.6842105263158, 78.94736842105263, 84.21052631578948, 89.47368421052633, 94.73684210526316, 100.0], \"y\": [-0.39204545454545414, -0.755083732057416, -1.1181220095693778, -1.4811602870813394, -1.8441985645933012, -2.207236842105263, -2.5702751196172247, -2.9333133971291865, -3.2963516746411483, -3.65938995215311, -4.022428229665072, -4.385466507177034, -4.748504784688995, -5.111543062200957, -5.474581339712919, -5.83761961722488, -6.2006578947368425, -6.563696172248805, -6.926734449760766, -7.2897727272727275], \"name\": \"linear fit (w/ridge penalty)\"}], {\"title\": \"Force vs Degrees of Deflection\", \"yaxis\": {\"title\": \"degrees\"}, \"xaxis\": {\"title\": \"Force (in grams)\"}, \"legend\": {\"x\": 0.1, \"y\": -0.5}}, {\"showLink\": true, \"linkText\": \"Export to plot.ly\"})});</script>"
      ]
     },
     "metadata": {},
     "output_type": "display_data"
    }
   ],
   "source": [
    "data = [trace1, trace0, trace2]\n",
    "\n",
    "layout = go.Layout(\n",
    "    title='Force vs Degrees of Deflection',\n",
    "    yaxis=dict(title='degrees'),\n",
    "    xaxis=dict(title='Force (in grams)'),\n",
    "    legend=dict(x=.1, y=-.5) )\n",
    "\n",
    "fig = go.Figure(data=data, layout=layout)\n",
    "# Plot and embed in ipython notebook!\n",
    "\n",
    "print('Coefficients: \\n', regr.coef_)\n",
    "print(\"Mean squared error: %.2f\" % mean_squared_error(yIMU, yPred))\n",
    "print('Variance score (ideal 1): %.2f' % r2_score(yIMU, yPred)) \n",
    "po.iplot(fig)\n",
    "#po.plot(fig, filename='temp_plot.html')"
   ]
  },
  {
   "cell_type": "code",
   "execution_count": 13,
   "metadata": {},
   "outputs": [
    {
     "data": {
      "application/vnd.plotly.v1+json": {
       "data": [
        {
         "mode": "markers",
         "name": "resid",
         "type": "scatter",
         "x": [
          -0.5625,
          -1.125,
          -1.5625,
          -2.25,
          -3.5,
          -3.875,
          -4.4375,
          -5.125,
          -5.75,
          -6.375,
          -7.6875
         ],
         "y": [
          -0.17045454545454586,
          -0.04318181818181843,
          0.20909090909090877,
          0.21136363636363598,
          -0.3488636363636366,
          -0.03409090909090917,
          0.09318181818181781,
          0.09545454545454568,
          0.16022727272727266,
          0.22500000000000053,
          -0.3977272727272725
         ]
        }
       ],
       "layout": {
        "legend": {
         "x": 0.1,
         "y": -0.5
        },
        "title": "Residuals",
        "xaxis": {
         "title": "yIMU (degrees)"
        },
        "yaxis": {
         "title": "residuals"
        }
       }
      },
      "text/html": [
       "<div id=\"1c138ead-e72a-45e4-aa9d-398a2bc3fee4\" style=\"height: 525px; width: 100%;\" class=\"plotly-graph-div\"></div><script type=\"text/javascript\">require([\"plotly\"], function(Plotly) { window.PLOTLYENV=window.PLOTLYENV || {};window.PLOTLYENV.BASE_URL=\"https://plot.ly\";Plotly.newPlot(\"1c138ead-e72a-45e4-aa9d-398a2bc3fee4\", [{\"type\": \"scatter\", \"x\": [-0.5625, -1.125, -1.5625, -2.25, -3.5, -3.875, -4.4375, -5.125, -5.75, -6.375, -7.6875], \"y\": [-0.17045454545454586, -0.04318181818181843, 0.20909090909090877, 0.21136363636363598, -0.3488636363636366, -0.03409090909090917, 0.09318181818181781, 0.09545454545454568, 0.16022727272727266, 0.22500000000000053, -0.3977272727272725], \"mode\": \"markers\", \"name\": \"resid\"}], {\"title\": \"Residuals\", \"yaxis\": {\"title\": \"residuals\"}, \"xaxis\": {\"title\": \"yIMU (degrees)\"}, \"legend\": {\"x\": 0.1, \"y\": -0.5}}, {\"showLink\": true, \"linkText\": \"Export to plot.ly\"})});</script>"
      ],
      "text/vnd.plotly.v1+html": [
       "<div id=\"1c138ead-e72a-45e4-aa9d-398a2bc3fee4\" style=\"height: 525px; width: 100%;\" class=\"plotly-graph-div\"></div><script type=\"text/javascript\">require([\"plotly\"], function(Plotly) { window.PLOTLYENV=window.PLOTLYENV || {};window.PLOTLYENV.BASE_URL=\"https://plot.ly\";Plotly.newPlot(\"1c138ead-e72a-45e4-aa9d-398a2bc3fee4\", [{\"type\": \"scatter\", \"x\": [-0.5625, -1.125, -1.5625, -2.25, -3.5, -3.875, -4.4375, -5.125, -5.75, -6.375, -7.6875], \"y\": [-0.17045454545454586, -0.04318181818181843, 0.20909090909090877, 0.21136363636363598, -0.3488636363636366, -0.03409090909090917, 0.09318181818181781, 0.09545454545454568, 0.16022727272727266, 0.22500000000000053, -0.3977272727272725], \"mode\": \"markers\", \"name\": \"resid\"}], {\"title\": \"Residuals\", \"yaxis\": {\"title\": \"residuals\"}, \"xaxis\": {\"title\": \"yIMU (degrees)\"}, \"legend\": {\"x\": 0.1, \"y\": -0.5}}, {\"showLink\": true, \"linkText\": \"Export to plot.ly\"})});</script>"
      ]
     },
     "metadata": {},
     "output_type": "display_data"
    }
   ],
   "source": [
    "resid = yIMU - yPred\n",
    "layout = go.Layout(\n",
    "    title='Force vs Degrees of Deflection',\n",
    "    yaxis=dict(title='degrees'),\n",
    "    xaxis=dict(title='Force (in grams)'),\n",
    "    legend=dict(x=.1, y=-.5) )\n",
    "traceResid = go.Scatter( x = yIMU, y = resid, mode = 'markers',\n",
    "    name = 'resid' )\n",
    "data = [traceResid]\n",
    "layout = go.Layout(\n",
    "    title='Residuals',\n",
    "    yaxis=dict(title='residuals'),\n",
    "    xaxis=dict(title='yIMU (degrees)'),\n",
    "    legend=dict(x=.1, y=-.5) )\n",
    "\n",
    "fig = go.Figure(data=data, layout=layout)\n",
    "po.iplot(fig)"
   ]
  },
  {
   "cell_type": "code",
   "execution_count": null,
   "metadata": {},
   "outputs": [],
   "source": []
  },
  {
   "cell_type": "code",
   "execution_count": null,
   "metadata": {},
   "outputs": [],
   "source": []
  }
 ],
 "metadata": {
  "kernelspec": {
   "display_name": "Python 3",
   "language": "python",
   "name": "python3"
  },
  "language_info": {
   "codemirror_mode": {
    "name": "ipython",
    "version": 3
   },
   "file_extension": ".py",
   "mimetype": "text/x-python",
   "name": "python",
   "nbconvert_exporter": "python",
   "pygments_lexer": "ipython3",
   "version": "3.6.3"
  }
 },
 "nbformat": 4,
 "nbformat_minor": 2
}
