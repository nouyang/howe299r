{
 "cells": [
  {
   "cell_type": "markdown",
   "metadata": {},
   "source": [
    "# Heading\n"
   ]
  },
  {
   "cell_type": "code",
   "execution_count": 17,
   "metadata": {},
   "outputs": [
    {
     "name": "stdout",
     "output_type": "stream",
     "text": [
      "0   -0.767821\n",
      "1   -1.546012\n",
      "2   -2.587248\n",
      "3   -3.232456\n",
      "4   -4.446324\n",
      "5   -5.088725\n",
      "6   -6.126924\n",
      "7   -6.374557\n",
      "Name: yaw, dtype: float64\n",
      "[ 0 10 20 30 40 50 60 70]\n"
     ]
    },
    {
     "ename": "NameError",
     "evalue": "name 'bar' is not defined",
     "output_type": "error",
     "traceback": [
      "\u001b[0;31m---------------------------------------------------------------------------\u001b[0m",
      "\u001b[0;31mNameError\u001b[0m                                 Traceback (most recent call last)",
      "\u001b[0;32m<ipython-input-17-60f1da12d9cd>\u001b[0m in \u001b[0;36m<module>\u001b[0;34m()\u001b[0m\n\u001b[1;32m     22\u001b[0m \u001b[0mprint\u001b[0m\u001b[0;34m(\u001b[0m\u001b[0mforces\u001b[0m\u001b[0;34m)\u001b[0m\u001b[0;34m\u001b[0m\u001b[0m\n\u001b[1;32m     23\u001b[0m \u001b[0mfoo\u001b[0m \u001b[0;34m=\u001b[0m \u001b[0;34m\"bar\"\u001b[0m\u001b[0;34m\u001b[0m\u001b[0m\n\u001b[0;32m---> 24\u001b[0;31m \u001b[0mprint\u001b[0m\u001b[0;34m(\u001b[0m\u001b[0meval\u001b[0m\u001b[0;34m(\u001b[0m\u001b[0mfoo\u001b[0m\u001b[0;34m)\u001b[0m\u001b[0;34m)\u001b[0m\u001b[0;34m\u001b[0m\u001b[0m\n\u001b[0m",
      "\u001b[0;32m<string>\u001b[0m in \u001b[0;36m<module>\u001b[0;34m()\u001b[0m\n",
      "\u001b[0;31mNameError\u001b[0m: name 'bar' is not defined"
     ]
    }
   ],
   "source": [
    "import pandas as pd\n",
    "import numpy as np\n",
    "import matplotlib.pyplot as plt\n",
    "\n",
    "path ='/home/nrw/Documents/projects_Spring2018/howe299r/Experiments/26Mar2018/data/deltas/'\n",
    "viz = '01April.csv'\n",
    "imu = '01IMU.csv'\n",
    "vizf = pd.read_csv(path+viz,sep='\\t')\n",
    "vizf.dropna(how=\"all\", inplace=True) \n",
    "imuf = pd.read_csv(path+imu,sep='\\t')\n",
    "imuf.dropna(how=\"all\", inplace=True) \n",
    "\n",
    "yaw, pitch, roll = vizf[\"yaw\"], vizf[\"pitch\"], vizf[\"roll\"]\n",
    "yaw, pitch, roll = vizf[\"yaw\"]*57.29578, vizf[\"pitch\"]*57.29578, vizf[\"roll\"]*57.29578\n",
    "xIMU,yIMU,zIMU = imuf[\"x\"], imuf[\"y\"], imuf[\"z\"]\n",
    "\n",
    "forces = np.arange(0,yaw.shape[0]*10,10)\n",
    "\n",
    "print(yaw)\n",
    "#print(roll)\n",
    "#print(pitch)\n",
    "print(forces)\n",
    "foo = \"bar\"\n",
    "print(eval(foo))"
   ]
  },
  {
   "cell_type": "code",
   "execution_count": 3,
   "metadata": {},
   "outputs": [
    {
     "name": "stdout",
     "output_type": "stream",
     "text": [
      "2.5.1\n"
     ]
    }
   ],
   "source": [
    "from plotly import __version__\n",
    "from plotly.offline import download_plotlyjs, init_notebook_mode, plot, iplot\n",
    "\n",
    "print(__version__) # requires version >= 1.9.0"
   ]
  },
  {
   "cell_type": "code",
   "execution_count": 4,
   "metadata": {
    "scrolled": true
   },
   "outputs": [
    {
     "data": {
      "image/png": "[encoded data removed]",
      "text/plain": [
       "<Figure size 432x288 with 1 Axes>"
      ]
     },
     "metadata": {},
     "output_type": "display_data"
    }
   ],
   "source": [
    "plt.scatter(forces, yIMU, label='imu')\n",
    "plt.scatter(forces, yaw, label='aprilTags')\n",
    "plt.ylabel('degrees')\n",
    "plt.xlabel('force (g)')\n",
    "plt.legend()\n",
    "plt.show()"
   ]
  },
  {
   "cell_type": "code",
   "execution_count": 5,
   "metadata": {},
   "outputs": [
    {
     "data": {
      "text/html": [
       "<script>requirejs.config({paths: { 'plotly': ['https://cdn.plot.ly/plotly-latest.min']},});if(!window.Plotly) {{require(['plotly'],function(plotly) {window.Plotly=plotly;});}}</script>"
      ],
      "text/vnd.plotly.v1+html": [
       "<script>requirejs.config({paths: { 'plotly': ['https://cdn.plot.ly/plotly-latest.min']},});if(!window.Plotly) {{require(['plotly'],function(plotly) {window.Plotly=plotly;});}}</script>"
      ]
     },
     "metadata": {},
     "output_type": "display_data"
    }
   ],
   "source": [
    "import numpy as np\n",
    "import plotly.plotly as py\n",
    "import plotly.offline as po\n",
    "import plotly.graph_objs as go\n",
    "from sklearn import linear_model\n",
    "from sklearn.linear_model import Ridge\n",
    "from sklearn.metrics import mean_squared_error, r2_score\n",
    "\n",
    "po.init_notebook_mode(connected=True)\n",
    "\n",
    "trace0 = go.Scatter( x = forces, y = yIMU, mode = 'markers',\n",
    "    name = 'degrees (by IMU)' )\n",
    "\n",
    "trace1 = go.Scatter( x = forces, y = yaw, mode = 'markers',\n",
    "    name = 'true degrees (by apriltag)' )\n",
    "\n",
    "\n",
    "forces = forces.reshape(-1, 1)\n",
    "myX = forces\n",
    "myy = yIMU \n",
    "#regr= Ridge(fit_intercept=True, alpha=1.0, random_state=0, normalize=True)\n",
    "regr = linear_model.LinearRegression()\n",
    "regr.fit(myX, myy)\n",
    "coef_ridge = regr.coef_\n",
    "gridx = np.linspace(myX.min(), myX.max(), 20)\n",
    "coef_ = regr.coef_ * gridx + regr.intercept_\n",
    "yPred= regr.predict(myX) \n",
    "#plt.plot(gridx, coef_, 'g-', label=\"ridge regression\")\n",
    "\n",
    "trace2 = go.Scatter( x= gridx, y = coef_,\n",
    "    name = 'linear fit (w/ridge penalty)' )\n",
    "           "
   ]
  },
  {
   "cell_type": "code",
   "execution_count": 6,
   "metadata": {},
   "outputs": [
    {
     "name": "stdout",
     "output_type": "stream",
     "text": [
      "Coefficients: \n",
      " [-0.07849702]\n",
      "Mean squared error: 0.08\n",
      "Variance score (ideal 1): 0.98\n"
     ]
    },
    {
     "data": {
      "application/vnd.plotly.v1+json": {
       "data": [
        {
         "mode": "markers",
         "name": "true degrees (by apriltag)",
         "type": "scatter",
         "x": [
          0,
          10,
          20,
          30,
          40,
          50,
          60,
          70
         ],
         "y": [
          -0.76782074778,
          -1.5460120317400001,
          -2.5872482416800002,
          -3.23245602026,
          -4.4463244153399994,
          -5.088724700699999,
          -6.1269242343,
          -6.37455659546
         ]
        },
        {
         "mode": "markers",
         "name": "degrees (by IMU)",
         "type": "scatter",
         "x": [
          0,
          10,
          20,
          30,
          40,
          50,
          60,
          70
         ],
         "y": [
          -0.3125,
          -1.4375,
          -2.4375,
          -3.25,
          -3.75,
          -4,
          -5.625,
          -6
         ]
        },
        {
         "name": "linear fit (w/ridge penalty)",
         "type": "scatter",
         "x": [
          0,
          3.6842105263157894,
          7.368421052631579,
          11.052631578947368,
          14.736842105263158,
          18.421052631578945,
          22.105263157894736,
          25.789473684210527,
          29.473684210526315,
          33.1578947368421,
          36.84210526315789,
          40.526315789473685,
          44.21052631578947,
          47.89473684210526,
          51.578947368421055,
          55.26315789473684,
          58.94736842105263,
          62.63157894736842,
          66.3157894736842,
          70
         ],
         "y": [
          -0.6041666666666661,
          -0.8933662280701749,
          -1.1825657894736836,
          -1.4717653508771926,
          -1.7609649122807014,
          -2.0501644736842097,
          -2.339364035087719,
          -2.6285635964912277,
          -2.9177631578947367,
          -3.2069627192982453,
          -3.496162280701754,
          -3.7853618421052633,
          -4.074561403508772,
          -4.363760964912281,
          -4.652960526315789,
          -4.942160087719298,
          -5.231359649122807,
          -5.520559210526316,
          -5.8097587719298245,
          -6.098958333333334
         ]
        }
       ],
       "layout": {
        "legend": {
         "x": 0.1,
         "y": -0.5
        },
        "title": "Force vs Degrees of Deflection",
        "xaxis": {
         "title": "Force (in grams)"
        },
        "yaxis": {
         "title": "degrees"
        }
       }
      },
      "text/html": [
       "<div id=\"37b513d2-33f0-4944-b823-59d4357886d2\" style=\"height: 525px; width: 100%;\" class=\"plotly-graph-div\"></div><script type=\"text/javascript\">require([\"plotly\"], function(Plotly) { window.PLOTLYENV=window.PLOTLYENV || {};window.PLOTLYENV.BASE_URL=\"https://plot.ly\";Plotly.newPlot(\"37b513d2-33f0-4944-b823-59d4357886d2\", [{\"type\": \"scatter\", \"x\": [0, 10, 20, 30, 40, 50, 60, 70], \"y\": [-0.76782074778, -1.5460120317400001, -2.5872482416800002, -3.23245602026, -4.4463244153399994, -5.088724700699999, -6.1269242343, -6.37455659546], \"mode\": \"markers\", \"name\": \"true degrees (by apriltag)\"}, {\"type\": \"scatter\", \"x\": [0, 10, 20, 30, 40, 50, 60, 70], \"y\": [-0.3125, -1.4375, -2.4375, -3.25, -3.75, -4.0, -5.625, -6.0], \"mode\": \"markers\", \"name\": \"degrees (by IMU)\"}, {\"type\": \"scatter\", \"x\": [0.0, 3.6842105263157894, 7.368421052631579, 11.052631578947368, 14.736842105263158, 18.421052631578945, 22.105263157894736, 25.789473684210527, 29.473684210526315, 33.1578947368421, 36.84210526315789, 40.526315789473685, 44.21052631578947, 47.89473684210526, 51.578947368421055, 55.26315789473684, 58.94736842105263, 62.63157894736842, 66.3157894736842, 70.0], \"y\": [-0.6041666666666661, -0.8933662280701749, -1.1825657894736836, -1.4717653508771926, -1.7609649122807014, -2.0501644736842097, -2.339364035087719, -2.6285635964912277, -2.9177631578947367, -3.2069627192982453, -3.496162280701754, -3.7853618421052633, -4.074561403508772, -4.363760964912281, -4.652960526315789, -4.942160087719298, -5.231359649122807, -5.520559210526316, -5.8097587719298245, -6.098958333333334], \"name\": \"linear fit (w/ridge penalty)\"}], {\"title\": \"Force vs Degrees of Deflection\", \"yaxis\": {\"title\": \"degrees\"}, \"xaxis\": {\"title\": \"Force (in grams)\"}, \"legend\": {\"x\": 0.1, \"y\": -0.5}}, {\"showLink\": true, \"linkText\": \"Export to plot.ly\"})});</script>"
      ],
      "text/vnd.plotly.v1+html": [
       "<div id=\"37b513d2-33f0-4944-b823-59d4357886d2\" style=\"height: 525px; width: 100%;\" class=\"plotly-graph-div\"></div><script type=\"text/javascript\">require([\"plotly\"], function(Plotly) { window.PLOTLYENV=window.PLOTLYENV || {};window.PLOTLYENV.BASE_URL=\"https://plot.ly\";Plotly.newPlot(\"37b513d2-33f0-4944-b823-59d4357886d2\", [{\"type\": \"scatter\", \"x\": [0, 10, 20, 30, 40, 50, 60, 70], \"y\": [-0.76782074778, -1.5460120317400001, -2.5872482416800002, -3.23245602026, -4.4463244153399994, -5.088724700699999, -6.1269242343, -6.37455659546], \"mode\": \"markers\", \"name\": \"true degrees (by apriltag)\"}, {\"type\": \"scatter\", \"x\": [0, 10, 20, 30, 40, 50, 60, 70], \"y\": [-0.3125, -1.4375, -2.4375, -3.25, -3.75, -4.0, -5.625, -6.0], \"mode\": \"markers\", \"name\": \"degrees (by IMU)\"}, {\"type\": \"scatter\", \"x\": [0.0, 3.6842105263157894, 7.368421052631579, 11.052631578947368, 14.736842105263158, 18.421052631578945, 22.105263157894736, 25.789473684210527, 29.473684210526315, 33.1578947368421, 36.84210526315789, 40.526315789473685, 44.21052631578947, 47.89473684210526, 51.578947368421055, 55.26315789473684, 58.94736842105263, 62.63157894736842, 66.3157894736842, 70.0], \"y\": [-0.6041666666666661, -0.8933662280701749, -1.1825657894736836, -1.4717653508771926, -1.7609649122807014, -2.0501644736842097, -2.339364035087719, -2.6285635964912277, -2.9177631578947367, -3.2069627192982453, -3.496162280701754, -3.7853618421052633, -4.074561403508772, -4.363760964912281, -4.652960526315789, -4.942160087719298, -5.231359649122807, -5.520559210526316, -5.8097587719298245, -6.098958333333334], \"name\": \"linear fit (w/ridge penalty)\"}], {\"title\": \"Force vs Degrees of Deflection\", \"yaxis\": {\"title\": \"degrees\"}, \"xaxis\": {\"title\": \"Force (in grams)\"}, \"legend\": {\"x\": 0.1, \"y\": -0.5}}, {\"showLink\": true, \"linkText\": \"Export to plot.ly\"})});</script>"
      ]
     },
     "metadata": {},
     "output_type": "display_data"
    }
   ],
   "source": [
    "data = [trace1, trace0, trace2]\n",
    "\n",
    "layout = go.Layout(\n",
    "    title='Force vs Degrees of Deflection',\n",
    "    yaxis=dict(title='degrees'),\n",
    "    xaxis=dict(title='Force (in grams)'),\n",
    "    legend=dict(x=.1, y=-.5) )\n",
    "\n",
    "fig = go.Figure(data=data, layout=layout)\n",
    "# Plot and embed in ipython notebook!\n",
    "\n",
    "print('Coefficients: \\n', regr.coef_)\n",
    "print(\"Mean squared error: %.2f\" % mean_squared_error(yIMU, yPred))\n",
    "print('Variance score (ideal 1): %.2f' % r2_score(yIMU, yPred)) \n",
    "iplot(fig)\n",
    "#po.plot(fig, filename='temp_plot.html')"
   ]
  },
  {
   "cell_type": "code",
   "execution_count": 16,
   "metadata": {},
   "outputs": [
    {
     "data": {
      "application/vnd.plotly.v1+json": {
       "data": [
        {
         "mode": "markers",
         "name": "resid",
         "type": "scatter",
         "x": [
          -0.3125,
          -1.4375,
          -2.4375,
          -3.25,
          -3.75,
          -4,
          -5.625,
          -6
         ],
         "y": [
          0.2916666666666661,
          -0.04836309523809579,
          -0.26339285714285765,
          -0.29092261904761907,
          -0.005952380952380931,
          0.5290178571428577,
          -0.3110119047619042,
          0.09895833333333393
         ]
        }
       ],
       "layout": {
        "legend": {
         "x": 0.1,
         "y": -0.5
        },
        "title": "Residuals",
        "xaxis": {
         "title": "yIMU (degrees)"
        },
        "yaxis": {
         "title": "residuals"
        }
       }
      },
      "text/html": [
       "<div id=\"7c26bbce-cf54-4be8-9714-44af571dd217\" style=\"height: 525px; width: 100%;\" class=\"plotly-graph-div\"></div><script type=\"text/javascript\">require([\"plotly\"], function(Plotly) { window.PLOTLYENV=window.PLOTLYENV || {};window.PLOTLYENV.BASE_URL=\"https://plot.ly\";Plotly.newPlot(\"7c26bbce-cf54-4be8-9714-44af571dd217\", [{\"type\": \"scatter\", \"x\": [-0.3125, -1.4375, -2.4375, -3.25, -3.75, -4.0, -5.625, -6.0], \"y\": [0.2916666666666661, -0.04836309523809579, -0.26339285714285765, -0.29092261904761907, -0.005952380952380931, 0.5290178571428577, -0.3110119047619042, 0.09895833333333393], \"mode\": \"markers\", \"name\": \"resid\"}], {\"title\": \"Residuals\", \"yaxis\": {\"title\": \"residuals\"}, \"xaxis\": {\"title\": \"yIMU (degrees)\"}, \"legend\": {\"x\": 0.1, \"y\": -0.5}}, {\"showLink\": true, \"linkText\": \"Export to plot.ly\"})});</script>"
      ],
      "text/vnd.plotly.v1+html": [
       "<div id=\"7c26bbce-cf54-4be8-9714-44af571dd217\" style=\"height: 525px; width: 100%;\" class=\"plotly-graph-div\"></div><script type=\"text/javascript\">require([\"plotly\"], function(Plotly) { window.PLOTLYENV=window.PLOTLYENV || {};window.PLOTLYENV.BASE_URL=\"https://plot.ly\";Plotly.newPlot(\"7c26bbce-cf54-4be8-9714-44af571dd217\", [{\"type\": \"scatter\", \"x\": [-0.3125, -1.4375, -2.4375, -3.25, -3.75, -4.0, -5.625, -6.0], \"y\": [0.2916666666666661, -0.04836309523809579, -0.26339285714285765, -0.29092261904761907, -0.005952380952380931, 0.5290178571428577, -0.3110119047619042, 0.09895833333333393], \"mode\": \"markers\", \"name\": \"resid\"}], {\"title\": \"Residuals\", \"yaxis\": {\"title\": \"residuals\"}, \"xaxis\": {\"title\": \"yIMU (degrees)\"}, \"legend\": {\"x\": 0.1, \"y\": -0.5}}, {\"showLink\": true, \"linkText\": \"Export to plot.ly\"})});</script>"
      ]
     },
     "metadata": {},
     "output_type": "display_data"
    },
    {
     "name": "stdout",
     "output_type": "stream",
     "text": [
      "[-0.3125 -1.4375 -2.4375 -3.25   -3.75   -4.     -5.625  -6.    ]\n",
      "[ 0.29166667 -0.0483631  -0.26339286 -0.29092262 -0.00595238  0.52901786\n",
      " -0.3110119   0.09895833]\n"
     ]
    }
   ],
   "source": [
    "resid = yIMU - yPred\n",
    "layout = go.Layout(\n",
    "    title='Force vs Degrees of Deflection',\n",
    "    yaxis=dict(title='degrees'),\n",
    "    xaxis=dict(title='Force (in grams)'),\n",
    "    legend=dict(x=.1, y=-.5) )\n",
    "traceResid = go.Scatter( x = yIMU, y = resid, mode = 'markers',\n",
    "    name = 'resid' )\n",
    "data = [traceResid]\n",
    "layout = go.Layout(\n",
    "    title='Residuals',\n",
    "    yaxis=dict(title='residuals'),\n",
    "    xaxis=dict(title='yIMU (degrees)'),\n",
    "    legend=dict(x=.1, y=-.5) )\n",
    "\n",
    "fig = go.Figure(data=data, layout=layout)\n",
    "iplot(fig)\n",
    "print(np.array(yIMU))\n",
    "print(np.array(resid))"
   ]
  },
  {
   "cell_type": "code",
   "execution_count": null,
   "metadata": {},
   "outputs": [],
   "source": []
  },
  {
   "cell_type": "code",
   "execution_count": null,
   "metadata": {},
   "outputs": [],
   "source": []
  }
 ],
 "metadata": {
  "kernelspec": {
   "display_name": "Python 3",
   "language": "python",
   "name": "python3"
  },
  "language_info": {
   "codemirror_mode": {
    "name": "ipython",
    "version": 3
   },
   "file_extension": ".py",
   "mimetype": "text/x-python",
   "name": "python",
   "nbconvert_exporter": "python",
   "pygments_lexer": "ipython3",
   "version": "3.6.3"
  }
 },
 "nbformat": 4,
 "nbformat_minor": 2
}
