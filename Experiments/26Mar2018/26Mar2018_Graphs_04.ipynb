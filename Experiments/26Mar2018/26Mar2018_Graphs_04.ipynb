{
 "cells": [
  {
   "cell_type": "markdown",
   "metadata": {},
   "source": [
    "# Heading\n"
   ]
  },
  {
   "cell_type": "code",
   "execution_count": 10,
   "metadata": {},
   "outputs": [
    {
     "name": "stdout",
     "output_type": "stream",
     "text": [
      "0   -0.6250\n",
      "1   -1.3125\n",
      "2   -1.9375\n",
      "3   -2.1875\n",
      "4   -3.1875\n",
      "5   -3.8125\n",
      "6   -4.3750\n",
      "Name: y, dtype: float64\n",
      "0    0.188446\n",
      "1    0.160600\n",
      "2   -1.301646\n",
      "3   -0.327273\n",
      "4   -0.284932\n",
      "5   -0.201796\n",
      "6    0.246601\n",
      "Name: roll, dtype: float64\n"
     ]
    }
   ],
   "source": [
    "import pandas as pd\n",
    "import numpy as np\n",
    "import matplotlib.pyplot as plt\n",
    "\n",
    "path ='/home/nrw/Documents/projects_Spring2018/howe299r/Experiments/26Mar2018/data/deltas/'\n",
    "viz = '04April_ID1.csv'\n",
    "imu = '04IMU.csv'\n",
    "vizf = pd.read_csv(path+viz,sep='\\t')\n",
    "vizf.dropna(how=\"all\", inplace=True) \n",
    "imuf = pd.read_csv(path+imu,sep='\\t')\n",
    "imuf.dropna(how=\"all\", inplace=True) \n",
    "\n",
    "yaw, pitch, roll = vizf[\"yaw\"], vizf[\"pitch\"], vizf[\"roll\"]\n",
    "yaw, pitch, roll = vizf[\"yaw\"]*57.29578, vizf[\"pitch\"]*57.29578, vizf[\"roll\"]*57.29578\n",
    "yaw, pitch, roll = yaw, pitch, roll\n",
    "xIMU,yIMU,zIMU = imuf[\"x\"], imuf[\"y\"], imuf[\"z\"]\n",
    "\n",
    "forces = np.arange(0,yaw.shape[0]*10,10)\n",
    "\n",
    "#print(len(yaw))\n",
    "#print(len(yIMU))\n",
    "print(yIMU)\n",
    "print(roll)\n",
    "#print(pitch)\n",
    "#print(len(forces))"
   ]
  },
  {
   "cell_type": "code",
   "execution_count": 11,
   "metadata": {
    "scrolled": true
   },
   "outputs": [
    {
     "data": {
      "image/png": "[encoded data removed]",
      "text/plain": [
       "<Figure size 432x288 with 1 Axes>"
      ]
     },
     "metadata": {},
     "output_type": "display_data"
    }
   ],
   "source": [
    "plt.scatter(forces, yIMU, label='imu')\n",
    "plt.scatter(forces, yaw, label='aprilTags')\n",
    "plt.ylabel('degrees')\n",
    "plt.xlabel('force (g)')\n",
    "plt.legend()\n",
    "plt.show()"
   ]
  },
  {
   "cell_type": "code",
   "execution_count": 12,
   "metadata": {},
   "outputs": [
    {
     "data": {
      "text/html": [
       "<script>requirejs.config({paths: { 'plotly': ['https://cdn.plot.ly/plotly-latest.min']},});if(!window.Plotly) {{require(['plotly'],function(plotly) {window.Plotly=plotly;});}}</script>"
      ],
      "text/vnd.plotly.v1+html": [
       "<script>requirejs.config({paths: { 'plotly': ['https://cdn.plot.ly/plotly-latest.min']},});if(!window.Plotly) {{require(['plotly'],function(plotly) {window.Plotly=plotly;});}}</script>"
      ]
     },
     "metadata": {},
     "output_type": "display_data"
    }
   ],
   "source": [
    "import numpy as np\n",
    "import plotly.plotly as py\n",
    "import plotly.offline as po\n",
    "import plotly.graph_objs as go\n",
    "from sklearn import linear_model\n",
    "from sklearn.linear_model import Ridge\n",
    "from sklearn.metrics import mean_squared_error, r2_score\n",
    "\n",
    "po.init_notebook_mode(connected=True)\n",
    "\n",
    "trace0 = go.Scatter( x = forces, y = yIMU, mode = 'markers',\n",
    "    name = 'degrees (by IMU)' )\n",
    "\n",
    "trace1 = go.Scatter( x = forces, y = yaw, mode = 'markers',\n",
    "    name = 'true degrees (by apriltag)' )\n",
    "\n",
    "\n",
    "forces = forces.reshape(-1, 1)\n",
    "myX = forces\n",
    "myy = yIMU \n",
    "#regr= Ridge(fit_intercept=True, alpha=1.0, random_state=0, normalize=True)\n",
    "regr = linear_model.LinearRegression()\n",
    "regr.fit(myX, myy)\n",
    "coef_ridge = regr.coef_\n",
    "gridx = np.linspace(myX.min(), myX.max(), 20)\n",
    "coef_ = regr.coef_ * gridx + regr.intercept_\n",
    "yPred= regr.predict(myX) \n",
    "#plt.plot(gridx, coef_, 'g-', label=\"ridge regression\")\n",
    "\n",
    "trace2 = go.Scatter( x= gridx, y = coef_,\n",
    "    name = 'linear fit (w/ridge penalty)' )\n",
    "           "
   ]
  },
  {
   "cell_type": "code",
   "execution_count": 13,
   "metadata": {},
   "outputs": [
    {
     "name": "stdout",
     "output_type": "stream",
     "text": [
      "Coefficients: \n",
      " [-0.0625]\n",
      "Mean squared error: 0.02\n",
      "Variance score (ideal 1): 0.99\n"
     ]
    },
    {
     "data": {
      "application/vnd.plotly.v1+json": {
       "data": [
        {
         "mode": "markers",
         "name": "true degrees (by apriltag)",
         "type": "scatter",
         "x": [
          0,
          10,
          20,
          30,
          40,
          50,
          60
         ],
         "y": [
          -0.5574306436199999,
          -1.34553409752,
          -1.97177697292,
          -2.66643100964,
          -3.58047058798,
          -4.26005583456,
          -5.28914533914
         ]
        },
        {
         "mode": "markers",
         "name": "degrees (by IMU)",
         "type": "scatter",
         "x": [
          0,
          10,
          20,
          30,
          40,
          50,
          60
         ],
         "y": [
          -0.625,
          -1.3125,
          -1.9375,
          -2.1875,
          -3.1875,
          -3.8125,
          -4.375
         ]
        },
        {
         "name": "linear fit (w/ridge penalty)",
         "type": "scatter",
         "x": [
          0,
          3.1578947368421053,
          6.315789473684211,
          9.473684210526315,
          12.631578947368421,
          15.789473684210527,
          18.94736842105263,
          22.105263157894736,
          25.263157894736842,
          28.42105263157895,
          31.578947368421055,
          34.73684210526316,
          37.89473684210526,
          41.05263157894737,
          44.21052631578947,
          47.36842105263158,
          50.526315789473685,
          53.68421052631579,
          56.8421052631579,
          60
         ],
         "y": [
          -0.6160714285714275,
          -0.8134398496240591,
          -1.0108082706766908,
          -1.2081766917293224,
          -1.405545112781954,
          -1.602913533834586,
          -1.8002819548872173,
          -1.9976503759398492,
          -2.195018796992481,
          -2.392387218045113,
          -2.5897556390977443,
          -2.7871240601503757,
          -2.984492481203007,
          -3.1818609022556394,
          -3.379229323308271,
          -3.5765977443609027,
          -3.773966165413534,
          -3.9713345864661656,
          -4.168703007518798,
          -4.366071428571429
         ]
        }
       ],
       "layout": {
        "legend": {
         "x": 0.1,
         "y": -0.5
        },
        "title": "Force vs Degrees of Deflection",
        "xaxis": {
         "title": "Force (in grams)"
        },
        "yaxis": {
         "title": "degrees"
        }
       }
      },
      "text/html": [
       "<div id=\"ae6d9e0e-359a-4ebc-a386-a4092512093d\" style=\"height: 525px; width: 100%;\" class=\"plotly-graph-div\"></div><script type=\"text/javascript\">require([\"plotly\"], function(Plotly) { window.PLOTLYENV=window.PLOTLYENV || {};window.PLOTLYENV.BASE_URL=\"https://plot.ly\";Plotly.newPlot(\"ae6d9e0e-359a-4ebc-a386-a4092512093d\", [{\"type\": \"scatter\", \"x\": [0, 10, 20, 30, 40, 50, 60], \"y\": [-0.5574306436199999, -1.34553409752, -1.97177697292, -2.66643100964, -3.58047058798, -4.26005583456, -5.28914533914], \"mode\": \"markers\", \"name\": \"true degrees (by apriltag)\"}, {\"type\": \"scatter\", \"x\": [0, 10, 20, 30, 40, 50, 60], \"y\": [-0.625, -1.3125, -1.9375, -2.1875, -3.1875, -3.8125, -4.375], \"mode\": \"markers\", \"name\": \"degrees (by IMU)\"}, {\"type\": \"scatter\", \"x\": [0.0, 3.1578947368421053, 6.315789473684211, 9.473684210526315, 12.631578947368421, 15.789473684210527, 18.94736842105263, 22.105263157894736, 25.263157894736842, 28.42105263157895, 31.578947368421055, 34.73684210526316, 37.89473684210526, 41.05263157894737, 44.21052631578947, 47.36842105263158, 50.526315789473685, 53.68421052631579, 56.8421052631579, 60.0], \"y\": [-0.6160714285714275, -0.8134398496240591, -1.0108082706766908, -1.2081766917293224, -1.405545112781954, -1.602913533834586, -1.8002819548872173, -1.9976503759398492, -2.195018796992481, -2.392387218045113, -2.5897556390977443, -2.7871240601503757, -2.984492481203007, -3.1818609022556394, -3.379229323308271, -3.5765977443609027, -3.773966165413534, -3.9713345864661656, -4.168703007518798, -4.366071428571429], \"name\": \"linear fit (w/ridge penalty)\"}], {\"title\": \"Force vs Degrees of Deflection\", \"yaxis\": {\"title\": \"degrees\"}, \"xaxis\": {\"title\": \"Force (in grams)\"}, \"legend\": {\"x\": 0.1, \"y\": -0.5}}, {\"showLink\": true, \"linkText\": \"Export to plot.ly\"})});</script>"
      ],
      "text/vnd.plotly.v1+html": [
       "<div id=\"ae6d9e0e-359a-4ebc-a386-a4092512093d\" style=\"height: 525px; width: 100%;\" class=\"plotly-graph-div\"></div><script type=\"text/javascript\">require([\"plotly\"], function(Plotly) { window.PLOTLYENV=window.PLOTLYENV || {};window.PLOTLYENV.BASE_URL=\"https://plot.ly\";Plotly.newPlot(\"ae6d9e0e-359a-4ebc-a386-a4092512093d\", [{\"type\": \"scatter\", \"x\": [0, 10, 20, 30, 40, 50, 60], \"y\": [-0.5574306436199999, -1.34553409752, -1.97177697292, -2.66643100964, -3.58047058798, -4.26005583456, -5.28914533914], \"mode\": \"markers\", \"name\": \"true degrees (by apriltag)\"}, {\"type\": \"scatter\", \"x\": [0, 10, 20, 30, 40, 50, 60], \"y\": [-0.625, -1.3125, -1.9375, -2.1875, -3.1875, -3.8125, -4.375], \"mode\": \"markers\", \"name\": \"degrees (by IMU)\"}, {\"type\": \"scatter\", \"x\": [0.0, 3.1578947368421053, 6.315789473684211, 9.473684210526315, 12.631578947368421, 15.789473684210527, 18.94736842105263, 22.105263157894736, 25.263157894736842, 28.42105263157895, 31.578947368421055, 34.73684210526316, 37.89473684210526, 41.05263157894737, 44.21052631578947, 47.36842105263158, 50.526315789473685, 53.68421052631579, 56.8421052631579, 60.0], \"y\": [-0.6160714285714275, -0.8134398496240591, -1.0108082706766908, -1.2081766917293224, -1.405545112781954, -1.602913533834586, -1.8002819548872173, -1.9976503759398492, -2.195018796992481, -2.392387218045113, -2.5897556390977443, -2.7871240601503757, -2.984492481203007, -3.1818609022556394, -3.379229323308271, -3.5765977443609027, -3.773966165413534, -3.9713345864661656, -4.168703007518798, -4.366071428571429], \"name\": \"linear fit (w/ridge penalty)\"}], {\"title\": \"Force vs Degrees of Deflection\", \"yaxis\": {\"title\": \"degrees\"}, \"xaxis\": {\"title\": \"Force (in grams)\"}, \"legend\": {\"x\": 0.1, \"y\": -0.5}}, {\"showLink\": true, \"linkText\": \"Export to plot.ly\"})});</script>"
      ]
     },
     "metadata": {},
     "output_type": "display_data"
    }
   ],
   "source": [
    "data = [trace1, trace0, trace2]\n",
    "\n",
    "layout = go.Layout(\n",
    "    title='Force vs Degrees of Deflection',\n",
    "    yaxis=dict(title='degrees'),\n",
    "    xaxis=dict(title='Force (in grams)'),\n",
    "    legend=dict(x=.1, y=-.5) )\n",
    "\n",
    "fig = go.Figure(data=data, layout=layout)\n",
    "# Plot and embed in ipython notebook!\n",
    "\n",
    "print('Coefficients: \\n', regr.coef_)\n",
    "print(\"Mean squared error: %.2f\" % mean_squared_error(yIMU, yPred))\n",
    "print('Variance score (ideal 1): %.2f' % r2_score(yIMU, yPred)) \n",
    "po.iplot(fig)\n",
    "#po.plot(fig, filename='temp_plot.html')"
   ]
  },
  {
   "cell_type": "code",
   "execution_count": 15,
   "metadata": {},
   "outputs": [
    {
     "data": {
      "application/vnd.plotly.v1+json": {
       "data": [
        {
         "mode": "markers",
         "name": "resid",
         "type": "scatter",
         "x": [
          -0.625,
          -1.3125,
          -1.9375,
          -2.1875,
          -3.1875,
          -3.8125,
          -4.375
         ],
         "y": [
          -0.008928571428572507,
          -0.07142857142857229,
          -0.07142857142857206,
          0.3035714285714284,
          -0.07142857142857162,
          -0.07142857142857117,
          -0.008928571428571175
         ]
        }
       ],
       "layout": {
        "legend": {
         "x": 0.1,
         "y": -0.5
        },
        "title": "Residuals",
        "xaxis": {
         "title": "yIMU (degrees)"
        },
        "yaxis": {
         "title": "residuals"
        }
       }
      },
      "text/html": [
       "<div id=\"0972958b-a695-40a7-aa27-0dea73c96631\" style=\"height: 525px; width: 100%;\" class=\"plotly-graph-div\"></div><script type=\"text/javascript\">require([\"plotly\"], function(Plotly) { window.PLOTLYENV=window.PLOTLYENV || {};window.PLOTLYENV.BASE_URL=\"https://plot.ly\";Plotly.newPlot(\"0972958b-a695-40a7-aa27-0dea73c96631\", [{\"type\": \"scatter\", \"x\": [-0.625, -1.3125, -1.9375, -2.1875, -3.1875, -3.8125, -4.375], \"y\": [-0.008928571428572507, -0.07142857142857229, -0.07142857142857206, 0.3035714285714284, -0.07142857142857162, -0.07142857142857117, -0.008928571428571175], \"mode\": \"markers\", \"name\": \"resid\"}], {\"title\": \"Residuals\", \"yaxis\": {\"title\": \"residuals\"}, \"xaxis\": {\"title\": \"yIMU (degrees)\"}, \"legend\": {\"x\": 0.1, \"y\": -0.5}}, {\"showLink\": true, \"linkText\": \"Export to plot.ly\"})});</script>"
      ],
      "text/vnd.plotly.v1+html": [
       "<div id=\"0972958b-a695-40a7-aa27-0dea73c96631\" style=\"height: 525px; width: 100%;\" class=\"plotly-graph-div\"></div><script type=\"text/javascript\">require([\"plotly\"], function(Plotly) { window.PLOTLYENV=window.PLOTLYENV || {};window.PLOTLYENV.BASE_URL=\"https://plot.ly\";Plotly.newPlot(\"0972958b-a695-40a7-aa27-0dea73c96631\", [{\"type\": \"scatter\", \"x\": [-0.625, -1.3125, -1.9375, -2.1875, -3.1875, -3.8125, -4.375], \"y\": [-0.008928571428572507, -0.07142857142857229, -0.07142857142857206, 0.3035714285714284, -0.07142857142857162, -0.07142857142857117, -0.008928571428571175], \"mode\": \"markers\", \"name\": \"resid\"}], {\"title\": \"Residuals\", \"yaxis\": {\"title\": \"residuals\"}, \"xaxis\": {\"title\": \"yIMU (degrees)\"}, \"legend\": {\"x\": 0.1, \"y\": -0.5}}, {\"showLink\": true, \"linkText\": \"Export to plot.ly\"})});</script>"
      ]
     },
     "metadata": {},
     "output_type": "display_data"
    },
    {
     "name": "stdout",
     "output_type": "stream",
     "text": [
      "0   -0.6250\n",
      "1   -1.3125\n",
      "2   -1.9375\n",
      "3   -2.1875\n",
      "4   -3.1875\n",
      "5   -3.8125\n",
      "6   -4.3750\n",
      "Name: y, dtype: float64\n",
      "0   -0.008929\n",
      "1   -0.071429\n",
      "2   -0.071429\n",
      "3    0.303571\n",
      "4   -0.071429\n",
      "5   -0.071429\n",
      "6   -0.008929\n",
      "Name: y, dtype: float64\n"
     ]
    }
   ],
   "source": [
    "resid = yIMU - yPred\n",
    "layout = go.Layout(\n",
    "    title='Force vs Degrees of Deflection',\n",
    "    yaxis=dict(title='degrees'),\n",
    "    xaxis=dict(title='Force (in grams)'),\n",
    "    legend=dict(x=.1, y=-.5) )\n",
    "traceResid = go.Scatter( x = yIMU, y = resid, mode = 'markers',\n",
    "    name = 'resid' )\n",
    "data = [traceResid]\n",
    "layout = go.Layout(\n",
    "    title='Residuals',\n",
    "    yaxis=dict(title='residuals'),\n",
    "    xaxis=dict(title='yIMU (degrees)'),\n",
    "    legend=dict(x=.1, y=-.5) )\n",
    "\n",
    "fig = go.Figure(data=data, layout=layout)\n",
    "po.iplot(fig)\n",
    "print(yIMU)\n",
    "print(resid)"
   ]
  },
  {
   "cell_type": "code",
   "execution_count": null,
   "metadata": {},
   "outputs": [],
   "source": []
  },
  {
   "cell_type": "code",
   "execution_count": null,
   "metadata": {},
   "outputs": [],
   "source": []
  }
 ],
 "metadata": {
  "kernelspec": {
   "display_name": "Python 3",
   "language": "python",
   "name": "python3"
  },
  "language_info": {
   "codemirror_mode": {
    "name": "ipython",
    "version": 3
   },
   "file_extension": ".py",
   "mimetype": "text/x-python",
   "name": "python",
   "nbconvert_exporter": "python",
   "pygments_lexer": "ipython3",
   "version": "3.6.3"
  }
 },
 "nbformat": 4,
 "nbformat_minor": 2
}
