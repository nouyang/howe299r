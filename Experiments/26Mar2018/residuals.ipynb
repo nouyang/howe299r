{
 "cells": [
  {
   "cell_type": "code",
   "execution_count": 175,
   "metadata": {},
   "outputs": [
    {
     "name": "stdout",
     "output_type": "stream",
     "text": [
      "['yaw', 'pitch', 'roll', 'force', 'dist x', 'dist y', 'dist z', 'Distance (#)', 'xIMU', 'yIMU', 'zIMU']\n",
      "42\n",
      "42\n",
      "(3, 42)\n",
      "(3, 42)\n",
      "(3, 3)\n",
      "(3, 42)\n"
     ]
    },
    {
     "name": "stderr",
     "output_type": "stream",
     "text": [
      "/home/nrw/Documents/projects_Spring2018/howe299r/Experiments/venv/lib/python3.6/site-packages/ipykernel_launcher.py:37: FutureWarning: `rcond` parameter will change to the default of machine precision times ``max(M, N)`` where M and N are the input matrix dimensions.\n",
      "To use the future default and silence this warning we advise to pass `rcond=None`, to keep using the old, explicitly pass `rcond=-1`.\n",
      "/home/nrw/Documents/projects_Spring2018/howe299r/Experiments/venv/lib/python3.6/site-packages/ipykernel_launcher.py:38: FutureWarning: `rcond` parameter will change to the default of machine precision times ``max(M, N)`` where M and N are the input matrix dimensions.\n",
      "To use the future default and silence this warning we advise to pass `rcond=None`, to keep using the old, explicitly pass `rcond=-1`.\n"
     ]
    }
   ],
   "source": [
    "import pandas as pd\n",
    "import numpy as np\n",
    "import matplotlib.pyplot as plt\n",
    "\n",
    "#path ='/home/nrw/Documents/projects_Spring2018/howe299r/Experiments/26Mar2018/data/deltas/'\n",
    "path ='/home/nrw/Documents/projects_Spring2018/howe299r/Experiments/26Mar2018/data/'\n",
    "csv = 'allPositions_Torque.csv'\n",
    "df = pd.read_csv(path+csv,sep='\\t')\n",
    "df .dropna(how=\"all\", inplace=True) \n",
    "\n",
    "print(list(df))\n",
    "#print(list(imuf))\n",
    "yaw, pitch, roll = df[\"yaw\"], df[\"pitch\"], df[\"roll\"]\n",
    "yaw, pitch, roll = yaw*57.29578, pitch*57.29578, roll*57.29578 #convert to degrees\n",
    "pitchViz, rollViz, yawViz = yaw, pitch, roll \n",
    "#print(np.sign(yaw), np.sign(pitch), np.sign(roll))\n",
    "\n",
    "xIMU, yIMU, zIMU = df[\"xIMU\"], df[\"yIMU\"], df[\"zIMU\"]\n",
    "rollIMU, pitchIMU, yawIMU = xIMU, yIMU, zIMU\n",
    "\n",
    "forceDistX, forceDistY, forceDistZ = df[\"dist x\"], df[\"dist y\"], df[\"dist z\"]\n",
    "\n",
    "\n",
    "# torques will are a (force*dist), dims(3).N(datapoints)\n",
    "# e.g. torqueX = forces* forceDistX\n",
    "forces = df[\"force\"]\n",
    "print(len(forces))\n",
    "print(len(forces*forceDistX))\n",
    "\n",
    "torques = np.array([forces*forceDistX,forces*forceDistY, forces*forceDistZ])\n",
    "print(torques.shape)\n",
    "thetaIMU = np.array([rollIMU, pitchIMU, yawIMU])\n",
    "thetaViz = np.array([rollViz, pitchViz, yawViz])\n",
    "print(thetaViz.shape)\n",
    "\n",
    "# k is stiffness\n",
    "kEstViz = np.linalg.lstsq(torques.T, thetaViz.T)[0]\n",
    "kEstIMU = np.linalg.lstsq(torques.T, thetaIMU.T)[0] #we expect a 3x3 matrix for k\n",
    "print(kEstIMU.shape)\n",
    "torqueEstIMU = np.dot(kEstIMU, thetaIMU)\n",
    "torqueEstViz = np.dot(kEstIMU, thetaViz)\n",
    "print(torqueEstIMU.shape)\n",
    "\n",
    "#kEstIMU= np.divide(torques, thetaIMU)"
   ]
  },
  {
   "cell_type": "code",
   "execution_count": 191,
   "metadata": {},
   "outputs": [
    {
     "name": "stdout",
     "output_type": "stream",
     "text": [
      "Stiffness Estimated by IMU: \n",
      " [[-0.0005671  -0.01646011  0.00047227]\n",
      " [-0.00017718  0.00042152 -0.00181939]\n",
      " [ 0.          0.          0.        ]] \n",
      "\n",
      "Stiffness Estimated by AprilTag (camera): \n",
      " [[-0.00149241 -0.01804385 -0.00102431]\n",
      " [-0.00097688  0.00003939  0.00208215]\n",
      " [ 0.          0.          0.        ]] \n",
      "\n",
      "Difference: \n",
      " [[-0.00092531 -0.00158374 -0.00149658]\n",
      " [-0.0007997  -0.00038213  0.00390154]\n",
      " [ 0.          0.          0.        ]]\n"
     ]
    }
   ],
   "source": [
    "np.set_printoptions(suppress=True)\n",
    "#np.set_printoptions(formatter={'float': lambda x: \"{0:0.3f}\".format(x)})\n",
    "print('Stiffness Estimated by IMU: \\n', kEstIMU, '\\n')\n",
    "print('Stiffness Estimated by AprilTag (camera): \\n', kEstViz, '\\n')\n",
    "print('Difference: \\n', kEstViz-kEstIMU)"
   ]
  },
  {
   "cell_type": "code",
   "execution_count": 196,
   "metadata": {},
   "outputs": [
    {
     "name": "stdout",
     "output_type": "stream",
     "text": [
      "First dimension = x/y/z, second dimension = for each sample\n",
      "\n",
      "IMU: A subset of samples, and their residuals:\n",
      " [[ -45.99482077  -91.97630315 -137.95984305 -183.94646328 -229.93832178]\n",
      " [ -30.00012065  -60.00059487  -90.00101639 -120.00123409 -150.00110372]\n",
      " [   0.            0.            0.            0.            0.        ]] \n",
      "\n",
      "Viz: A subset of samples, and their residuals:\n",
      " [[ -45.98733372  -91.97457953 -137.95727714 -183.94663494 -229.92635635]\n",
      " [ -29.99944436  -60.00076235  -90.00084825 -120.00166499 -150.00296153]\n",
      " [   0.            0.            0.            0.            0.        ]]\n"
     ]
    }
   ],
   "source": [
    "residualsIMU = torqueEstIMU - torques\n",
    "residualsViz = torqueEstViz - torques\n",
    "#print(residualsIMU.shape)\n",
    "\n",
    "print('First dimension = x/y/z, second dimension = for each sample\\n')\n",
    "print('IMU: A subset of samples, and their residuals:\\n',np.array([row[0:5] for row in residualsIMU]), '\\n')\n",
    "print('Viz: A subset of samples, and their residuals:\\n',np.array([row[0:5] for row in residualsViz]))"
   ]
  },
  {
   "cell_type": "code",
   "execution_count": 174,
   "metadata": {},
   "outputs": [
    {
     "name": "stdout",
     "output_type": "stream",
     "text": [
      "42 (3, 42)\n",
      "(3, 42)\n",
      "Since torques were taken in increasing order, the plot for \"increasing order\" would be the same\n"
     ]
    },
    {
     "data": {
      "image/png": "[encoded data removed]",
      "text/plain": [
       "<Figure size 432x288 with 1 Axes>"
      ]
     },
     "metadata": {},
     "output_type": "display_data"
    }
   ],
   "source": [
    "print(len(forces), residualsIMU.shape)\n",
    "print(torques.shape)\n",
    "#print(torques)\n",
    "plt.scatter(torques[0], residualsIMU[0], label='x', marker='x')\n",
    "plt.scatter(torques[1], residualsIMU[1], label='y', marker='.')\n",
    "plt.scatter(torques[2], residualsIMU[2], label='z', marker='v')\n",
    "#plt.scatter(torques, residualsViz, marker='x', label='aprilTags') #????\n",
    "plt.title('Torque vs Residuals')\n",
    "print('Since torques were taken in increasing order, the plot for \"increasing order\" would be the same')\n",
    "plt.ylabel('residuals')\n",
    "plt.xlabel('torques (grams*cm)')\n",
    "plt.legend()\n",
    "plt.show()"
   ]
  },
  {
   "cell_type": "code",
   "execution_count": 199,
   "metadata": {},
   "outputs": [
    {
     "name": "stdout",
     "output_type": "stream",
     "text": [
      "42 (3, 42)\n",
      "(3, 42)\n"
     ]
    },
    {
     "data": {
      "image/png": "[encoded data removed]",
      "text/plain": [
       "<Figure size 432x288 with 1 Axes>"
      ]
     },
     "metadata": {},
     "output_type": "display_data"
    }
   ],
   "source": [
    "print(len(forces), residualsIMU.shape)\n",
    "print(torques.shape)\n",
    "#print(torques)\n",
    "plt.scatter(rollIMU, residualsIMU[0], label='x', marker='x')\n",
    "plt.scatter(pitchIMU, residualsIMU[1], label='y', marker='.')\n",
    "plt.scatter(yawIMU, residualsIMU[2], label='z', marker='_')\n",
    "#plt.scatter(torques, residualsViz, marker='x', label='aprilTags') #????\n",
    "plt.title('Degrees vs Residuals')\n",
    "plt.ylabel('residuals')\n",
    "plt.xlabel('degrees')\n",
    "plt.legend()\n",
    "plt.show()"
   ]
  },
  {
   "cell_type": "code",
   "execution_count": 198,
   "metadata": {},
   "outputs": [
    {
     "name": "stdout",
     "output_type": "stream",
     "text": [
      "42 (3, 42)\n",
      "(3, 42)\n"
     ]
    },
    {
     "data": {
      "image/png": "[encoded data removed]",
      "text/plain": [
       "<Figure size 432x288 with 1 Axes>"
      ]
     },
     "metadata": {},
     "output_type": "display_data"
    }
   ],
   "source": [
    "print(len(forces), residualsIMU.shape)\n",
    "print(torques.shape)\n",
    "#print(torques)\n",
    "plt.scatter(forces, residualsIMU[0], label='x', marker='x')\n",
    "plt.scatter(forces, residualsIMU[1], label='y', marker='.')\n",
    "plt.scatter(forces, residualsIMU[2], label='z', marker='_')\n",
    "#plt.scatter(torques, residualsViz, marker='x', label='aprilTags') #????\n",
    "plt.title('Degrees vs Force (g)')\n",
    "plt.ylabel('residuals')\n",
    "plt.xlabel('forces')\n",
    "plt.legend()\n",
    "plt.show()"
   ]
  }
 ],
 "metadata": {
  "kernelspec": {
   "display_name": "Python 3",
   "language": "python",
   "name": "python3"
  },
  "language_info": {
   "codemirror_mode": {
    "name": "ipython",
    "version": 3
   },
   "file_extension": ".py",
   "mimetype": "text/x-python",
   "name": "python",
   "nbconvert_exporter": "python",
   "pygments_lexer": "ipython3",
   "version": "3.6.3"
  }
 },
 "nbformat": 4,
 "nbformat_minor": 2
}
