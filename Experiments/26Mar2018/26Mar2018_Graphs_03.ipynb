{
 "cells": [
  {
   "cell_type": "markdown",
   "metadata": {},
   "source": [
    "# Heading\n"
   ]
  },
  {
   "cell_type": "code",
   "execution_count": 17,
   "metadata": {},
   "outputs": [],
   "source": [
    "import pandas as pd\n",
    "import numpy as np\n",
    "import matplotlib.pyplot as plt\n",
    "\n",
    "path ='/home/nrw/Documents/projects_Spring2018/howe299r/Experiments/26Mar2018/data/deltas/'\n",
    "viz = '03April.csv'\n",
    "imu = '03IMU.csv'\n",
    "vizf = pd.read_csv(path+viz,sep='\\t')\n",
    "vizf.dropna(how=\"all\", inplace=True) \n",
    "imuf = pd.read_csv(path+imu,sep='\\t')\n",
    "imuf.dropna(how=\"all\", inplace=True) \n",
    "\n",
    "yaw, pitch, roll = vizf[\"yaw\"], vizf[\"pitch\"], vizf[\"roll\"]\n",
    "yaw, pitch, roll = vizf[\"yaw\"]*57.29578, vizf[\"pitch\"]*57.29578, vizf[\"roll\"]*57.29578\n",
    "yaw, pitch, roll = -yaw, -pitch, -roll \n",
    "xIMU,yIMU,zIMU = imuf[\"x\"], imuf[\"y\"], imuf[\"z\"]\n",
    "\n",
    "forces = np.arange(0,yaw.shape[0]*10,10)\n",
    "\n",
    "#print(len(yaw))\n",
    "#print(len(yIMU))\n",
    "#print(yIMU)\n",
    "#print(roll)\n",
    "#print(pitch)\n",
    "#print(len(forces))"
   ]
  },
  {
   "cell_type": "code",
   "execution_count": 24,
   "metadata": {
    "scrolled": true
   },
   "outputs": [
    {
     "data": {
      "image/png": "[encoded data removed]",
      "text/plain": [
       "<Figure size 432x288 with 1 Axes>"
      ]
     },
     "metadata": {},
     "output_type": "display_data"
    }
   ],
   "source": [
    "plt.scatter(forces, yIMU, label='imu')\n",
    "plt.scatter(forces, roll, label='aprilTags') #????\n",
    "plt.ylabel('degrees')\n",
    "plt.xlabel('force (g)')\n",
    "plt.legend()\n",
    "plt.show()"
   ]
  },
  {
   "cell_type": "code",
   "execution_count": 19,
   "metadata": {},
   "outputs": [
    {
     "data": {
      "text/html": [
       "<script>requirejs.config({paths: { 'plotly': ['https://cdn.plot.ly/plotly-latest.min']},});if(!window.Plotly) {{require(['plotly'],function(plotly) {window.Plotly=plotly;});}}</script>"
      ],
      "text/vnd.plotly.v1+html": [
       "<script>requirejs.config({paths: { 'plotly': ['https://cdn.plot.ly/plotly-latest.min']},});if(!window.Plotly) {{require(['plotly'],function(plotly) {window.Plotly=plotly;});}}</script>"
      ]
     },
     "metadata": {},
     "output_type": "display_data"
    }
   ],
   "source": [
    "import numpy as np\n",
    "import plotly.plotly as py\n",
    "import plotly.offline as po\n",
    "import plotly.graph_objs as go\n",
    "from sklearn import linear_model\n",
    "from sklearn.linear_model import Ridge\n",
    "from sklearn.metrics import mean_squared_error, r2_score\n",
    "\n",
    "po.init_notebook_mode(connected=True)\n",
    "\n",
    "trace0 = go.Scatter( x = forces, y = yIMU, mode = 'markers',\n",
    "    name = 'degrees (by IMU)' )\n",
    "\n",
    "trace1 = go.Scatter( x = forces, y = yaw, mode = 'markers',\n",
    "    name = 'true degrees (by apriltag)' )\n",
    "\n",
    "\n",
    "forces = forces.reshape(-1, 1)\n",
    "myX = forces\n",
    "myy = yIMU \n",
    "#regr= Ridge(fit_intercept=True, alpha=1.0, random_state=0, normalize=True)\n",
    "regr = linear_model.LinearRegression()\n",
    "regr.fit(myX, myy)\n",
    "coef_ridge = regr.coef_\n",
    "gridx = np.linspace(myX.min(), myX.max(), 20)\n",
    "coef_ = regr.coef_ * gridx + regr.intercept_\n",
    "yPred= regr.predict(myX) \n",
    "#plt.plot(gridx, coef_, 'g-', label=\"ridge regression\")\n",
    "\n",
    "trace2 = go.Scatter( x= gridx, y = coef_,\n",
    "    name = 'linear fit (w/ridge penalty)' )\n",
    "           "
   ]
  },
  {
   "cell_type": "code",
   "execution_count": 20,
   "metadata": {
    "scrolled": true
   },
   "outputs": [
    {
     "name": "stdout",
     "output_type": "stream",
     "text": [
      "Coefficients: \n",
      " [-0.07983631]\n",
      "Mean squared error: 0.04\n",
      "Variance score (ideal 1): 0.99\n"
     ]
    },
    {
     "data": {
      "application/vnd.plotly.v1+json": {
       "data": [
        {
         "mode": "markers",
         "name": "true degrees (by apriltag)",
         "type": "scatter",
         "x": [
          0,
          10,
          20,
          30,
          40,
          50,
          60,
          70
         ],
         "y": [
          -0.3658335553,
          -0.17337703028,
          -0.43957322416,
          -1.07675959354,
          -1.217535325,
          -1.26646592112,
          -1.42718058402,
          -1.3836357912200001
         ]
        },
        {
         "mode": "markers",
         "name": "degrees (by IMU)",
         "type": "scatter",
         "x": [
          0,
          10,
          20,
          30,
          40,
          50,
          60,
          70
         ],
         "y": [
          -0.625,
          -1.5,
          -2.125,
          -2.875,
          -4.125,
          -4.4375,
          -5.75,
          -6
         ]
        },
        {
         "name": "linear fit (w/ridge penalty)",
         "type": "scatter",
         "x": [
          0,
          3.6842105263157894,
          7.368421052631579,
          11.052631578947368,
          14.736842105263158,
          18.421052631578945,
          22.105263157894736,
          25.789473684210527,
          29.473684210526315,
          33.1578947368421,
          36.84210526315789,
          40.526315789473685,
          44.21052631578947,
          47.89473684210526,
          51.578947368421055,
          55.26315789473684,
          58.94736842105263,
          62.63157894736842,
          66.3157894736842,
          70
         ],
         "y": [
          -0.6354166666666665,
          -0.9295504385964911,
          -1.2236842105263157,
          -1.5178179824561404,
          -1.811951754385965,
          -2.1060855263157894,
          -2.400219298245614,
          -2.694353070175439,
          -2.9884868421052633,
          -3.2826206140350878,
          -3.5767543859649122,
          -3.870888157894737,
          -4.165021929824562,
          -4.459155701754386,
          -4.753289473684211,
          -5.047423245614036,
          -5.34155701754386,
          -5.635690789473685,
          -5.9298245614035086,
          -6.223958333333334
         ]
        }
       ],
       "layout": {
        "legend": {
         "x": 0.1,
         "y": -0.5
        },
        "title": "Force vs Degrees of Deflection",
        "xaxis": {
         "title": "Force (in grams)"
        },
        "yaxis": {
         "title": "degrees"
        }
       }
      },
      "text/html": [
       "<div id=\"78fa9704-9b02-402a-8c40-093d568f65b4\" style=\"height: 525px; width: 100%;\" class=\"plotly-graph-div\"></div><script type=\"text/javascript\">require([\"plotly\"], function(Plotly) { window.PLOTLYENV=window.PLOTLYENV || {};window.PLOTLYENV.BASE_URL=\"https://plot.ly\";Plotly.newPlot(\"78fa9704-9b02-402a-8c40-093d568f65b4\", [{\"type\": \"scatter\", \"x\": [0, 10, 20, 30, 40, 50, 60, 70], \"y\": [-0.3658335553, -0.17337703028, -0.43957322416, -1.07675959354, -1.217535325, -1.26646592112, -1.42718058402, -1.3836357912200001], \"mode\": \"markers\", \"name\": \"true degrees (by apriltag)\"}, {\"type\": \"scatter\", \"x\": [0, 10, 20, 30, 40, 50, 60, 70], \"y\": [-0.625, -1.5, -2.125, -2.875, -4.125, -4.4375, -5.75, -6.0], \"mode\": \"markers\", \"name\": \"degrees (by IMU)\"}, {\"type\": \"scatter\", \"x\": [0.0, 3.6842105263157894, 7.368421052631579, 11.052631578947368, 14.736842105263158, 18.421052631578945, 22.105263157894736, 25.789473684210527, 29.473684210526315, 33.1578947368421, 36.84210526315789, 40.526315789473685, 44.21052631578947, 47.89473684210526, 51.578947368421055, 55.26315789473684, 58.94736842105263, 62.63157894736842, 66.3157894736842, 70.0], \"y\": [-0.6354166666666665, -0.9295504385964911, -1.2236842105263157, -1.5178179824561404, -1.811951754385965, -2.1060855263157894, -2.400219298245614, -2.694353070175439, -2.9884868421052633, -3.2826206140350878, -3.5767543859649122, -3.870888157894737, -4.165021929824562, -4.459155701754386, -4.753289473684211, -5.047423245614036, -5.34155701754386, -5.635690789473685, -5.9298245614035086, -6.223958333333334], \"name\": \"linear fit (w/ridge penalty)\"}], {\"title\": \"Force vs Degrees of Deflection\", \"yaxis\": {\"title\": \"degrees\"}, \"xaxis\": {\"title\": \"Force (in grams)\"}, \"legend\": {\"x\": 0.1, \"y\": -0.5}}, {\"showLink\": true, \"linkText\": \"Export to plot.ly\"})});</script>"
      ],
      "text/vnd.plotly.v1+html": [
       "<div id=\"78fa9704-9b02-402a-8c40-093d568f65b4\" style=\"height: 525px; width: 100%;\" class=\"plotly-graph-div\"></div><script type=\"text/javascript\">require([\"plotly\"], function(Plotly) { window.PLOTLYENV=window.PLOTLYENV || {};window.PLOTLYENV.BASE_URL=\"https://plot.ly\";Plotly.newPlot(\"78fa9704-9b02-402a-8c40-093d568f65b4\", [{\"type\": \"scatter\", \"x\": [0, 10, 20, 30, 40, 50, 60, 70], \"y\": [-0.3658335553, -0.17337703028, -0.43957322416, -1.07675959354, -1.217535325, -1.26646592112, -1.42718058402, -1.3836357912200001], \"mode\": \"markers\", \"name\": \"true degrees (by apriltag)\"}, {\"type\": \"scatter\", \"x\": [0, 10, 20, 30, 40, 50, 60, 70], \"y\": [-0.625, -1.5, -2.125, -2.875, -4.125, -4.4375, -5.75, -6.0], \"mode\": \"markers\", \"name\": \"degrees (by IMU)\"}, {\"type\": \"scatter\", \"x\": [0.0, 3.6842105263157894, 7.368421052631579, 11.052631578947368, 14.736842105263158, 18.421052631578945, 22.105263157894736, 25.789473684210527, 29.473684210526315, 33.1578947368421, 36.84210526315789, 40.526315789473685, 44.21052631578947, 47.89473684210526, 51.578947368421055, 55.26315789473684, 58.94736842105263, 62.63157894736842, 66.3157894736842, 70.0], \"y\": [-0.6354166666666665, -0.9295504385964911, -1.2236842105263157, -1.5178179824561404, -1.811951754385965, -2.1060855263157894, -2.400219298245614, -2.694353070175439, -2.9884868421052633, -3.2826206140350878, -3.5767543859649122, -3.870888157894737, -4.165021929824562, -4.459155701754386, -4.753289473684211, -5.047423245614036, -5.34155701754386, -5.635690789473685, -5.9298245614035086, -6.223958333333334], \"name\": \"linear fit (w/ridge penalty)\"}], {\"title\": \"Force vs Degrees of Deflection\", \"yaxis\": {\"title\": \"degrees\"}, \"xaxis\": {\"title\": \"Force (in grams)\"}, \"legend\": {\"x\": 0.1, \"y\": -0.5}}, {\"showLink\": true, \"linkText\": \"Export to plot.ly\"})});</script>"
      ]
     },
     "metadata": {},
     "output_type": "display_data"
    }
   ],
   "source": [
    "data = [trace1, trace0, trace2]\n",
    "\n",
    "layout = go.Layout(\n",
    "    title='Force vs Degrees of Deflection',\n",
    "    yaxis=dict(title='degrees'),\n",
    "    xaxis=dict(title='Force (in grams)'),\n",
    "    legend=dict(x=.1, y=-.5) )\n",
    "\n",
    "fig = go.Figure(data=data, layout=layout)\n",
    "# Plot and embed in ipython notebook!\n",
    "\n",
    "print('Coefficients: \\n', regr.coef_)\n",
    "print(\"Mean squared error: %.2f\" % mean_squared_error(yIMU, yPred))\n",
    "print('Variance score (ideal 1): %.2f' % r2_score(yIMU, yPred)) \n",
    "po.iplot(fig)\n",
    "#po.plot(fig, filename='temp_plot.html')"
   ]
  },
  {
   "cell_type": "code",
   "execution_count": 21,
   "metadata": {},
   "outputs": [
    {
     "data": {
      "application/vnd.plotly.v1+json": {
       "data": [
        {
         "mode": "markers",
         "name": "resid",
         "type": "scatter",
         "x": [
          -0.625,
          -1.5,
          -2.125,
          -2.875,
          -4.125,
          -4.4375,
          -5.75,
          -6
         ],
         "y": [
          0.010416666666666519,
          -0.06622023809523814,
          0.1071428571428572,
          0.15550595238095255,
          -0.2961309523809521,
          0.18973214285714324,
          -0.324404761904761,
          0.22395833333333393
         ]
        }
       ],
       "layout": {
        "legend": {
         "x": 0.1,
         "y": -0.5
        },
        "title": "Residuals",
        "xaxis": {
         "title": "yIMU (degrees)"
        },
        "yaxis": {
         "title": "residuals"
        }
       }
      },
      "text/html": [
       "<div id=\"4a094995-f881-4ee7-ae75-c2ea553c2c1f\" style=\"height: 525px; width: 100%;\" class=\"plotly-graph-div\"></div><script type=\"text/javascript\">require([\"plotly\"], function(Plotly) { window.PLOTLYENV=window.PLOTLYENV || {};window.PLOTLYENV.BASE_URL=\"https://plot.ly\";Plotly.newPlot(\"4a094995-f881-4ee7-ae75-c2ea553c2c1f\", [{\"type\": \"scatter\", \"x\": [-0.625, -1.5, -2.125, -2.875, -4.125, -4.4375, -5.75, -6.0], \"y\": [0.010416666666666519, -0.06622023809523814, 0.1071428571428572, 0.15550595238095255, -0.2961309523809521, 0.18973214285714324, -0.324404761904761, 0.22395833333333393], \"mode\": \"markers\", \"name\": \"resid\"}], {\"title\": \"Residuals\", \"yaxis\": {\"title\": \"residuals\"}, \"xaxis\": {\"title\": \"yIMU (degrees)\"}, \"legend\": {\"x\": 0.1, \"y\": -0.5}}, {\"showLink\": true, \"linkText\": \"Export to plot.ly\"})});</script>"
      ],
      "text/vnd.plotly.v1+html": [
       "<div id=\"4a094995-f881-4ee7-ae75-c2ea553c2c1f\" style=\"height: 525px; width: 100%;\" class=\"plotly-graph-div\"></div><script type=\"text/javascript\">require([\"plotly\"], function(Plotly) { window.PLOTLYENV=window.PLOTLYENV || {};window.PLOTLYENV.BASE_URL=\"https://plot.ly\";Plotly.newPlot(\"4a094995-f881-4ee7-ae75-c2ea553c2c1f\", [{\"type\": \"scatter\", \"x\": [-0.625, -1.5, -2.125, -2.875, -4.125, -4.4375, -5.75, -6.0], \"y\": [0.010416666666666519, -0.06622023809523814, 0.1071428571428572, 0.15550595238095255, -0.2961309523809521, 0.18973214285714324, -0.324404761904761, 0.22395833333333393], \"mode\": \"markers\", \"name\": \"resid\"}], {\"title\": \"Residuals\", \"yaxis\": {\"title\": \"residuals\"}, \"xaxis\": {\"title\": \"yIMU (degrees)\"}, \"legend\": {\"x\": 0.1, \"y\": -0.5}}, {\"showLink\": true, \"linkText\": \"Export to plot.ly\"})});</script>"
      ]
     },
     "metadata": {},
     "output_type": "display_data"
    }
   ],
   "source": [
    "resid = yIMU - yPred\n",
    "layout = go.Layout(\n",
    "    title='Force vs Degrees of Deflection',\n",
    "    yaxis=dict(title='degrees'),\n",
    "    xaxis=dict(title='Force (in grams)'),\n",
    "    legend=dict(x=.1, y=-.5) )\n",
    "traceResid = go.Scatter( x = yIMU, y = resid, mode = 'markers',\n",
    "    name = 'resid' )\n",
    "data = [traceResid]\n",
    "layout = go.Layout(\n",
    "    title='Residuals',\n",
    "    yaxis=dict(title='residuals'),\n",
    "    xaxis=dict(title='yIMU (degrees)'),\n",
    "    legend=dict(x=.1, y=-.5) )\n",
    "\n",
    "fig = go.Figure(data=data, layout=layout)\n",
    "po.iplot(fig)"
   ]
  },
  {
   "cell_type": "code",
   "execution_count": null,
   "metadata": {},
   "outputs": [],
   "source": []
  },
  {
   "cell_type": "code",
   "execution_count": null,
   "metadata": {},
   "outputs": [],
   "source": []
  }
 ],
 "metadata": {
  "kernelspec": {
   "display_name": "Python 3",
   "language": "python",
   "name": "python3"
  },
  "language_info": {
   "codemirror_mode": {
    "name": "ipython",
    "version": 3
   },
   "file_extension": ".py",
   "mimetype": "text/x-python",
   "name": "python",
   "nbconvert_exporter": "python",
   "pygments_lexer": "ipython3",
   "version": "3.6.3"
  }
 },
 "nbformat": 4,
 "nbformat_minor": 2
}
