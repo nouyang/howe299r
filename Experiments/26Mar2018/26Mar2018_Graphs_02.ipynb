{
 "cells": [
  {
   "cell_type": "markdown",
   "metadata": {},
   "source": [
    "# Heading\n"
   ]
  },
  {
   "cell_type": "code",
   "execution_count": 46,
   "metadata": {},
   "outputs": [
    {
     "name": "stdout",
     "output_type": "stream",
     "text": [
      "8\n",
      "8\n",
      "0   -0.4375\n",
      "1   -1.0625\n",
      "2   -1.8750\n",
      "3   -2.6875\n",
      "4   -3.7500\n",
      "5   -4.5625\n",
      "6   -5.8125\n",
      "7   -6.1250\n",
      "Name: y, dtype: float64\n",
      "8\n"
     ]
    }
   ],
   "source": [
    "import pandas as pd\n",
    "import numpy as np\n",
    "import matplotlib.pyplot as plt\n",
    "\n",
    "path ='/home/nrw/Documents/projects_Spring2018/howe299r/Experiments/26Mar2018/data/deltas/'\n",
    "viz = '02April.csv'\n",
    "imu = '02IMU.csv'\n",
    "vizf = pd.read_csv(path+viz,sep='\\t')\n",
    "vizf.dropna(how=\"all\", inplace=True) \n",
    "imuf = pd.read_csv(path+imu,sep='\\t')\n",
    "imuf.dropna(how=\"all\", inplace=True) \n",
    "\n",
    "yaw, pitch, roll = vizf[\"yaw\"], vizf[\"pitch\"], vizf[\"roll\"]\n",
    "yaw, pitch, roll = vizf[\"yaw\"]*57.29578, vizf[\"pitch\"]*57.29578, vizf[\"roll\"]*57.29578\n",
    "xIMU,yIMU,zIMU = imuf[\"x\"], imuf[\"y\"], imuf[\"z\"]\n",
    "\n",
    "forces = np.arange(0,yaw.shape[0]*10,10)\n",
    "\n",
    "#print(len(yaw))\n",
    "#print(len(yIMU))\n",
    "#print(yIMU)\n",
    "#print(roll)\n",
    "#print(pitch)\n",
    "#print(len(forces))"
   ]
  },
  {
   "cell_type": "code",
   "execution_count": 47,
   "metadata": {
    "scrolled": true
   },
   "outputs": [
    {
     "data": {
      "image/png": "[encoded data removed]",
      "text/plain": [
       "<Figure size 432x288 with 1 Axes>"
      ]
     },
     "metadata": {},
     "output_type": "display_data"
    }
   ],
   "source": [
    "plt.scatter(forces, yIMU, label='imu')\n",
    "plt.scatter(forces, yaw, label='aprilTags')\n",
    "plt.ylabel('degrees')\n",
    "plt.xlabel('force (g)')\n",
    "plt.legend()\n",
    "plt.show()"
   ]
  },
  {
   "cell_type": "code",
   "execution_count": 31,
   "metadata": {},
   "outputs": [
    {
     "data": {
      "text/html": [
       "<script>requirejs.config({paths: { 'plotly': ['https://cdn.plot.ly/plotly-latest.min']},});if(!window.Plotly) {{require(['plotly'],function(plotly) {window.Plotly=plotly;});}}</script>"
      ],
      "text/vnd.plotly.v1+html": [
       "<script>requirejs.config({paths: { 'plotly': ['https://cdn.plot.ly/plotly-latest.min']},});if(!window.Plotly) {{require(['plotly'],function(plotly) {window.Plotly=plotly;});}}</script>"
      ]
     },
     "metadata": {},
     "output_type": "display_data"
    },
    {
     "ename": "ValueError",
     "evalue": "Input contains NaN, infinity or a value too large for dtype('float64').",
     "output_type": "error",
     "traceback": [
      "\u001b[0;31m---------------------------------------------------------------------------\u001b[0m",
      "\u001b[0;31mValueError\u001b[0m                                Traceback (most recent call last)",
      "\u001b[0;32m<ipython-input-31-6be00f2edc1d>\u001b[0m in \u001b[0;36m<module>\u001b[0;34m()\u001b[0m\n\u001b[1;32m     21\u001b[0m \u001b[0;31m#regr= Ridge(fit_intercept=True, alpha=1.0, random_state=0, normalize=True)\u001b[0m\u001b[0;34m\u001b[0m\u001b[0;34m\u001b[0m\u001b[0m\n\u001b[1;32m     22\u001b[0m \u001b[0mregr\u001b[0m \u001b[0;34m=\u001b[0m \u001b[0mlinear_model\u001b[0m\u001b[0;34m.\u001b[0m\u001b[0mLinearRegression\u001b[0m\u001b[0;34m(\u001b[0m\u001b[0;34m)\u001b[0m\u001b[0;34m\u001b[0m\u001b[0m\n\u001b[0;32m---> 23\u001b[0;31m \u001b[0mregr\u001b[0m\u001b[0;34m.\u001b[0m\u001b[0mfit\u001b[0m\u001b[0;34m(\u001b[0m\u001b[0mmyX\u001b[0m\u001b[0;34m,\u001b[0m \u001b[0mmyy\u001b[0m\u001b[0;34m)\u001b[0m\u001b[0;34m\u001b[0m\u001b[0m\n\u001b[0m\u001b[1;32m     24\u001b[0m \u001b[0mcoef_ridge\u001b[0m \u001b[0;34m=\u001b[0m \u001b[0mregr\u001b[0m\u001b[0;34m.\u001b[0m\u001b[0mcoef_\u001b[0m\u001b[0;34m\u001b[0m\u001b[0m\n\u001b[1;32m     25\u001b[0m \u001b[0mgridx\u001b[0m \u001b[0;34m=\u001b[0m \u001b[0mnp\u001b[0m\u001b[0;34m.\u001b[0m\u001b[0mlinspace\u001b[0m\u001b[0;34m(\u001b[0m\u001b[0mmyX\u001b[0m\u001b[0;34m.\u001b[0m\u001b[0mmin\u001b[0m\u001b[0;34m(\u001b[0m\u001b[0;34m)\u001b[0m\u001b[0;34m,\u001b[0m \u001b[0mmyX\u001b[0m\u001b[0;34m.\u001b[0m\u001b[0mmax\u001b[0m\u001b[0;34m(\u001b[0m\u001b[0;34m)\u001b[0m\u001b[0;34m,\u001b[0m \u001b[0;36m20\u001b[0m\u001b[0;34m)\u001b[0m\u001b[0;34m\u001b[0m\u001b[0m\n",
      "\u001b[0;32m~/Documents/projects_Spring2018/howe299r/Experiments/venv/lib/python3.6/site-packages/sklearn/linear_model/base.py\u001b[0m in \u001b[0;36mfit\u001b[0;34m(self, X, y, sample_weight)\u001b[0m\n\u001b[1;32m    480\u001b[0m         \u001b[0mn_jobs_\u001b[0m \u001b[0;34m=\u001b[0m \u001b[0mself\u001b[0m\u001b[0;34m.\u001b[0m\u001b[0mn_jobs\u001b[0m\u001b[0;34m\u001b[0m\u001b[0m\n\u001b[1;32m    481\u001b[0m         X, y = check_X_y(X, y, accept_sparse=['csr', 'csc', 'coo'],\n\u001b[0;32m--> 482\u001b[0;31m                          y_numeric=True, multi_output=True)\n\u001b[0m\u001b[1;32m    483\u001b[0m \u001b[0;34m\u001b[0m\u001b[0m\n\u001b[1;32m    484\u001b[0m         \u001b[0;32mif\u001b[0m \u001b[0msample_weight\u001b[0m \u001b[0;32mis\u001b[0m \u001b[0;32mnot\u001b[0m \u001b[0;32mNone\u001b[0m \u001b[0;32mand\u001b[0m \u001b[0mnp\u001b[0m\u001b[0;34m.\u001b[0m\u001b[0matleast_1d\u001b[0m\u001b[0;34m(\u001b[0m\u001b[0msample_weight\u001b[0m\u001b[0;34m)\u001b[0m\u001b[0;34m.\u001b[0m\u001b[0mndim\u001b[0m \u001b[0;34m>\u001b[0m \u001b[0;36m1\u001b[0m\u001b[0;34m:\u001b[0m\u001b[0;34m\u001b[0m\u001b[0m\n",
      "\u001b[0;32m~/Documents/projects_Spring2018/howe299r/Experiments/venv/lib/python3.6/site-packages/sklearn/utils/validation.py\u001b[0m in \u001b[0;36mcheck_X_y\u001b[0;34m(X, y, accept_sparse, dtype, order, copy, force_all_finite, ensure_2d, allow_nd, multi_output, ensure_min_samples, ensure_min_features, y_numeric, warn_on_dtype, estimator)\u001b[0m\n\u001b[1;32m    574\u001b[0m     \u001b[0;32mif\u001b[0m \u001b[0mmulti_output\u001b[0m\u001b[0;34m:\u001b[0m\u001b[0;34m\u001b[0m\u001b[0m\n\u001b[1;32m    575\u001b[0m         y = check_array(y, 'csr', force_all_finite=True, ensure_2d=False,\n\u001b[0;32m--> 576\u001b[0;31m                         dtype=None)\n\u001b[0m\u001b[1;32m    577\u001b[0m     \u001b[0;32melse\u001b[0m\u001b[0;34m:\u001b[0m\u001b[0;34m\u001b[0m\u001b[0m\n\u001b[1;32m    578\u001b[0m         \u001b[0my\u001b[0m \u001b[0;34m=\u001b[0m \u001b[0mcolumn_or_1d\u001b[0m\u001b[0;34m(\u001b[0m\u001b[0my\u001b[0m\u001b[0;34m,\u001b[0m \u001b[0mwarn\u001b[0m\u001b[0;34m=\u001b[0m\u001b[0;32mTrue\u001b[0m\u001b[0;34m)\u001b[0m\u001b[0;34m\u001b[0m\u001b[0m\n",
      "\u001b[0;32m~/Documents/projects_Spring2018/howe299r/Experiments/venv/lib/python3.6/site-packages/sklearn/utils/validation.py\u001b[0m in \u001b[0;36mcheck_array\u001b[0;34m(array, accept_sparse, dtype, order, copy, force_all_finite, ensure_2d, allow_nd, ensure_min_samples, ensure_min_features, warn_on_dtype, estimator)\u001b[0m\n\u001b[1;32m    451\u001b[0m                              % (array.ndim, estimator_name))\n\u001b[1;32m    452\u001b[0m         \u001b[0;32mif\u001b[0m \u001b[0mforce_all_finite\u001b[0m\u001b[0;34m:\u001b[0m\u001b[0;34m\u001b[0m\u001b[0m\n\u001b[0;32m--> 453\u001b[0;31m             \u001b[0m_assert_all_finite\u001b[0m\u001b[0;34m(\u001b[0m\u001b[0marray\u001b[0m\u001b[0;34m)\u001b[0m\u001b[0;34m\u001b[0m\u001b[0m\n\u001b[0m\u001b[1;32m    454\u001b[0m \u001b[0;34m\u001b[0m\u001b[0m\n\u001b[1;32m    455\u001b[0m     \u001b[0mshape_repr\u001b[0m \u001b[0;34m=\u001b[0m \u001b[0m_shape_repr\u001b[0m\u001b[0;34m(\u001b[0m\u001b[0marray\u001b[0m\u001b[0;34m.\u001b[0m\u001b[0mshape\u001b[0m\u001b[0;34m)\u001b[0m\u001b[0;34m\u001b[0m\u001b[0m\n",
      "\u001b[0;32m~/Documents/projects_Spring2018/howe299r/Experiments/venv/lib/python3.6/site-packages/sklearn/utils/validation.py\u001b[0m in \u001b[0;36m_assert_all_finite\u001b[0;34m(X)\u001b[0m\n\u001b[1;32m     42\u001b[0m             and not np.isfinite(X).all()):\n\u001b[1;32m     43\u001b[0m         raise ValueError(\"Input contains NaN, infinity\"\n\u001b[0;32m---> 44\u001b[0;31m                          \" or a value too large for %r.\" % X.dtype)\n\u001b[0m\u001b[1;32m     45\u001b[0m \u001b[0;34m\u001b[0m\u001b[0m\n\u001b[1;32m     46\u001b[0m \u001b[0;34m\u001b[0m\u001b[0m\n",
      "\u001b[0;31mValueError\u001b[0m: Input contains NaN, infinity or a value too large for dtype('float64')."
     ]
    }
   ],
   "source": [
    "import numpy as np\n",
    "import plotly.plotly as py\n",
    "import plotly.offline as po\n",
    "import plotly.graph_objs as go\n",
    "from sklearn import linear_model\n",
    "from sklearn.linear_model import Ridge\n",
    "from sklearn.metrics import mean_squared_error, r2_score\n",
    "\n",
    "po.init_notebook_mode(connected=True)\n",
    "\n",
    "trace0 = go.Scatter( x = forces, y = yIMU, mode = 'markers',\n",
    "    name = 'degrees (by IMU)' )\n",
    "\n",
    "trace1 = go.Scatter( x = forces, y = yaw, mode = 'markers',\n",
    "    name = 'true degrees (by apriltag)' )\n",
    "\n",
    "\n",
    "forces = forces.reshape(-1, 1)\n",
    "myX = forces\n",
    "myy = yIMU \n",
    "#regr= Ridge(fit_intercept=True, alpha=1.0, random_state=0, normalize=True)\n",
    "regr = linear_model.LinearRegression()\n",
    "regr.fit(myX, myy)\n",
    "coef_ridge = regr.coef_\n",
    "gridx = np.linspace(myX.min(), myX.max(), 20)\n",
    "coef_ = regr.coef_ * gridx + regr.intercept_\n",
    "yPred= regr.predict(myX) \n",
    "#plt.plot(gridx, coef_, 'g-', label=\"ridge regression\")\n",
    "\n",
    "trace2 = go.Scatter( x= gridx, y = coef_,\n",
    "    name = 'linear fit (w/ridge penalty)' )\n",
    "           "
   ]
  },
  {
   "cell_type": "code",
   "execution_count": 19,
   "metadata": {},
   "outputs": [
    {
     "name": "stdout",
     "output_type": "stream",
     "text": [
      "Coefficients: \n",
      " [-0.07849702]\n",
      "Mean squared error: 0.08\n",
      "Variance score (ideal 1): 0.98\n"
     ]
    },
    {
     "data": {
      "application/vnd.plotly.v1+json": {
       "data": [
        {
         "mode": "markers",
         "name": "true degrees (by apriltag)",
         "type": "scatter",
         "x": [
          0,
          10,
          20,
          30,
          40,
          50,
          60,
          70
         ],
         "y": [
          -0.76782074778,
          -1.5460120317400001,
          -2.5872482416800002,
          -3.23245602026,
          -4.4463244153399994,
          -5.088724700699999,
          -6.1269242343,
          -6.37455659546
         ]
        },
        {
         "mode": "markers",
         "name": "degrees (by IMU)",
         "type": "scatter",
         "x": [
          0,
          10,
          20,
          30,
          40,
          50,
          60,
          70
         ],
         "y": [
          -0.3125,
          -1.4375,
          -2.4375,
          -3.25,
          -3.75,
          -4,
          -5.625,
          -6
         ]
        },
        {
         "name": "linear fit (w/ridge penalty)",
         "type": "scatter",
         "x": [
          0,
          3.6842105263157894,
          7.368421052631579,
          11.052631578947368,
          14.736842105263158,
          18.421052631578945,
          22.105263157894736,
          25.789473684210527,
          29.473684210526315,
          33.1578947368421,
          36.84210526315789,
          40.526315789473685,
          44.21052631578947,
          47.89473684210526,
          51.578947368421055,
          55.26315789473684,
          58.94736842105263,
          62.63157894736842,
          66.3157894736842,
          70
         ],
         "y": [
          -0.6041666666666661,
          -0.8933662280701749,
          -1.1825657894736836,
          -1.4717653508771926,
          -1.7609649122807014,
          -2.0501644736842097,
          -2.339364035087719,
          -2.6285635964912277,
          -2.9177631578947367,
          -3.2069627192982453,
          -3.496162280701754,
          -3.7853618421052633,
          -4.074561403508772,
          -4.363760964912281,
          -4.652960526315789,
          -4.942160087719298,
          -5.231359649122807,
          -5.520559210526316,
          -5.8097587719298245,
          -6.098958333333334
         ]
        }
       ],
       "layout": {
        "legend": {
         "x": 0.1,
         "y": -0.5
        },
        "title": "Force vs Degrees of Deflection",
        "xaxis": {
         "title": "Force (in grams)"
        },
        "yaxis": {
         "title": "degrees"
        }
       }
      },
      "text/html": [
       "<div id=\"bb25e4c3-c112-45c4-94c9-02d420f2e446\" style=\"height: 525px; width: 100%;\" class=\"plotly-graph-div\"></div><script type=\"text/javascript\">require([\"plotly\"], function(Plotly) { window.PLOTLYENV=window.PLOTLYENV || {};window.PLOTLYENV.BASE_URL=\"https://plot.ly\";Plotly.newPlot(\"bb25e4c3-c112-45c4-94c9-02d420f2e446\", [{\"type\": \"scatter\", \"x\": [0, 10, 20, 30, 40, 50, 60, 70], \"y\": [-0.76782074778, -1.5460120317400001, -2.5872482416800002, -3.23245602026, -4.4463244153399994, -5.088724700699999, -6.1269242343, -6.37455659546], \"mode\": \"markers\", \"name\": \"true degrees (by apriltag)\"}, {\"type\": \"scatter\", \"x\": [0, 10, 20, 30, 40, 50, 60, 70], \"y\": [-0.3125, -1.4375, -2.4375, -3.25, -3.75, -4.0, -5.625, -6.0], \"mode\": \"markers\", \"name\": \"degrees (by IMU)\"}, {\"type\": \"scatter\", \"x\": [0.0, 3.6842105263157894, 7.368421052631579, 11.052631578947368, 14.736842105263158, 18.421052631578945, 22.105263157894736, 25.789473684210527, 29.473684210526315, 33.1578947368421, 36.84210526315789, 40.526315789473685, 44.21052631578947, 47.89473684210526, 51.578947368421055, 55.26315789473684, 58.94736842105263, 62.63157894736842, 66.3157894736842, 70.0], \"y\": [-0.6041666666666661, -0.8933662280701749, -1.1825657894736836, -1.4717653508771926, -1.7609649122807014, -2.0501644736842097, -2.339364035087719, -2.6285635964912277, -2.9177631578947367, -3.2069627192982453, -3.496162280701754, -3.7853618421052633, -4.074561403508772, -4.363760964912281, -4.652960526315789, -4.942160087719298, -5.231359649122807, -5.520559210526316, -5.8097587719298245, -6.098958333333334], \"name\": \"linear fit (w/ridge penalty)\"}], {\"title\": \"Force vs Degrees of Deflection\", \"yaxis\": {\"title\": \"degrees\"}, \"xaxis\": {\"title\": \"Force (in grams)\"}, \"legend\": {\"x\": 0.1, \"y\": -0.5}}, {\"showLink\": true, \"linkText\": \"Export to plot.ly\"})});</script>"
      ],
      "text/vnd.plotly.v1+html": [
       "<div id=\"bb25e4c3-c112-45c4-94c9-02d420f2e446\" style=\"height: 525px; width: 100%;\" class=\"plotly-graph-div\"></div><script type=\"text/javascript\">require([\"plotly\"], function(Plotly) { window.PLOTLYENV=window.PLOTLYENV || {};window.PLOTLYENV.BASE_URL=\"https://plot.ly\";Plotly.newPlot(\"bb25e4c3-c112-45c4-94c9-02d420f2e446\", [{\"type\": \"scatter\", \"x\": [0, 10, 20, 30, 40, 50, 60, 70], \"y\": [-0.76782074778, -1.5460120317400001, -2.5872482416800002, -3.23245602026, -4.4463244153399994, -5.088724700699999, -6.1269242343, -6.37455659546], \"mode\": \"markers\", \"name\": \"true degrees (by apriltag)\"}, {\"type\": \"scatter\", \"x\": [0, 10, 20, 30, 40, 50, 60, 70], \"y\": [-0.3125, -1.4375, -2.4375, -3.25, -3.75, -4.0, -5.625, -6.0], \"mode\": \"markers\", \"name\": \"degrees (by IMU)\"}, {\"type\": \"scatter\", \"x\": [0.0, 3.6842105263157894, 7.368421052631579, 11.052631578947368, 14.736842105263158, 18.421052631578945, 22.105263157894736, 25.789473684210527, 29.473684210526315, 33.1578947368421, 36.84210526315789, 40.526315789473685, 44.21052631578947, 47.89473684210526, 51.578947368421055, 55.26315789473684, 58.94736842105263, 62.63157894736842, 66.3157894736842, 70.0], \"y\": [-0.6041666666666661, -0.8933662280701749, -1.1825657894736836, -1.4717653508771926, -1.7609649122807014, -2.0501644736842097, -2.339364035087719, -2.6285635964912277, -2.9177631578947367, -3.2069627192982453, -3.496162280701754, -3.7853618421052633, -4.074561403508772, -4.363760964912281, -4.652960526315789, -4.942160087719298, -5.231359649122807, -5.520559210526316, -5.8097587719298245, -6.098958333333334], \"name\": \"linear fit (w/ridge penalty)\"}], {\"title\": \"Force vs Degrees of Deflection\", \"yaxis\": {\"title\": \"degrees\"}, \"xaxis\": {\"title\": \"Force (in grams)\"}, \"legend\": {\"x\": 0.1, \"y\": -0.5}}, {\"showLink\": true, \"linkText\": \"Export to plot.ly\"})});</script>"
      ]
     },
     "metadata": {},
     "output_type": "display_data"
    }
   ],
   "source": [
    "data = [trace1, trace0, trace2]\n",
    "\n",
    "layout = go.Layout(\n",
    "    title='Force vs Degrees of Deflection',\n",
    "    yaxis=dict(title='degrees'),\n",
    "    xaxis=dict(title='Force (in grams)'),\n",
    "    legend=dict(x=.1, y=-.5) )\n",
    "\n",
    "fig = go.Figure(data=data, layout=layout)\n",
    "# Plot and embed in ipython notebook!\n",
    "\n",
    "print('Coefficients: \\n', regr.coef_)\n",
    "print(\"Mean squared error: %.2f\" % mean_squared_error(yIMU, yPred))\n",
    "print('Variance score (ideal 1): %.2f' % r2_score(yIMU, yPred)) \n",
    "iplot(fig)\n",
    "#po.plot(fig, filename='temp_plot.html')"
   ]
  },
  {
   "cell_type": "code",
   "execution_count": 27,
   "metadata": {},
   "outputs": [
    {
     "data": {
      "application/vnd.plotly.v1+json": {
       "data": [
        {
         "mode": "markers",
         "name": "resid",
         "type": "scatter",
         "x": [
          -0.3125,
          -1.4375,
          -2.4375,
          -3.25,
          -3.75,
          -4,
          -5.625,
          -6
         ],
         "y": [
          0.2916666666666661,
          -0.04836309523809579,
          -0.26339285714285765,
          -0.29092261904761907,
          -0.005952380952380931,
          0.5290178571428577,
          -0.3110119047619042,
          0.09895833333333393
         ]
        }
       ],
       "layout": {
        "legend": {
         "x": 0.1,
         "y": -0.5
        },
        "title": "Residuals",
        "xaxis": {
         "title": "yIMU (degrees)"
        },
        "yaxis": {
         "title": "residuals"
        }
       }
      },
      "text/html": [
       "<div id=\"ced07c16-2a60-4ab5-91e4-642beecbd90c\" style=\"height: 525px; width: 100%;\" class=\"plotly-graph-div\"></div><script type=\"text/javascript\">require([\"plotly\"], function(Plotly) { window.PLOTLYENV=window.PLOTLYENV || {};window.PLOTLYENV.BASE_URL=\"https://plot.ly\";Plotly.newPlot(\"ced07c16-2a60-4ab5-91e4-642beecbd90c\", [{\"type\": \"scatter\", \"x\": [-0.3125, -1.4375, -2.4375, -3.25, -3.75, -4.0, -5.625, -6.0], \"y\": [0.2916666666666661, -0.04836309523809579, -0.26339285714285765, -0.29092261904761907, -0.005952380952380931, 0.5290178571428577, -0.3110119047619042, 0.09895833333333393], \"mode\": \"markers\", \"name\": \"resid\"}], {\"title\": \"Residuals\", \"yaxis\": {\"title\": \"residuals\"}, \"xaxis\": {\"title\": \"yIMU (degrees)\"}, \"legend\": {\"x\": 0.1, \"y\": -0.5}}, {\"showLink\": true, \"linkText\": \"Export to plot.ly\"})});</script>"
      ],
      "text/vnd.plotly.v1+html": [
       "<div id=\"ced07c16-2a60-4ab5-91e4-642beecbd90c\" style=\"height: 525px; width: 100%;\" class=\"plotly-graph-div\"></div><script type=\"text/javascript\">require([\"plotly\"], function(Plotly) { window.PLOTLYENV=window.PLOTLYENV || {};window.PLOTLYENV.BASE_URL=\"https://plot.ly\";Plotly.newPlot(\"ced07c16-2a60-4ab5-91e4-642beecbd90c\", [{\"type\": \"scatter\", \"x\": [-0.3125, -1.4375, -2.4375, -3.25, -3.75, -4.0, -5.625, -6.0], \"y\": [0.2916666666666661, -0.04836309523809579, -0.26339285714285765, -0.29092261904761907, -0.005952380952380931, 0.5290178571428577, -0.3110119047619042, 0.09895833333333393], \"mode\": \"markers\", \"name\": \"resid\"}], {\"title\": \"Residuals\", \"yaxis\": {\"title\": \"residuals\"}, \"xaxis\": {\"title\": \"yIMU (degrees)\"}, \"legend\": {\"x\": 0.1, \"y\": -0.5}}, {\"showLink\": true, \"linkText\": \"Export to plot.ly\"})});</script>"
      ]
     },
     "metadata": {},
     "output_type": "display_data"
    }
   ],
   "source": [
    "resid = yIMU - yPred\n",
    "layout = go.Layout(\n",
    "    title='Force vs Degrees of Deflection',\n",
    "    yaxis=dict(title='degrees'),\n",
    "    xaxis=dict(title='Force (in grams)'),\n",
    "    legend=dict(x=.1, y=-.5) )\n",
    "traceResid = go.Scatter( x = yIMU, y = resid, mode = 'markers',\n",
    "    name = 'resid' )\n",
    "data = [traceResid]\n",
    "layout = go.Layout(\n",
    "    title='Residuals',\n",
    "    yaxis=dict(title='residuals'),\n",
    "    xaxis=dict(title='yIMU (degrees)'),\n",
    "    legend=dict(x=.1, y=-.5) )\n",
    "\n",
    "fig = go.Figure(data=data, layout=layout)\n",
    "iplot(fig)"
   ]
  },
  {
   "cell_type": "code",
   "execution_count": null,
   "metadata": {},
   "outputs": [],
   "source": []
  },
  {
   "cell_type": "code",
   "execution_count": null,
   "metadata": {},
   "outputs": [],
   "source": []
  }
 ],
 "metadata": {
  "kernelspec": {
   "display_name": "Python 3",
   "language": "python",
   "name": "python3"
  },
  "language_info": {
   "codemirror_mode": {
    "name": "ipython",
    "version": 3
   },
   "file_extension": ".py",
   "mimetype": "text/x-python",
   "name": "python",
   "nbconvert_exporter": "python",
   "pygments_lexer": "ipython3",
   "version": "3.6.3"
  }
 },
 "nbformat": 4,
 "nbformat_minor": 2
}
